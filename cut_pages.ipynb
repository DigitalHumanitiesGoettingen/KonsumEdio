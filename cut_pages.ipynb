{
 "cells": [
  {
   "cell_type": "markdown",
   "metadata": {},
   "source": [
    "# Bilder zerschneiden\n",
    "\n",
    "Diese Routine zerschneidet Seiten mit Anzeigen in einzelne Bilder, die jeweils eine Anzeige erhalten.\n",
    "\n",
    "## Vorraussetzungen\n",
    "- Im Ordner ``../input/prep/bin`` liegen binäre Varianten der Seiten, die zerschnitten werden sollen.\n",
    "    - Dafür kann das Notebook ``prep_images.ipynb`` verwendet werden.\n",
    "\n",
    "## Ergebnis\n",
    "- Im Ordner ``../output`` liegt für jede Seite jeweils ein Ordner, der alle auf dieser Seite enthaltenen Anzeigen als einzelne Bilder enthält"
   ]
  },
  {
   "cell_type": "markdown",
   "metadata": {},
   "source": [
    "### Imports"
   ]
  },
  {
   "cell_type": "code",
   "execution_count": 2,
   "metadata": {},
   "outputs": [],
   "source": [
    "from skimage.io import imread, imsave\n",
    "from skimage.draw import line\n",
    "import os\n",
    "import shutil\n"
   ]
  },
  {
   "cell_type": "markdown",
   "metadata": {},
   "source": [
    "### Definitionen"
   ]
  },
  {
   "cell_type": "code",
   "execution_count": 3,
   "metadata": {},
   "outputs": [],
   "source": [
    "import_path = '../input/prep/bin/sturm1910_1911_0011.jpg'\n",
    "filename = 'sturm1910_1911_0011.jpg'\n",
    "export_path = '../output/1910_1911_0011/'"
   ]
  },
  {
   "cell_type": "markdown",
   "metadata": {},
   "source": [
    "```find_vertical_line``` \n",
    "\n",
    "Die Methode `find_vertical_line` zieht vertikale Linien durch ein übergebenes Bild, wenn dies möglich ist, das heißt wenn eine Linie mit mindestens der Länge `min_percentage * Höhe des Bildes` existiert, die gezogen werden kann. Eine Linie wird entlang weißer Pixel gezogen und beendet, sobald ein schwarzes Pixel auftaucht.\n",
    "\n",
    "### Input\n",
    "- *image*: binäres Bildobjekt, angelegt durch `imread` o.Ä.\n",
    "- *start_at*: Pixel, ab dem die Linie gezogen werden soll. In der ersten Iteration kann es sinnvoll sein hier z.B. 50 zu wählen. Dann hindert ein schmaler schwarzer Rand die Methode nicht daran, Linien zu ziehen\n",
    "- *min_percentage*: Minimale Länge einer Linie als Prozentteil der Seite\n",
    "\n",
    "### Output\n",
    "- *lines* : Liste aus Listen. Jede innere Liste repräsentiert eine Linie und hat das Format `[0, Spalte, Endzeile, Spalte]`\n",
    "\n",
    "\n"
   ]
  },
  {
   "cell_type": "code",
   "execution_count": 4,
   "metadata": {},
   "outputs": [],
   "source": [
    "def find_vertical_line(image, start_at, min_percentage):\n",
    "    lines = []\n",
    "    num_rows, num_columns = image.shape\n",
    "    min_len = int(min_percentage*num_rows)\n",
    "    for i in range(0, num_columns):\n",
    "        row_position = start_at\n",
    "        count = 0\n",
    "        while (image[row_position][i]):\n",
    "            row_position += 1\n",
    "            if(row_position == num_rows-1):\n",
    "                break\n",
    "            count += 1\n",
    "        if(count > min_len):\n",
    "            lines.append([0 , i , row_position, i])\n",
    "    return lines"
   ]
  },
  {
   "cell_type": "markdown",
   "metadata": {},
   "source": [
    "```find_horizontal_line``` \n",
    "\n",
    "Die Methode `find_horizontal_line` zieht horizontale Linien durch ein übergebenes Bild, wenn dies möglich ist, das heißt wenn eine Linie mit mindestens der Länge `min_percentage * Breite des Bildes` existiert, die gezogen werden kann. Eine Linie wird entlang weißer Pixel gezogen und beendet, sobald ein schwarzes Pixel auftaucht.\n",
    "\n",
    "### Input\n",
    "- *image*: binäres Bildobjekt, angelegt durch `imread` o.Ä.\n",
    "- *start_at*: Pixel, ab dem die Linie gezogen werden soll. In der ersten Iteration kann es sinnvoll sein hier z.B. 50 zu wählen. Dann hindert ein schmaler schwarzer Rand die Methode nicht daran, Linien zu ziehen\n",
    "- *min_percentage*: Minimale Länge einer Linie als Prozentteil der Seite\n",
    "\n",
    "### Output\n",
    "- *lines* : Liste aus Listen. Jede innere Liste repräsentiert eine Linie und hat das Format `[Reihe, 0, Reihe, Endzeile]`\n",
    "\n",
    "\n"
   ]
  },
  {
   "cell_type": "code",
   "execution_count": 5,
   "metadata": {},
   "outputs": [],
   "source": [
    "def find_horizontal_line(image, start_at, min_percentage):\n",
    "    lines = []\n",
    "    num_rows, num_columns = image.shape\n",
    "    #print(num_rows, num_columns)\n",
    "    min_len = int(min_percentage*num_columns)\n",
    "    for i in range(0, num_rows):\n",
    "        col_position = start_at\n",
    "        count = 0\n",
    "        while(image[i][col_position]):\n",
    "            col_position += 1\n",
    "            if(col_position == num_columns-1):\n",
    "                break\n",
    "            count += 1\n",
    "        if(count > min_len):\n",
    "            lines.append([i, 0, i, col_position])\n",
    "    return lines"
   ]
  },
  {
   "cell_type": "code",
   "execution_count": 6,
   "metadata": {},
   "outputs": [],
   "source": [
    "def find_vertical_line_clusters(lines):\n",
    "    clusters = []\n",
    "    if len(lines) == 0:\n",
    "        return []\n",
    "    first_line = lines[0]\n",
    "    last_line = []\n",
    "    for i in range (1, len(lines)):\n",
    "        start_i = lines[i][1]\n",
    "        start_prev = lines[i-1][1]\n",
    "        if(abs(start_i - start_prev) > 5):\n",
    "            last_line = lines[i-1]\n",
    "            if last_line[1]-first_line[1] > 1:\n",
    "                clusters.append((first_line, last_line))\n",
    "            first_line = lines[i]\n",
    "            last_line = []\n",
    "    return clusters"
   ]
  },
  {
   "cell_type": "code",
   "execution_count": 7,
   "metadata": {},
   "outputs": [],
   "source": [
    "def find_horizontal_line_clusters(lines):\n",
    "    clusters = []\n",
    "    if len(lines) == 0:\n",
    "        return []\n",
    "    first_line = lines[0]\n",
    "    last_line = []\n",
    "    for i in range (1, len(lines)):\n",
    "        start_i = lines[i][0]\n",
    "        start_prev = lines[i-1][0]\n",
    "        if(abs(start_i-start_prev) > 5):\n",
    "            last_line = lines[i-1]\n",
    "            if last_line[0]-first_line[0] > 1:\n",
    "                clusters.append((first_line, last_line))\n",
    "            first_line = lines[i]\n",
    "            last_line = []\n",
    "    return clusters"
   ]
  },
  {
   "cell_type": "code",
   "execution_count": 8,
   "metadata": {},
   "outputs": [],
   "source": [
    "def find_vertical_cuts(clusters):\n",
    "    cuts = []\n",
    "    for cluster in clusters:\n",
    "        #print(cluster, cluster[1][1], cluster[0][1])\n",
    "        cut = cluster[0][1] + int((cluster[1][1]-cluster[0][1])/2)\n",
    "        cuts.append(cut)\n",
    "    return cuts"
   ]
  },
  {
   "cell_type": "code",
   "execution_count": 9,
   "metadata": {},
   "outputs": [],
   "source": [
    "def find_horizontal_cuts(clusters):\n",
    "    cuts = []\n",
    "    for cluster in clusters:\n",
    "        cut = cluster[0][0] + int((cluster[1][0]-cluster[0][0])/2)\n",
    "        cuts.append(cut)\n",
    "    return cuts"
   ]
  },
  {
   "cell_type": "code",
   "execution_count": 10,
   "metadata": {},
   "outputs": [],
   "source": [
    "def cut_page_vertically(image, cuts, debug):\n",
    "    splitted_image = []\n",
    "    offset = 0\n",
    "    for i in range(0, len(cuts)):\n",
    "        if(debug):\n",
    "            print(\"Appending all coulmns til \" + str(cuts[i]))\n",
    "        splitted_image.append(image[:,:cuts[i]-offset])\n",
    "        if(debug):\n",
    "            print(\"Shape of splitted image: \" + str(splitted_image[-1].shape))\n",
    "        image = image[:,cuts[i]-offset:]\n",
    "        offset += cuts[i]-offset\n",
    "        if(debug):\n",
    "            print(\"Shape of remaining image: \"+str(image.shape))\n",
    "    splitted_image.append(image)\n",
    "    return splitted_image"
   ]
  },
  {
   "cell_type": "code",
   "execution_count": 11,
   "metadata": {},
   "outputs": [],
   "source": [
    "def cut_page_horizontally(image, cuts, debug):\n",
    "    splitted_image = []\n",
    "    offset = 0\n",
    "    for i in range(0, len(cuts)):\n",
    "        if(debug):\n",
    "            print(\"Appending all rows til \"+str(cuts[i]))\n",
    "        splitted_image.append(image[:cuts[i]-offset,:])\n",
    "        if(debug):\n",
    "            print(\"Shape of splitted image: \"+str(splitted_image[-1].shape))\n",
    "        image = image[cuts[i]-offset:,:]\n",
    "        offset += cuts[i]-offset\n",
    "        if(debug):\n",
    "            print(\"Shape of remaining image: \"+str(image.shape))\n",
    "    splitted_image.append(image)\n",
    "    return splitted_image"
   ]
  },
  {
   "cell_type": "code",
   "execution_count": 12,
   "metadata": {},
   "outputs": [],
   "source": [
    "def slice_vertically(image, first_slice):\n",
    "    if first_slice:\n",
    "        lines = find_vertical_line(image, 50, 0.5)\n",
    "    else:\n",
    "        lines = find_vertical_line(image, 0, 0.95)\n",
    "    clusters = find_vertical_line_clusters(lines)\n",
    "    cuts = find_vertical_cuts(clusters)\n",
    "    splitted_image = cut_page_vertically(image, cuts, False)\n",
    "    return splitted_image\n",
    "    "
   ]
  },
  {
   "cell_type": "code",
   "execution_count": 13,
   "metadata": {},
   "outputs": [],
   "source": [
    "def slice_horizontally(image, first_slice):\n",
    "    if first_slice:\n",
    "        lines = find_horizontal_line(image, 50, 0.5)\n",
    "    else:\n",
    "        lines = find_horizontal_line(image, 0, 0.95)\n",
    "    clusters = find_horizontal_line_clusters(lines)\n",
    "    cuts = find_horizontal_cuts(clusters)\n",
    "    splitted_image = cut_page_horizontally(image, cuts, False)\n",
    "    return splitted_image"
   ]
  },
  {
   "cell_type": "code",
   "execution_count": 14,
   "metadata": {},
   "outputs": [],
   "source": [
    "def generate_line_plot(image, lines):\n",
    "    for l in lines:\n",
    "        rr,cc = line(l[0], l[1], l[2], l[3])\n",
    "        image[rr,cc] = 1\n",
    "    return image\n"
   ]
  },
  {
   "cell_type": "code",
   "execution_count": 15,
   "metadata": {},
   "outputs": [],
   "source": [
    "def test_lines(path):\n",
    "    image = imread(path)\n",
    "    v_lines = find_vertical_line(image, 50, 0.5)\n",
    "    h_lines = find_horizontal_line(image, 50,0.5)\n",
    "    #line_image = generate_line_plot(image, v_lines)\n",
    "    line_image = generate_line_plot(image, h_lines)\n",
    "    imsave('../output/lines.png', line_image)\n",
    "    return v_lines, h_lines"
   ]
  },
  {
   "cell_type": "code",
   "execution_count": 16,
   "metadata": {},
   "outputs": [],
   "source": [
    "def test_clusters(path, v_lines, h_lines):\n",
    "    image = imread(path)\n",
    "    #v_lines = find_vertical_line(image)\n",
    "    #h_lines = find_horizontal_line(image)\n",
    "    v_clusters = find_vertical_line_clusters(v_lines)\n",
    "    print(len(v_clusters))\n",
    "    h_clusters = find_horizontal_line_clusters(h_lines)\n",
    "    print(len(h_clusters))\n",
    "    lines = []\n",
    "    for vc in v_clusters:\n",
    "        print(\"Vertical cluster from\" + str(vc[0][1]) + \" to \" + str(vc[1][1]))\n",
    "        lines.append(vc[0])\n",
    "        lines.append(vc[1])\n",
    "    for hc in h_clusters:\n",
    "        lines.append(hc[0])\n",
    "        lines.append(hc[1])\n",
    "    plot = generate_line_plot(image, lines)\n",
    "    imsave('../output/clusters.png', plot)\n",
    "    return v_clusters, h_clusters"
   ]
  },
  {
   "cell_type": "code",
   "execution_count": 17,
   "metadata": {},
   "outputs": [],
   "source": [
    "def test_cuts(path, v_clusters, h_clusters):\n",
    "    image = imread(path)\n",
    "    v_cuts = find_vertical_cuts(v_clusters)\n",
    "    h_cuts = find_horizontal_cuts(h_clusters)\n",
    "    lines = []\n",
    "    for cut in v_cuts:\n",
    "        lines.append([0, cut, image.shape[0]-2, cut])\n",
    "    for cut in h_cuts:\n",
    "        lines.append([cut, 0, cut, image.shape[1]-2])\n",
    "    plotimage = imread('../input/prep/gray/sturm1910_1911_0011.jpg')\n",
    "    plot = generate_line_plot(plotimage, lines)\n",
    "    imsave('../output/cuts.png', plot)\n",
    "    return v_cuts, h_cuts"
   ]
  },
  {
   "cell_type": "code",
   "execution_count": 18,
   "metadata": {},
   "outputs": [],
   "source": [
    "def test_pagecut(import_path, export_path, v_cuts, h_cuts):\n",
    "    image = imread(import_path)\n",
    "    print(\"Shape of original image: \"+str(image.shape))\n",
    "    print(\"Expected vertical cuts: \")\n",
    "    for cut in v_cuts:\n",
    "        print(\"at \"+str(cut))\n",
    "    print(\"Expected horizontal cuts: \")\n",
    "    for cut in h_cuts:\n",
    "        print(\"at \"+str(cut))\n",
    "    v_images = cut_page_vertically(image, v_cuts, True)\n",
    "    h_images = cut_page_horizontally(image, h_cuts, True)\n",
    "    k = 0\n",
    "    for im in v_images:\n",
    "        imsave(export_path+str(k)+'v.png', im)\n",
    "        k += 1\n",
    "    k = 0\n",
    "    for im in h_images:\n",
    "        imsave(export_path+str(k)+'h.png', im)\n",
    "        k += 1\n"
   ]
  },
  {
   "cell_type": "code",
   "execution_count": 19,
   "metadata": {},
   "outputs": [],
   "source": [
    "def test(import_path, export_path):\n",
    "    v_lines, h_lines = test_lines(import_path)\n",
    "    v_clusters, h_clusters = test_clusters(import_path, v_lines, h_lines)\n",
    "    v_cuts, h_cuts = test_cuts(import_path, v_clusters, h_clusters)\n",
    "    test_pagecut(import_path, export_path, v_cuts, h_cuts)"
   ]
  },
  {
   "cell_type": "code",
   "execution_count": 20,
   "metadata": {},
   "outputs": [],
   "source": [
    "def vertical_split(image, px_start, min_len, debug=False):\n",
    "    lines = find_vertical_line(image, px_start, min_len)\n",
    "    clusters = find_vertical_line_clusters(lines)\n",
    "    #if(len(clusters)>10):\n",
    "     #   print(\"Length of clusters: \" + str(len(clusters)))\n",
    "    cuts = find_vertical_cuts(clusters)\n",
    "    return cut_page_vertically(image, cuts, debug)\n"
   ]
  },
  {
   "cell_type": "code",
   "execution_count": 21,
   "metadata": {},
   "outputs": [],
   "source": [
    "def horizontal_split(image, px_start, min_len, debug=False):\n",
    "    lines = find_horizontal_line(image, px_start, min_len)\n",
    "    clusters = find_horizontal_line_clusters(lines)\n",
    "    #if(len(clusters)>10):\n",
    "     #   print(\"Length of clusters: \" + str(len(clusters)))\n",
    "    cuts = find_horizontal_cuts(clusters)\n",
    "    return cut_page_horizontally(image, cuts, debug)"
   ]
  },
  {
   "cell_type": "code",
   "execution_count": 22,
   "metadata": {},
   "outputs": [],
   "source": [
    "def number_of_cuts(image, px_start, min_len, direction, debug=False):\n",
    "    if(direction==\"h\"):\n",
    "        lines = find_horizontal_line(image, px_start, min_len)\n",
    "        clusters = find_horizontal_line_clusters(lines)\n",
    "        cuts = find_horizontal_cuts(clusters)\n",
    "    elif(direction==\"v\"):\n",
    "        lines = find_vertical_line(image, px_start, min_len)\n",
    "        clusters = find_vertical_line_clusters(lines)\n",
    "        cuts = find_vertical_cuts(clusters)\n",
    "    return(len(cuts))"
   ]
  },
  {
   "cell_type": "code",
   "execution_count": 23,
   "metadata": {},
   "outputs": [],
   "source": [
    "def flip_direction(direction):\n",
    "    if direction == \"v\":\n",
    "        return \"h\"\n",
    "    else:\n",
    "        return \"v\""
   ]
  },
  {
   "cell_type": "code",
   "execution_count": 24,
   "metadata": {},
   "outputs": [],
   "source": [
    "def more_splits(image, px_start, min_len, direction):\n",
    "    if(number_of_cuts(image, px_start, min_len, direction) > 1):\n",
    "        return True\n",
    "    else:\n",
    "        return False"
   ]
  },
  {
   "cell_type": "code",
   "execution_count": 25,
   "metadata": {},
   "outputs": [],
   "source": [
    "def save_images(images, path, it, k):\n",
    "    add = False\n",
    "    for im in images:\n",
    "        r, c = im.shape\n",
    "        if r < 100 or c < 100:\n",
    "            continue\n",
    "        imsave(path + \"/\" + str(it) + \"_\" + str(k) + \".png\", im)\n",
    "        #print(\"Saving \" + path + \"/\" + str(it) + \"_\" + str(k) + \".png\")\n",
    "        k += 1\n",
    "        add = True\n",
    "    return add, k+1\n",
    "    "
   ]
  },
  {
   "cell_type": "code",
   "execution_count": 26,
   "metadata": {},
   "outputs": [],
   "source": [
    "def too_small(image):\n",
    "    r, c = image.shape\n",
    "    if r < 150 or c < 150:\n",
    "        return True\n",
    "    else:\n",
    "        return False\n",
    "    "
   ]
  },
  {
   "cell_type": "code",
   "execution_count": 27,
   "metadata": {},
   "outputs": [],
   "source": [
    "def square_pix(image):\n",
    "    r, c = image.shape\n",
    "    return r*c"
   ]
  },
  {
   "cell_type": "markdown",
   "metadata": {},
   "source": [
    "### Routine"
   ]
  },
  {
   "cell_type": "code",
   "execution_count": 29,
   "metadata": {},
   "outputs": [
    {
     "name": "stdout",
     "output_type": "stream",
     "text": [
      "2\n",
      "1\n",
      "Vertical cluster from0 to 28\n",
      "Vertical cluster from2498 to 2511\n"
     ]
    },
    {
     "ename": "IndexError",
     "evalue": "index 4392 is out of bounds for axis 0 with size 4392",
     "output_type": "error",
     "traceback": [
      "\u001b[0;31m---------------------------------------------------------------------------\u001b[0m",
      "\u001b[0;31mIndexError\u001b[0m                                Traceback (most recent call last)",
      "\u001b[0;32m/tmp/ipykernel_4649/1701771168.py\u001b[0m in \u001b[0;36m<module>\u001b[0;34m\u001b[0m\n\u001b[1;32m      2\u001b[0m \u001b[0;31m#in_path = \"../output/test/1h.png\"\u001b[0m\u001b[0;34m\u001b[0m\u001b[0;34m\u001b[0m\u001b[0;34m\u001b[0m\u001b[0m\n\u001b[1;32m      3\u001b[0m \u001b[0mout_path\u001b[0m \u001b[0;34m=\u001b[0m \u001b[0;34m\"../output/test/\"\u001b[0m\u001b[0;34m\u001b[0m\u001b[0;34m\u001b[0m\u001b[0m\n\u001b[0;32m----> 4\u001b[0;31m \u001b[0mtest\u001b[0m\u001b[0;34m(\u001b[0m\u001b[0min_path\u001b[0m\u001b[0;34m,\u001b[0m \u001b[0mout_path\u001b[0m\u001b[0;34m)\u001b[0m\u001b[0;34m\u001b[0m\u001b[0;34m\u001b[0m\u001b[0m\n\u001b[0m",
      "\u001b[0;32m/tmp/ipykernel_4649/2014507199.py\u001b[0m in \u001b[0;36mtest\u001b[0;34m(import_path, export_path)\u001b[0m\n\u001b[1;32m      2\u001b[0m     \u001b[0mv_lines\u001b[0m\u001b[0;34m,\u001b[0m \u001b[0mh_lines\u001b[0m \u001b[0;34m=\u001b[0m \u001b[0mtest_lines\u001b[0m\u001b[0;34m(\u001b[0m\u001b[0mimport_path\u001b[0m\u001b[0;34m)\u001b[0m\u001b[0;34m\u001b[0m\u001b[0;34m\u001b[0m\u001b[0m\n\u001b[1;32m      3\u001b[0m     \u001b[0mv_clusters\u001b[0m\u001b[0;34m,\u001b[0m \u001b[0mh_clusters\u001b[0m \u001b[0;34m=\u001b[0m \u001b[0mtest_clusters\u001b[0m\u001b[0;34m(\u001b[0m\u001b[0mimport_path\u001b[0m\u001b[0;34m,\u001b[0m \u001b[0mv_lines\u001b[0m\u001b[0;34m,\u001b[0m \u001b[0mh_lines\u001b[0m\u001b[0;34m)\u001b[0m\u001b[0;34m\u001b[0m\u001b[0;34m\u001b[0m\u001b[0m\n\u001b[0;32m----> 4\u001b[0;31m     \u001b[0mv_cuts\u001b[0m\u001b[0;34m,\u001b[0m \u001b[0mh_cuts\u001b[0m \u001b[0;34m=\u001b[0m \u001b[0mtest_cuts\u001b[0m\u001b[0;34m(\u001b[0m\u001b[0mimport_path\u001b[0m\u001b[0;34m,\u001b[0m \u001b[0mv_clusters\u001b[0m\u001b[0;34m,\u001b[0m \u001b[0mh_clusters\u001b[0m\u001b[0;34m)\u001b[0m\u001b[0;34m\u001b[0m\u001b[0;34m\u001b[0m\u001b[0m\n\u001b[0m\u001b[1;32m      5\u001b[0m     \u001b[0mtest_pagecut\u001b[0m\u001b[0;34m(\u001b[0m\u001b[0mimport_path\u001b[0m\u001b[0;34m,\u001b[0m \u001b[0mexport_path\u001b[0m\u001b[0;34m,\u001b[0m \u001b[0mv_cuts\u001b[0m\u001b[0;34m,\u001b[0m \u001b[0mh_cuts\u001b[0m\u001b[0;34m)\u001b[0m\u001b[0;34m\u001b[0m\u001b[0;34m\u001b[0m\u001b[0m\n",
      "\u001b[0;32m/tmp/ipykernel_4649/3990443375.py\u001b[0m in \u001b[0;36mtest_cuts\u001b[0;34m(path, v_clusters, h_clusters)\u001b[0m\n\u001b[1;32m      9\u001b[0m         \u001b[0mlines\u001b[0m\u001b[0;34m.\u001b[0m\u001b[0mappend\u001b[0m\u001b[0;34m(\u001b[0m\u001b[0;34m[\u001b[0m\u001b[0mcut\u001b[0m\u001b[0;34m,\u001b[0m \u001b[0;36m0\u001b[0m\u001b[0;34m,\u001b[0m \u001b[0mcut\u001b[0m\u001b[0;34m,\u001b[0m \u001b[0mimage\u001b[0m\u001b[0;34m.\u001b[0m\u001b[0mshape\u001b[0m\u001b[0;34m[\u001b[0m\u001b[0;36m1\u001b[0m\u001b[0;34m]\u001b[0m\u001b[0;34m-\u001b[0m\u001b[0;36m2\u001b[0m\u001b[0;34m]\u001b[0m\u001b[0;34m)\u001b[0m\u001b[0;34m\u001b[0m\u001b[0;34m\u001b[0m\u001b[0m\n\u001b[1;32m     10\u001b[0m     \u001b[0mplotimage\u001b[0m \u001b[0;34m=\u001b[0m \u001b[0mimread\u001b[0m\u001b[0;34m(\u001b[0m\u001b[0;34m'../input/prep/gray/sturm1910_1911_0011.jpg'\u001b[0m\u001b[0;34m)\u001b[0m\u001b[0;34m\u001b[0m\u001b[0;34m\u001b[0m\u001b[0m\n\u001b[0;32m---> 11\u001b[0;31m     \u001b[0mplot\u001b[0m \u001b[0;34m=\u001b[0m \u001b[0mgenerate_line_plot\u001b[0m\u001b[0;34m(\u001b[0m\u001b[0mplotimage\u001b[0m\u001b[0;34m,\u001b[0m \u001b[0mlines\u001b[0m\u001b[0;34m)\u001b[0m\u001b[0;34m\u001b[0m\u001b[0;34m\u001b[0m\u001b[0m\n\u001b[0m\u001b[1;32m     12\u001b[0m     \u001b[0mimsave\u001b[0m\u001b[0;34m(\u001b[0m\u001b[0;34m'../output/cuts.png'\u001b[0m\u001b[0;34m,\u001b[0m \u001b[0mplot\u001b[0m\u001b[0;34m)\u001b[0m\u001b[0;34m\u001b[0m\u001b[0;34m\u001b[0m\u001b[0m\n\u001b[1;32m     13\u001b[0m     \u001b[0;32mreturn\u001b[0m \u001b[0mv_cuts\u001b[0m\u001b[0;34m,\u001b[0m \u001b[0mh_cuts\u001b[0m\u001b[0;34m\u001b[0m\u001b[0;34m\u001b[0m\u001b[0m\n",
      "\u001b[0;32m/tmp/ipykernel_4649/2663560451.py\u001b[0m in \u001b[0;36mgenerate_line_plot\u001b[0;34m(image, lines)\u001b[0m\n\u001b[1;32m      2\u001b[0m     \u001b[0;32mfor\u001b[0m \u001b[0ml\u001b[0m \u001b[0;32min\u001b[0m \u001b[0mlines\u001b[0m\u001b[0;34m:\u001b[0m\u001b[0;34m\u001b[0m\u001b[0;34m\u001b[0m\u001b[0m\n\u001b[1;32m      3\u001b[0m         \u001b[0mrr\u001b[0m\u001b[0;34m,\u001b[0m\u001b[0mcc\u001b[0m \u001b[0;34m=\u001b[0m \u001b[0mline\u001b[0m\u001b[0;34m(\u001b[0m\u001b[0ml\u001b[0m\u001b[0;34m[\u001b[0m\u001b[0;36m0\u001b[0m\u001b[0;34m]\u001b[0m\u001b[0;34m,\u001b[0m \u001b[0ml\u001b[0m\u001b[0;34m[\u001b[0m\u001b[0;36m1\u001b[0m\u001b[0;34m]\u001b[0m\u001b[0;34m,\u001b[0m \u001b[0ml\u001b[0m\u001b[0;34m[\u001b[0m\u001b[0;36m2\u001b[0m\u001b[0;34m]\u001b[0m\u001b[0;34m,\u001b[0m \u001b[0ml\u001b[0m\u001b[0;34m[\u001b[0m\u001b[0;36m3\u001b[0m\u001b[0;34m]\u001b[0m\u001b[0;34m)\u001b[0m\u001b[0;34m\u001b[0m\u001b[0;34m\u001b[0m\u001b[0m\n\u001b[0;32m----> 4\u001b[0;31m         \u001b[0mimage\u001b[0m\u001b[0;34m[\u001b[0m\u001b[0mrr\u001b[0m\u001b[0;34m,\u001b[0m\u001b[0mcc\u001b[0m\u001b[0;34m]\u001b[0m \u001b[0;34m=\u001b[0m \u001b[0;36m1\u001b[0m\u001b[0;34m\u001b[0m\u001b[0;34m\u001b[0m\u001b[0m\n\u001b[0m\u001b[1;32m      5\u001b[0m     \u001b[0;32mreturn\u001b[0m \u001b[0mimage\u001b[0m\u001b[0;34m\u001b[0m\u001b[0;34m\u001b[0m\u001b[0m\n",
      "\u001b[0;31mIndexError\u001b[0m: index 4392 is out of bounds for axis 0 with size 4392"
     ]
    }
   ],
   "source": [
    "in_path = \"../input/prep/bin/sturm1910_1911_0091.png\"\n",
    "#in_path = \"../output/test/1h.png\"\n",
    "out_path = \"../output/test/\"\n",
    "test(in_path, out_path)"
   ]
  },
  {
   "cell_type": "code",
   "execution_count": 28,
   "metadata": {},
   "outputs": [
    {
     "name": "stdout",
     "output_type": "stream",
     "text": [
      "===== Processing File sturm1910_1911_0099.png =====\n"
     ]
    }
   ],
   "source": [
    "path = '../input/prep/bin'\n",
    "out_path = '../output'\n",
    "min_len = 0.8\n",
    "\n",
    "\n",
    "\n",
    "for filename in os.listdir(path):\n",
    "    if filename != \"sturm1910_1911_0099.png\":\n",
    "       continue\n",
    "    file_out_path = out_path + \"/\" + filename[:-4]\n",
    "    try:\n",
    "        os.mkdir(file_out_path)\n",
    "    except: \n",
    "        for imname in os.listdir(file_out_path):\n",
    "            os.remove(file_out_path+\"/\"+imname)\n",
    "    shutil.copyfile(path + \"/\" + filename, file_out_path + \"/\" + filename)\n",
    "    print(\"===== Processing File \" + filename + \" =====\")\n",
    "    \n",
    "\n",
    "    flag = True\n",
    "    first = True\n",
    "    direction = \"h\"\n",
    "    it = 0\n",
    "    k = 0\n",
    "\n",
    "    while(flag):\n",
    "        flag = False\n",
    "        for filename in os.listdir(file_out_path):\n",
    "            image = imread(file_out_path + \"/\" + filename)\n",
    "            #print(\"Iteration : \" + str(it))\n",
    "\n",
    "            if first:\n",
    "                ims = horizontal_split(image, 20, 0.5)\n",
    "                add, k = save_images(ims, file_out_path, it, k)\n",
    "                first = False\n",
    "                #direction = \"v\"\n",
    "                os.remove(file_out_path + \"/\" + filename)\n",
    "                flag = True\n",
    "                break\n",
    "\n",
    "\n",
    "            elif direction == \"h\":\n",
    "                #print(\"filename: \" + filename + \" \" + direction + \" it \" + str(it) + \" More splits: \" + str(more_splits(image, 0,min_len, \"h\")) + \" too small: \" + str(too_small(image)))\n",
    "                if(more_splits(image, 0, min_len, \"h\") and not too_small(image)):\n",
    "                    flag = True\n",
    "                    ims = horizontal_split(image, 0, min_len)\n",
    "                    add, k = save_images(ims, file_out_path, it, k)\n",
    "                    #direction = \"v\"\n",
    "                    if add:\n",
    "                        os.remove(file_out_path + \"/\" + filename)\n",
    "                        #print(\"Deleting \" + filename)\n",
    "                    continue\n",
    "                #direction = \"v\"\n",
    "\n",
    "            elif direction == \"v\":\n",
    "                #print(\"filename: \" + filename + \" \" + direction + \" it \"  + str(it) + \" More splits: \" + str(more_splits(image, 0,min_len, \"v\")) + \" too small: \" + str(too_small(image)))\n",
    "                if(more_splits(image, 0, min_len, \"v\") and not too_small(image)):\n",
    "                    flag = True\n",
    "                    ims = vertical_split(image, 0, min_len)\n",
    "                    add, k = save_images(ims, file_out_path, it, k)\n",
    "                    #direction = \"h\"\n",
    "                    if add:\n",
    "                        os.remove(file_out_path + \"/\" + filename)\n",
    "                        #print(\"Deleting \" + filename)\n",
    "                    continue\n",
    "                #direction = \"h\"\n",
    "\n",
    "        it += 1\n",
    "        direction=flip_direction(direction)\n",
    "        k = 0\n",
    "        \n",
    "        if it == 5:\n",
    "           flag = False\n",
    "\n",
    "\n",
    "            \n",
    "\n"
   ]
  },
  {
   "cell_type": "code",
   "execution_count": null,
   "metadata": {},
   "outputs": [],
   "source": []
  }
 ],
 "metadata": {
  "interpreter": {
   "hash": "ac59ebe37160ed0dfa835113d9b8498d9f09ceb179beaac4002f036b9467c963"
  },
  "kernelspec": {
   "display_name": "Python 3.9.6 64-bit",
   "name": "python3"
  },
  "language_info": {
   "codemirror_mode": {
    "name": "ipython",
    "version": 3
   },
   "file_extension": ".py",
   "mimetype": "text/x-python",
   "name": "python",
   "nbconvert_exporter": "python",
   "pygments_lexer": "ipython3",
   "version": "3.7.11"
  },
  "orig_nbformat": 4
 },
 "nbformat": 4,
 "nbformat_minor": 2
}
