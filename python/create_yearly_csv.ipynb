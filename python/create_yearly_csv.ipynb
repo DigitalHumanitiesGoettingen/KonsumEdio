{
 "cells": [
  {
   "cell_type": "code",
   "execution_count": 1,
   "metadata": {},
   "outputs": [],
   "source": [
    "import pandas as pd\n",
    "import os\n",
    "import tqdm\n",
    "import json\n",
    "import shutil"
   ]
  },
  {
   "cell_type": "code",
   "execution_count": 4,
   "metadata": {},
   "outputs": [],
   "source": [
    "path_to_corpus = \"/home/jakob/Johanna/Masterarbeit/corpus/Jugend/Jahrgang 1/Kaufhaus_Seiten_1/out\"\n",
    "destination_path = \"/home/jakob/Johanna/Masterarbeit/corpus/Jugend/Jahrgang 1/Kaufhaus_Seiten_1/ocr4all\"\n",
    "csv_path = \"/home/jakob/Johanna/Masterarbeit/corpus/Jugend/Jahrgang 1/Kaufhaus_Seiten_1/all.csv\""
   ]
  },
  {
   "cell_type": "code",
   "execution_count": 5,
   "metadata": {},
   "outputs": [
    {
     "name": "stderr",
     "output_type": "stream",
     "text": [
      "100%|██████████| 22/22 [00:00<00:00, 43.95it/s]"
     ]
    },
    {
     "name": "stdout",
     "output_type": "stream",
     "text": [
      "        magazine issue  year  month  day page  \\\n",
      "J1_0  Die Jugend    30  1896    NaN  NaN  822   \n",
      "J1_1  Die Jugend    30  1896    NaN  NaN  822   \n",
      "J1_2  Die Jugend    30  1896    NaN  NaN  822   \n",
      "J1_3  Die Jugend    30  1896    NaN  NaN  822   \n",
      "J1_4  Die Jugend    30  1896    NaN  NaN  822   \n",
      "\n",
      "                                                   file  percent_page  \n",
      "J1_0  /home/jakob/Johanna/Masterarbeit/corpus/Jugend...      0.015715  \n",
      "J1_1  /home/jakob/Johanna/Masterarbeit/corpus/Jugend...      0.065270  \n",
      "J1_2  /home/jakob/Johanna/Masterarbeit/corpus/Jugend...      0.126995  \n",
      "J1_3  /home/jakob/Johanna/Masterarbeit/corpus/Jugend...      0.050020  \n",
      "J1_4  /home/jakob/Johanna/Masterarbeit/corpus/Jugend...      0.122152  \n"
     ]
    },
    {
     "name": "stderr",
     "output_type": "stream",
     "text": [
      "\n"
     ]
    }
   ],
   "source": [
    "data = pd.DataFrame(columns=[\"magazine\", \"issue\", \"year\", \"month\", \"day\", \"page\", \"file\", \"percent_page\"])\n",
    "id = 0\n",
    "for dir in tqdm.tqdm(os.listdir(path_to_corpus)):\n",
    "    dir_path = path_to_corpus+\"/\"+dir\n",
    "    page_meta_path = dir_path+\"/page_meta.json\"\n",
    "    for ad in os.listdir(dir_path):\n",
    "        if \"json\" in ad and not \"meta\" in ad:\n",
    "            ad_jpeg_path = dir_path+\"/\"+ad[:-5]+\".jpeg\"\n",
    "            ad_json_path = dir_path+\"/\"+ad\n",
    "            with open(ad_json_path) as file:\n",
    "                ad_json = json.loads(file.read())\n",
    "            new_filename = str(id)+\".jpeg\"\n",
    "            shutil.copyfile(ad_jpeg_path, destination_path+\"/\"+new_filename)\n",
    "            ad_id = \"J1_\"+str(id)\n",
    "            ad_data = {\"magazine\":ad_json[\"Magazine\"], \"issue\":ad_json[\"Issue\"], \"year\":ad_json[\"Date\"], \"page\":ad_json[\"Page\"], \"percent_page\":ad_json[\"Percent_page\"], \"file\":destination_path+\"/\"+new_filename}\n",
    "            data.loc[ad_id] = ad_data\n",
    "            id += 1\n",
    "data.to_csv(csv_path)\n",
    "print(data.head())\n",
    "        "
   ]
  }
 ],
 "metadata": {
  "interpreter": {
   "hash": "2ff047d8718a98fb0a532a1a0dc8e35ca96d6ab4e03e96cdeea5762f8ffa8264"
  },
  "kernelspec": {
   "display_name": "Python 3.7.11 ('JohannaProbiert')",
   "language": "python",
   "name": "python3"
  },
  "language_info": {
   "codemirror_mode": {
    "name": "ipython",
    "version": 3
   },
   "file_extension": ".py",
   "mimetype": "text/x-python",
   "name": "python",
   "nbconvert_exporter": "python",
   "pygments_lexer": "ipython3",
   "version": "3.7.11"
  },
  "orig_nbformat": 4
 },
 "nbformat": 4,
 "nbformat_minor": 2
}
