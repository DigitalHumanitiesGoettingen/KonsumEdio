{
 "cells": [
  {
   "cell_type": "markdown",
   "metadata": {},
   "source": [
    "# Vorbereitung der Bilder\n",
    "\n",
    "In dieser Routine werden die Seiten der Zeitung so vorbereitet, dass sie im nächsten Schritt zerschnitten werden können.\n",
    "\n",
    "## Voraussetzungen:\n",
    "- Im Ordner ``../input/raw`` liegen die zu verarbeitenden Seiten im JPEG-Format\n",
    "\n",
    "## Ergebnis\n",
    "- Im Ordner ``../input/prep/bin`` liegen die Bilder im binary Format\n",
    "- Im Ordner ``../input/prep/gray`` liegen die Bilder im grayscale Format"
   ]
  },
  {
   "cell_type": "markdown",
   "metadata": {},
   "source": [
    "### Imports"
   ]
  },
  {
   "cell_type": "code",
   "execution_count": 1,
   "metadata": {},
   "outputs": [],
   "source": [
    "import os\n",
    "from skimage.io import imread, imsave\n",
    "from skimage.color import rgb2gray\n",
    "from skimage.filters import threshold_otsu"
   ]
  },
  {
   "cell_type": "markdown",
   "metadata": {},
   "source": [
    "### Definitions"
   ]
  },
  {
   "cell_type": "code",
   "execution_count": 2,
   "metadata": {},
   "outputs": [],
   "source": [
    "input_path = '/home/jakob/Johanna/Masterarbeit/corpus/Jugend/Jahrgang 2/all/'\n",
    "gray_path = '/home/jakob/Johanna/Masterarbeit/corpus/Jugend/Jahrgang 2/gray/'\n",
    "bin_path = '/home/jakob/Johanna/Masterarbeit/corpus/Jugend/Jahrgang 2/bin/'"
   ]
  },
  {
   "cell_type": "code",
   "execution_count": 3,
   "metadata": {},
   "outputs": [],
   "source": [
    "def make_binary(image):\n",
    "    thresh = threshold_otsu(image)\n",
    "    bin_image = image > thresh\n",
    "    return bin_image"
   ]
  },
  {
   "cell_type": "code",
   "execution_count": 4,
   "metadata": {},
   "outputs": [],
   "source": [
    "def cut_black_margin(image):\n",
    "    thresh_top = 75\n",
    "    thresh_side = 250\n",
    "    r, c = image.shape\n",
    "    max_top = 0\n",
    "    max_side = 0\n",
    "    for i in range(0, c-1):\n",
    "        count = 0\n",
    "        j = 0\n",
    "        while(image[j][i] == 0 and j < r-1):\n",
    "            count += 1\n",
    "            j += 1\n",
    "        if count < thresh_top and count > max_top:\n",
    "            max_top = count\n",
    "    for j in range(0, r-1):\n",
    "        count = 0\n",
    "        i = 0\n",
    "        while(image[j][i] == 0 and i < c-1):\n",
    "            count += 1\n",
    "            i += 1\n",
    "        if count < thresh_side and count > max_side:\n",
    "            max_side = count\n",
    "    \n",
    "    if(max_top < thresh_top and max_side < thresh_side):\n",
    "        print(\"Cutting Top at \" + str(max_top) + \" and Side at \" + str(max_side))\n",
    "        return image[max_top+1:][max_side+1:]\n",
    "    elif(max_top < thresh_top and max_side > thresh_side):\n",
    "        print(\"Cutting Top at \" + str(max_top))\n",
    "        return image[max_top+1:][:]\n",
    "    elif(max_top > thresh_top and max_side < thresh_side):\n",
    "        print(\"Cutting Side at \" + str(max_side))\n",
    "        return image[:][max_side+1]\n",
    "    else:\n",
    "        print(\"No cutting with Top at \" + str(max_top) + \" and Side at \" + str(max_side))\n",
    "        return image\n"
   ]
  },
  {
   "cell_type": "markdown",
   "metadata": {},
   "source": [
    "### Routine"
   ]
  },
  {
   "cell_type": "code",
   "execution_count": 4,
   "metadata": {},
   "outputs": [
    {
     "name": "stderr",
     "output_type": "stream",
     "text": [
      "Lossy conversion from float64 to uint8. Range [0, 1]. Convert image to uint8 prior to saving to suppress this warning.\n"
     ]
    },
    {
     "name": "stdout",
     "output_type": "stream",
     "text": [
      "/home/jakob/Johanna/Masterarbeit/corpus/Jugend/Jahrgang 2/all/184.jpg\n"
     ]
    },
    {
     "name": "stderr",
     "output_type": "stream",
     "text": [
      "/home/jakob/anaconda3/envs/JohannaProbiert/lib/python3.7/site-packages/ipykernel_launcher.py:13: UserWarning: /home/jakob/Johanna/Masterarbeit/corpus/Jugend/Jahrgang 2/bin/184.png is a boolean image: setting True to 255 and False to 0. To silence this warning, please convert the image using img_as_ubyte.\n",
      "  del sys.path[0]\n",
      "Lossy conversion from float64 to uint8. Range [0, 1]. Convert image to uint8 prior to saving to suppress this warning.\n"
     ]
    },
    {
     "name": "stdout",
     "output_type": "stream",
     "text": [
      "/home/jakob/Johanna/Masterarbeit/corpus/Jugend/Jahrgang 2/all/225.jpg\n"
     ]
    },
    {
     "name": "stderr",
     "output_type": "stream",
     "text": [
      "/home/jakob/anaconda3/envs/JohannaProbiert/lib/python3.7/site-packages/ipykernel_launcher.py:13: UserWarning: /home/jakob/Johanna/Masterarbeit/corpus/Jugend/Jahrgang 2/bin/225.png is a boolean image: setting True to 255 and False to 0. To silence this warning, please convert the image using img_as_ubyte.\n",
      "  del sys.path[0]\n",
      "Lossy conversion from float64 to uint8. Range [0, 1]. Convert image to uint8 prior to saving to suppress this warning.\n"
     ]
    },
    {
     "name": "stdout",
     "output_type": "stream",
     "text": [
      "/home/jakob/Johanna/Masterarbeit/corpus/Jugend/Jahrgang 2/all/129.jpg\n"
     ]
    },
    {
     "name": "stderr",
     "output_type": "stream",
     "text": [
      "/home/jakob/anaconda3/envs/JohannaProbiert/lib/python3.7/site-packages/ipykernel_launcher.py:13: UserWarning: /home/jakob/Johanna/Masterarbeit/corpus/Jugend/Jahrgang 2/bin/129.png is a boolean image: setting True to 255 and False to 0. To silence this warning, please convert the image using img_as_ubyte.\n",
      "  del sys.path[0]\n",
      "Lossy conversion from float64 to uint8. Range [0, 1]. Convert image to uint8 prior to saving to suppress this warning.\n"
     ]
    },
    {
     "name": "stdout",
     "output_type": "stream",
     "text": [
      "/home/jakob/Johanna/Masterarbeit/corpus/Jugend/Jahrgang 2/all/189.jpg\n"
     ]
    },
    {
     "name": "stderr",
     "output_type": "stream",
     "text": [
      "/home/jakob/anaconda3/envs/JohannaProbiert/lib/python3.7/site-packages/ipykernel_launcher.py:13: UserWarning: /home/jakob/Johanna/Masterarbeit/corpus/Jugend/Jahrgang 2/bin/189.png is a boolean image: setting True to 255 and False to 0. To silence this warning, please convert the image using img_as_ubyte.\n",
      "  del sys.path[0]\n",
      "Lossy conversion from float64 to uint8. Range [0, 1]. Convert image to uint8 prior to saving to suppress this warning.\n"
     ]
    },
    {
     "name": "stdout",
     "output_type": "stream",
     "text": [
      "/home/jakob/Johanna/Masterarbeit/corpus/Jugend/Jahrgang 2/all/126.jpg\n"
     ]
    },
    {
     "name": "stderr",
     "output_type": "stream",
     "text": [
      "/home/jakob/anaconda3/envs/JohannaProbiert/lib/python3.7/site-packages/ipykernel_launcher.py:13: UserWarning: /home/jakob/Johanna/Masterarbeit/corpus/Jugend/Jahrgang 2/bin/126.png is a boolean image: setting True to 255 and False to 0. To silence this warning, please convert the image using img_as_ubyte.\n",
      "  del sys.path[0]\n",
      "Lossy conversion from float64 to uint8. Range [0, 1]. Convert image to uint8 prior to saving to suppress this warning.\n"
     ]
    },
    {
     "name": "stdout",
     "output_type": "stream",
     "text": [
      "/home/jakob/Johanna/Masterarbeit/corpus/Jugend/Jahrgang 2/all/137.jpg\n"
     ]
    },
    {
     "name": "stderr",
     "output_type": "stream",
     "text": [
      "/home/jakob/anaconda3/envs/JohannaProbiert/lib/python3.7/site-packages/ipykernel_launcher.py:13: UserWarning: /home/jakob/Johanna/Masterarbeit/corpus/Jugend/Jahrgang 2/bin/137.png is a boolean image: setting True to 255 and False to 0. To silence this warning, please convert the image using img_as_ubyte.\n",
      "  del sys.path[0]\n",
      "Lossy conversion from float64 to uint8. Range [0, 1]. Convert image to uint8 prior to saving to suppress this warning.\n"
     ]
    },
    {
     "name": "stdout",
     "output_type": "stream",
     "text": [
      "/home/jakob/Johanna/Masterarbeit/corpus/Jugend/Jahrgang 2/all/111.jpg\n"
     ]
    },
    {
     "name": "stderr",
     "output_type": "stream",
     "text": [
      "/home/jakob/anaconda3/envs/JohannaProbiert/lib/python3.7/site-packages/ipykernel_launcher.py:13: UserWarning: /home/jakob/Johanna/Masterarbeit/corpus/Jugend/Jahrgang 2/bin/111.png is a boolean image: setting True to 255 and False to 0. To silence this warning, please convert the image using img_as_ubyte.\n",
      "  del sys.path[0]\n",
      "Lossy conversion from float64 to uint8. Range [0, 1]. Convert image to uint8 prior to saving to suppress this warning.\n"
     ]
    },
    {
     "name": "stdout",
     "output_type": "stream",
     "text": [
      "/home/jakob/Johanna/Masterarbeit/corpus/Jugend/Jahrgang 2/all/156.jpg\n"
     ]
    },
    {
     "name": "stderr",
     "output_type": "stream",
     "text": [
      "/home/jakob/anaconda3/envs/JohannaProbiert/lib/python3.7/site-packages/ipykernel_launcher.py:13: UserWarning: /home/jakob/Johanna/Masterarbeit/corpus/Jugend/Jahrgang 2/bin/156.png is a boolean image: setting True to 255 and False to 0. To silence this warning, please convert the image using img_as_ubyte.\n",
      "  del sys.path[0]\n",
      "Lossy conversion from float64 to uint8. Range [0, 1]. Convert image to uint8 prior to saving to suppress this warning.\n"
     ]
    },
    {
     "name": "stdout",
     "output_type": "stream",
     "text": [
      "/home/jakob/Johanna/Masterarbeit/corpus/Jugend/Jahrgang 2/all/147.jpg\n"
     ]
    },
    {
     "name": "stderr",
     "output_type": "stream",
     "text": [
      "/home/jakob/anaconda3/envs/JohannaProbiert/lib/python3.7/site-packages/ipykernel_launcher.py:13: UserWarning: /home/jakob/Johanna/Masterarbeit/corpus/Jugend/Jahrgang 2/bin/147.png is a boolean image: setting True to 255 and False to 0. To silence this warning, please convert the image using img_as_ubyte.\n",
      "  del sys.path[0]\n",
      "Lossy conversion from float64 to uint8. Range [0, 1]. Convert image to uint8 prior to saving to suppress this warning.\n"
     ]
    },
    {
     "name": "stdout",
     "output_type": "stream",
     "text": [
      "/home/jakob/Johanna/Masterarbeit/corpus/Jugend/Jahrgang 2/all/82.jpg\n"
     ]
    },
    {
     "name": "stderr",
     "output_type": "stream",
     "text": [
      "/home/jakob/anaconda3/envs/JohannaProbiert/lib/python3.7/site-packages/ipykernel_launcher.py:13: UserWarning: /home/jakob/Johanna/Masterarbeit/corpus/Jugend/Jahrgang 2/bin/82.png is a boolean image: setting True to 255 and False to 0. To silence this warning, please convert the image using img_as_ubyte.\n",
      "  del sys.path[0]\n",
      "Lossy conversion from float64 to uint8. Range [0, 1]. Convert image to uint8 prior to saving to suppress this warning.\n"
     ]
    },
    {
     "name": "stdout",
     "output_type": "stream",
     "text": [
      "/home/jakob/Johanna/Masterarbeit/corpus/Jugend/Jahrgang 2/all/182.jpg\n"
     ]
    },
    {
     "name": "stderr",
     "output_type": "stream",
     "text": [
      "/home/jakob/anaconda3/envs/JohannaProbiert/lib/python3.7/site-packages/ipykernel_launcher.py:13: UserWarning: /home/jakob/Johanna/Masterarbeit/corpus/Jugend/Jahrgang 2/bin/182.png is a boolean image: setting True to 255 and False to 0. To silence this warning, please convert the image using img_as_ubyte.\n",
      "  del sys.path[0]\n",
      "Lossy conversion from float64 to uint8. Range [0, 1]. Convert image to uint8 prior to saving to suppress this warning.\n"
     ]
    },
    {
     "name": "stdout",
     "output_type": "stream",
     "text": [
      "/home/jakob/Johanna/Masterarbeit/corpus/Jugend/Jahrgang 2/all/151.jpg\n"
     ]
    },
    {
     "name": "stderr",
     "output_type": "stream",
     "text": [
      "/home/jakob/anaconda3/envs/JohannaProbiert/lib/python3.7/site-packages/ipykernel_launcher.py:13: UserWarning: /home/jakob/Johanna/Masterarbeit/corpus/Jugend/Jahrgang 2/bin/151.png is a boolean image: setting True to 255 and False to 0. To silence this warning, please convert the image using img_as_ubyte.\n",
      "  del sys.path[0]\n",
      "Lossy conversion from float64 to uint8. Range [0, 1]. Convert image to uint8 prior to saving to suppress this warning.\n"
     ]
    },
    {
     "name": "stdout",
     "output_type": "stream",
     "text": [
      "/home/jakob/Johanna/Masterarbeit/corpus/Jugend/Jahrgang 2/all/246.jpg\n"
     ]
    },
    {
     "name": "stderr",
     "output_type": "stream",
     "text": [
      "/home/jakob/anaconda3/envs/JohannaProbiert/lib/python3.7/site-packages/ipykernel_launcher.py:13: UserWarning: /home/jakob/Johanna/Masterarbeit/corpus/Jugend/Jahrgang 2/bin/246.png is a boolean image: setting True to 255 and False to 0. To silence this warning, please convert the image using img_as_ubyte.\n",
      "  del sys.path[0]\n",
      "Lossy conversion from float64 to uint8. Range [0, 1]. Convert image to uint8 prior to saving to suppress this warning.\n"
     ]
    },
    {
     "name": "stdout",
     "output_type": "stream",
     "text": [
      "/home/jakob/Johanna/Masterarbeit/corpus/Jugend/Jahrgang 2/all/108.jpg\n"
     ]
    },
    {
     "name": "stderr",
     "output_type": "stream",
     "text": [
      "/home/jakob/anaconda3/envs/JohannaProbiert/lib/python3.7/site-packages/ipykernel_launcher.py:13: UserWarning: /home/jakob/Johanna/Masterarbeit/corpus/Jugend/Jahrgang 2/bin/108.png is a boolean image: setting True to 255 and False to 0. To silence this warning, please convert the image using img_as_ubyte.\n",
      "  del sys.path[0]\n",
      "Lossy conversion from float64 to uint8. Range [0, 1]. Convert image to uint8 prior to saving to suppress this warning.\n"
     ]
    },
    {
     "name": "stdout",
     "output_type": "stream",
     "text": [
      "/home/jakob/Johanna/Masterarbeit/corpus/Jugend/Jahrgang 2/all/229.jpg\n"
     ]
    },
    {
     "name": "stderr",
     "output_type": "stream",
     "text": [
      "/home/jakob/anaconda3/envs/JohannaProbiert/lib/python3.7/site-packages/ipykernel_launcher.py:13: UserWarning: /home/jakob/Johanna/Masterarbeit/corpus/Jugend/Jahrgang 2/bin/229.png is a boolean image: setting True to 255 and False to 0. To silence this warning, please convert the image using img_as_ubyte.\n",
      "  del sys.path[0]\n",
      "Lossy conversion from float64 to uint8. Range [0, 1]. Convert image to uint8 prior to saving to suppress this warning.\n"
     ]
    },
    {
     "name": "stdout",
     "output_type": "stream",
     "text": [
      "/home/jakob/Johanna/Masterarbeit/corpus/Jugend/Jahrgang 2/all/173.jpg\n"
     ]
    },
    {
     "name": "stderr",
     "output_type": "stream",
     "text": [
      "/home/jakob/anaconda3/envs/JohannaProbiert/lib/python3.7/site-packages/ipykernel_launcher.py:13: UserWarning: /home/jakob/Johanna/Masterarbeit/corpus/Jugend/Jahrgang 2/bin/173.png is a boolean image: setting True to 255 and False to 0. To silence this warning, please convert the image using img_as_ubyte.\n",
      "  del sys.path[0]\n",
      "Lossy conversion from float64 to uint8. Range [0, 1]. Convert image to uint8 prior to saving to suppress this warning.\n"
     ]
    },
    {
     "name": "stdout",
     "output_type": "stream",
     "text": [
      "/home/jakob/Johanna/Masterarbeit/corpus/Jugend/Jahrgang 2/all/205.jpg\n"
     ]
    },
    {
     "name": "stderr",
     "output_type": "stream",
     "text": [
      "/home/jakob/anaconda3/envs/JohannaProbiert/lib/python3.7/site-packages/ipykernel_launcher.py:13: UserWarning: /home/jakob/Johanna/Masterarbeit/corpus/Jugend/Jahrgang 2/bin/205.png is a boolean image: setting True to 255 and False to 0. To silence this warning, please convert the image using img_as_ubyte.\n",
      "  del sys.path[0]\n",
      "Lossy conversion from float64 to uint8. Range [0, 1]. Convert image to uint8 prior to saving to suppress this warning.\n"
     ]
    },
    {
     "name": "stdout",
     "output_type": "stream",
     "text": [
      "/home/jakob/Johanna/Masterarbeit/corpus/Jugend/Jahrgang 2/all/9.jpg\n"
     ]
    },
    {
     "name": "stderr",
     "output_type": "stream",
     "text": [
      "/home/jakob/anaconda3/envs/JohannaProbiert/lib/python3.7/site-packages/ipykernel_launcher.py:13: UserWarning: /home/jakob/Johanna/Masterarbeit/corpus/Jugend/Jahrgang 2/bin/9.png is a boolean image: setting True to 255 and False to 0. To silence this warning, please convert the image using img_as_ubyte.\n",
      "  del sys.path[0]\n",
      "Lossy conversion from float64 to uint8. Range [0, 1]. Convert image to uint8 prior to saving to suppress this warning.\n"
     ]
    },
    {
     "name": "stdout",
     "output_type": "stream",
     "text": [
      "/home/jakob/Johanna/Masterarbeit/corpus/Jugend/Jahrgang 2/all/33.jpg\n"
     ]
    },
    {
     "name": "stderr",
     "output_type": "stream",
     "text": [
      "/home/jakob/anaconda3/envs/JohannaProbiert/lib/python3.7/site-packages/ipykernel_launcher.py:13: UserWarning: /home/jakob/Johanna/Masterarbeit/corpus/Jugend/Jahrgang 2/bin/33.png is a boolean image: setting True to 255 and False to 0. To silence this warning, please convert the image using img_as_ubyte.\n",
      "  del sys.path[0]\n",
      "Lossy conversion from float64 to uint8. Range [0, 1]. Convert image to uint8 prior to saving to suppress this warning.\n"
     ]
    },
    {
     "name": "stdout",
     "output_type": "stream",
     "text": [
      "/home/jakob/Johanna/Masterarbeit/corpus/Jugend/Jahrgang 2/all/177.jpg\n"
     ]
    },
    {
     "name": "stderr",
     "output_type": "stream",
     "text": [
      "/home/jakob/anaconda3/envs/JohannaProbiert/lib/python3.7/site-packages/ipykernel_launcher.py:13: UserWarning: /home/jakob/Johanna/Masterarbeit/corpus/Jugend/Jahrgang 2/bin/177.png is a boolean image: setting True to 255 and False to 0. To silence this warning, please convert the image using img_as_ubyte.\n",
      "  del sys.path[0]\n",
      "Lossy conversion from float64 to uint8. Range [0, 1]. Convert image to uint8 prior to saving to suppress this warning.\n"
     ]
    },
    {
     "name": "stdout",
     "output_type": "stream",
     "text": [
      "/home/jakob/Johanna/Masterarbeit/corpus/Jugend/Jahrgang 2/all/59.jpg\n"
     ]
    },
    {
     "name": "stderr",
     "output_type": "stream",
     "text": [
      "/home/jakob/anaconda3/envs/JohannaProbiert/lib/python3.7/site-packages/ipykernel_launcher.py:13: UserWarning: /home/jakob/Johanna/Masterarbeit/corpus/Jugend/Jahrgang 2/bin/59.png is a boolean image: setting True to 255 and False to 0. To silence this warning, please convert the image using img_as_ubyte.\n",
      "  del sys.path[0]\n",
      "Lossy conversion from float64 to uint8. Range [0, 1]. Convert image to uint8 prior to saving to suppress this warning.\n"
     ]
    },
    {
     "name": "stdout",
     "output_type": "stream",
     "text": [
      "/home/jakob/Johanna/Masterarbeit/corpus/Jugend/Jahrgang 2/all/84.jpg\n"
     ]
    },
    {
     "name": "stderr",
     "output_type": "stream",
     "text": [
      "/home/jakob/anaconda3/envs/JohannaProbiert/lib/python3.7/site-packages/ipykernel_launcher.py:13: UserWarning: /home/jakob/Johanna/Masterarbeit/corpus/Jugend/Jahrgang 2/bin/84.png is a boolean image: setting True to 255 and False to 0. To silence this warning, please convert the image using img_as_ubyte.\n",
      "  del sys.path[0]\n",
      "Lossy conversion from float64 to uint8. Range [0, 1]. Convert image to uint8 prior to saving to suppress this warning.\n"
     ]
    },
    {
     "name": "stdout",
     "output_type": "stream",
     "text": [
      "/home/jakob/Johanna/Masterarbeit/corpus/Jugend/Jahrgang 2/all/92.jpg\n"
     ]
    },
    {
     "name": "stderr",
     "output_type": "stream",
     "text": [
      "/home/jakob/anaconda3/envs/JohannaProbiert/lib/python3.7/site-packages/ipykernel_launcher.py:13: UserWarning: /home/jakob/Johanna/Masterarbeit/corpus/Jugend/Jahrgang 2/bin/92.png is a boolean image: setting True to 255 and False to 0. To silence this warning, please convert the image using img_as_ubyte.\n",
      "  del sys.path[0]\n",
      "Lossy conversion from float64 to uint8. Range [0, 1]. Convert image to uint8 prior to saving to suppress this warning.\n"
     ]
    },
    {
     "name": "stdout",
     "output_type": "stream",
     "text": [
      "/home/jakob/Johanna/Masterarbeit/corpus/Jugend/Jahrgang 2/all/11.jpg\n"
     ]
    },
    {
     "name": "stderr",
     "output_type": "stream",
     "text": [
      "/home/jakob/anaconda3/envs/JohannaProbiert/lib/python3.7/site-packages/ipykernel_launcher.py:13: UserWarning: /home/jakob/Johanna/Masterarbeit/corpus/Jugend/Jahrgang 2/bin/11.png is a boolean image: setting True to 255 and False to 0. To silence this warning, please convert the image using img_as_ubyte.\n",
      "  del sys.path[0]\n",
      "Lossy conversion from float64 to uint8. Range [0, 1]. Convert image to uint8 prior to saving to suppress this warning.\n"
     ]
    },
    {
     "name": "stdout",
     "output_type": "stream",
     "text": [
      "/home/jakob/Johanna/Masterarbeit/corpus/Jugend/Jahrgang 2/all/200.jpg\n"
     ]
    },
    {
     "name": "stderr",
     "output_type": "stream",
     "text": [
      "/home/jakob/anaconda3/envs/JohannaProbiert/lib/python3.7/site-packages/ipykernel_launcher.py:13: UserWarning: /home/jakob/Johanna/Masterarbeit/corpus/Jugend/Jahrgang 2/bin/200.png is a boolean image: setting True to 255 and False to 0. To silence this warning, please convert the image using img_as_ubyte.\n",
      "  del sys.path[0]\n",
      "Lossy conversion from float64 to uint8. Range [0, 1]. Convert image to uint8 prior to saving to suppress this warning.\n"
     ]
    },
    {
     "name": "stdout",
     "output_type": "stream",
     "text": [
      "/home/jakob/Johanna/Masterarbeit/corpus/Jugend/Jahrgang 2/all/113.jpg\n"
     ]
    },
    {
     "name": "stderr",
     "output_type": "stream",
     "text": [
      "/home/jakob/anaconda3/envs/JohannaProbiert/lib/python3.7/site-packages/ipykernel_launcher.py:13: UserWarning: /home/jakob/Johanna/Masterarbeit/corpus/Jugend/Jahrgang 2/bin/113.png is a boolean image: setting True to 255 and False to 0. To silence this warning, please convert the image using img_as_ubyte.\n",
      "  del sys.path[0]\n",
      "Lossy conversion from float64 to uint8. Range [0, 1]. Convert image to uint8 prior to saving to suppress this warning.\n"
     ]
    },
    {
     "name": "stdout",
     "output_type": "stream",
     "text": [
      "/home/jakob/Johanna/Masterarbeit/corpus/Jugend/Jahrgang 2/all/18.jpg\n"
     ]
    },
    {
     "name": "stderr",
     "output_type": "stream",
     "text": [
      "/home/jakob/anaconda3/envs/JohannaProbiert/lib/python3.7/site-packages/ipykernel_launcher.py:13: UserWarning: /home/jakob/Johanna/Masterarbeit/corpus/Jugend/Jahrgang 2/bin/18.png is a boolean image: setting True to 255 and False to 0. To silence this warning, please convert the image using img_as_ubyte.\n",
      "  del sys.path[0]\n",
      "Lossy conversion from float64 to uint8. Range [0, 1]. Convert image to uint8 prior to saving to suppress this warning.\n"
     ]
    },
    {
     "name": "stdout",
     "output_type": "stream",
     "text": [
      "/home/jakob/Johanna/Masterarbeit/corpus/Jugend/Jahrgang 2/all/221.jpg\n"
     ]
    },
    {
     "name": "stderr",
     "output_type": "stream",
     "text": [
      "/home/jakob/anaconda3/envs/JohannaProbiert/lib/python3.7/site-packages/ipykernel_launcher.py:13: UserWarning: /home/jakob/Johanna/Masterarbeit/corpus/Jugend/Jahrgang 2/bin/221.png is a boolean image: setting True to 255 and False to 0. To silence this warning, please convert the image using img_as_ubyte.\n",
      "  del sys.path[0]\n",
      "Lossy conversion from float64 to uint8. Range [0, 1]. Convert image to uint8 prior to saving to suppress this warning.\n"
     ]
    },
    {
     "name": "stdout",
     "output_type": "stream",
     "text": [
      "/home/jakob/Johanna/Masterarbeit/corpus/Jugend/Jahrgang 2/all/219.jpg\n"
     ]
    },
    {
     "name": "stderr",
     "output_type": "stream",
     "text": [
      "/home/jakob/anaconda3/envs/JohannaProbiert/lib/python3.7/site-packages/ipykernel_launcher.py:13: UserWarning: /home/jakob/Johanna/Masterarbeit/corpus/Jugend/Jahrgang 2/bin/219.png is a boolean image: setting True to 255 and False to 0. To silence this warning, please convert the image using img_as_ubyte.\n",
      "  del sys.path[0]\n",
      "Lossy conversion from float64 to uint8. Range [0, 1]. Convert image to uint8 prior to saving to suppress this warning.\n"
     ]
    },
    {
     "name": "stdout",
     "output_type": "stream",
     "text": [
      "/home/jakob/Johanna/Masterarbeit/corpus/Jugend/Jahrgang 2/all/207.jpg\n"
     ]
    },
    {
     "name": "stderr",
     "output_type": "stream",
     "text": [
      "/home/jakob/anaconda3/envs/JohannaProbiert/lib/python3.7/site-packages/ipykernel_launcher.py:13: UserWarning: /home/jakob/Johanna/Masterarbeit/corpus/Jugend/Jahrgang 2/bin/207.png is a boolean image: setting True to 255 and False to 0. To silence this warning, please convert the image using img_as_ubyte.\n",
      "  del sys.path[0]\n",
      "Lossy conversion from float64 to uint8. Range [0, 1]. Convert image to uint8 prior to saving to suppress this warning.\n"
     ]
    },
    {
     "name": "stdout",
     "output_type": "stream",
     "text": [
      "/home/jakob/Johanna/Masterarbeit/corpus/Jugend/Jahrgang 2/all/136.jpg\n"
     ]
    },
    {
     "name": "stderr",
     "output_type": "stream",
     "text": [
      "/home/jakob/anaconda3/envs/JohannaProbiert/lib/python3.7/site-packages/ipykernel_launcher.py:13: UserWarning: /home/jakob/Johanna/Masterarbeit/corpus/Jugend/Jahrgang 2/bin/136.png is a boolean image: setting True to 255 and False to 0. To silence this warning, please convert the image using img_as_ubyte.\n",
      "  del sys.path[0]\n",
      "Lossy conversion from float64 to uint8. Range [0, 1]. Convert image to uint8 prior to saving to suppress this warning.\n"
     ]
    },
    {
     "name": "stdout",
     "output_type": "stream",
     "text": [
      "/home/jakob/Johanna/Masterarbeit/corpus/Jugend/Jahrgang 2/all/28.jpg\n"
     ]
    },
    {
     "name": "stderr",
     "output_type": "stream",
     "text": [
      "/home/jakob/anaconda3/envs/JohannaProbiert/lib/python3.7/site-packages/ipykernel_launcher.py:13: UserWarning: /home/jakob/Johanna/Masterarbeit/corpus/Jugend/Jahrgang 2/bin/28.png is a boolean image: setting True to 255 and False to 0. To silence this warning, please convert the image using img_as_ubyte.\n",
      "  del sys.path[0]\n",
      "Lossy conversion from float64 to uint8. Range [0, 1]. Convert image to uint8 prior to saving to suppress this warning.\n"
     ]
    },
    {
     "name": "stdout",
     "output_type": "stream",
     "text": [
      "/home/jakob/Johanna/Masterarbeit/corpus/Jugend/Jahrgang 2/all/23.jpg\n"
     ]
    },
    {
     "name": "stderr",
     "output_type": "stream",
     "text": [
      "/home/jakob/anaconda3/envs/JohannaProbiert/lib/python3.7/site-packages/ipykernel_launcher.py:13: UserWarning: /home/jakob/Johanna/Masterarbeit/corpus/Jugend/Jahrgang 2/bin/23.png is a boolean image: setting True to 255 and False to 0. To silence this warning, please convert the image using img_as_ubyte.\n",
      "  del sys.path[0]\n",
      "Lossy conversion from float64 to uint8. Range [0, 1]. Convert image to uint8 prior to saving to suppress this warning.\n"
     ]
    },
    {
     "name": "stdout",
     "output_type": "stream",
     "text": [
      "/home/jakob/Johanna/Masterarbeit/corpus/Jugend/Jahrgang 2/all/257.jpg\n"
     ]
    },
    {
     "name": "stderr",
     "output_type": "stream",
     "text": [
      "/home/jakob/anaconda3/envs/JohannaProbiert/lib/python3.7/site-packages/ipykernel_launcher.py:13: UserWarning: /home/jakob/Johanna/Masterarbeit/corpus/Jugend/Jahrgang 2/bin/257.png is a boolean image: setting True to 255 and False to 0. To silence this warning, please convert the image using img_as_ubyte.\n",
      "  del sys.path[0]\n",
      "Lossy conversion from float64 to uint8. Range [0, 1]. Convert image to uint8 prior to saving to suppress this warning.\n"
     ]
    },
    {
     "name": "stdout",
     "output_type": "stream",
     "text": [
      "/home/jakob/Johanna/Masterarbeit/corpus/Jugend/Jahrgang 2/all/60.jpg\n"
     ]
    },
    {
     "name": "stderr",
     "output_type": "stream",
     "text": [
      "/home/jakob/anaconda3/envs/JohannaProbiert/lib/python3.7/site-packages/ipykernel_launcher.py:13: UserWarning: /home/jakob/Johanna/Masterarbeit/corpus/Jugend/Jahrgang 2/bin/60.png is a boolean image: setting True to 255 and False to 0. To silence this warning, please convert the image using img_as_ubyte.\n",
      "  del sys.path[0]\n",
      "Lossy conversion from float64 to uint8. Range [0, 1]. Convert image to uint8 prior to saving to suppress this warning.\n"
     ]
    },
    {
     "name": "stdout",
     "output_type": "stream",
     "text": [
      "/home/jakob/Johanna/Masterarbeit/corpus/Jugend/Jahrgang 2/all/162.jpg\n"
     ]
    },
    {
     "name": "stderr",
     "output_type": "stream",
     "text": [
      "/home/jakob/anaconda3/envs/JohannaProbiert/lib/python3.7/site-packages/ipykernel_launcher.py:13: UserWarning: /home/jakob/Johanna/Masterarbeit/corpus/Jugend/Jahrgang 2/bin/162.png is a boolean image: setting True to 255 and False to 0. To silence this warning, please convert the image using img_as_ubyte.\n",
      "  del sys.path[0]\n",
      "Lossy conversion from float64 to uint8. Range [0, 1]. Convert image to uint8 prior to saving to suppress this warning.\n"
     ]
    },
    {
     "name": "stdout",
     "output_type": "stream",
     "text": [
      "/home/jakob/Johanna/Masterarbeit/corpus/Jugend/Jahrgang 2/all/57.jpg\n"
     ]
    },
    {
     "name": "stderr",
     "output_type": "stream",
     "text": [
      "/home/jakob/anaconda3/envs/JohannaProbiert/lib/python3.7/site-packages/ipykernel_launcher.py:13: UserWarning: /home/jakob/Johanna/Masterarbeit/corpus/Jugend/Jahrgang 2/bin/57.png is a boolean image: setting True to 255 and False to 0. To silence this warning, please convert the image using img_as_ubyte.\n",
      "  del sys.path[0]\n",
      "Lossy conversion from float64 to uint8. Range [0, 1]. Convert image to uint8 prior to saving to suppress this warning.\n"
     ]
    },
    {
     "name": "stdout",
     "output_type": "stream",
     "text": [
      "/home/jakob/Johanna/Masterarbeit/corpus/Jugend/Jahrgang 2/all/81.jpg\n"
     ]
    },
    {
     "name": "stderr",
     "output_type": "stream",
     "text": [
      "/home/jakob/anaconda3/envs/JohannaProbiert/lib/python3.7/site-packages/ipykernel_launcher.py:13: UserWarning: /home/jakob/Johanna/Masterarbeit/corpus/Jugend/Jahrgang 2/bin/81.png is a boolean image: setting True to 255 and False to 0. To silence this warning, please convert the image using img_as_ubyte.\n",
      "  del sys.path[0]\n",
      "Lossy conversion from float64 to uint8. Range [0, 1]. Convert image to uint8 prior to saving to suppress this warning.\n"
     ]
    },
    {
     "name": "stdout",
     "output_type": "stream",
     "text": [
      "/home/jakob/Johanna/Masterarbeit/corpus/Jugend/Jahrgang 2/all/44.jpg\n"
     ]
    },
    {
     "name": "stderr",
     "output_type": "stream",
     "text": [
      "/home/jakob/anaconda3/envs/JohannaProbiert/lib/python3.7/site-packages/ipykernel_launcher.py:13: UserWarning: /home/jakob/Johanna/Masterarbeit/corpus/Jugend/Jahrgang 2/bin/44.png is a boolean image: setting True to 255 and False to 0. To silence this warning, please convert the image using img_as_ubyte.\n",
      "  del sys.path[0]\n",
      "Lossy conversion from float64 to uint8. Range [0, 1]. Convert image to uint8 prior to saving to suppress this warning.\n"
     ]
    },
    {
     "name": "stdout",
     "output_type": "stream",
     "text": [
      "/home/jakob/Johanna/Masterarbeit/corpus/Jugend/Jahrgang 2/all/149.jpg\n"
     ]
    },
    {
     "name": "stderr",
     "output_type": "stream",
     "text": [
      "/home/jakob/anaconda3/envs/JohannaProbiert/lib/python3.7/site-packages/ipykernel_launcher.py:13: UserWarning: /home/jakob/Johanna/Masterarbeit/corpus/Jugend/Jahrgang 2/bin/149.png is a boolean image: setting True to 255 and False to 0. To silence this warning, please convert the image using img_as_ubyte.\n",
      "  del sys.path[0]\n",
      "Lossy conversion from float64 to uint8. Range [0, 1]. Convert image to uint8 prior to saving to suppress this warning.\n"
     ]
    },
    {
     "name": "stdout",
     "output_type": "stream",
     "text": [
      "/home/jakob/Johanna/Masterarbeit/corpus/Jugend/Jahrgang 2/all/3.jpg\n"
     ]
    },
    {
     "name": "stderr",
     "output_type": "stream",
     "text": [
      "/home/jakob/anaconda3/envs/JohannaProbiert/lib/python3.7/site-packages/ipykernel_launcher.py:13: UserWarning: /home/jakob/Johanna/Masterarbeit/corpus/Jugend/Jahrgang 2/bin/3.png is a boolean image: setting True to 255 and False to 0. To silence this warning, please convert the image using img_as_ubyte.\n",
      "  del sys.path[0]\n",
      "Lossy conversion from float64 to uint8. Range [0, 1]. Convert image to uint8 prior to saving to suppress this warning.\n"
     ]
    },
    {
     "name": "stdout",
     "output_type": "stream",
     "text": [
      "/home/jakob/Johanna/Masterarbeit/corpus/Jugend/Jahrgang 2/all/31.jpg\n"
     ]
    },
    {
     "name": "stderr",
     "output_type": "stream",
     "text": [
      "/home/jakob/anaconda3/envs/JohannaProbiert/lib/python3.7/site-packages/ipykernel_launcher.py:13: UserWarning: /home/jakob/Johanna/Masterarbeit/corpus/Jugend/Jahrgang 2/bin/31.png is a boolean image: setting True to 255 and False to 0. To silence this warning, please convert the image using img_as_ubyte.\n",
      "  del sys.path[0]\n",
      "Lossy conversion from float64 to uint8. Range [0, 1]. Convert image to uint8 prior to saving to suppress this warning.\n"
     ]
    },
    {
     "name": "stdout",
     "output_type": "stream",
     "text": [
      "/home/jakob/Johanna/Masterarbeit/corpus/Jugend/Jahrgang 2/all/224.jpg\n"
     ]
    },
    {
     "name": "stderr",
     "output_type": "stream",
     "text": [
      "/home/jakob/anaconda3/envs/JohannaProbiert/lib/python3.7/site-packages/ipykernel_launcher.py:13: UserWarning: /home/jakob/Johanna/Masterarbeit/corpus/Jugend/Jahrgang 2/bin/224.png is a boolean image: setting True to 255 and False to 0. To silence this warning, please convert the image using img_as_ubyte.\n",
      "  del sys.path[0]\n",
      "Lossy conversion from float64 to uint8. Range [0, 1]. Convert image to uint8 prior to saving to suppress this warning.\n"
     ]
    },
    {
     "name": "stdout",
     "output_type": "stream",
     "text": [
      "/home/jakob/Johanna/Masterarbeit/corpus/Jugend/Jahrgang 2/all/100.jpg\n"
     ]
    },
    {
     "name": "stderr",
     "output_type": "stream",
     "text": [
      "/home/jakob/anaconda3/envs/JohannaProbiert/lib/python3.7/site-packages/ipykernel_launcher.py:13: UserWarning: /home/jakob/Johanna/Masterarbeit/corpus/Jugend/Jahrgang 2/bin/100.png is a boolean image: setting True to 255 and False to 0. To silence this warning, please convert the image using img_as_ubyte.\n",
      "  del sys.path[0]\n",
      "Lossy conversion from float64 to uint8. Range [0, 1]. Convert image to uint8 prior to saving to suppress this warning.\n"
     ]
    },
    {
     "name": "stdout",
     "output_type": "stream",
     "text": [
      "/home/jakob/Johanna/Masterarbeit/corpus/Jugend/Jahrgang 2/all/234.jpg\n"
     ]
    },
    {
     "name": "stderr",
     "output_type": "stream",
     "text": [
      "/home/jakob/anaconda3/envs/JohannaProbiert/lib/python3.7/site-packages/ipykernel_launcher.py:13: UserWarning: /home/jakob/Johanna/Masterarbeit/corpus/Jugend/Jahrgang 2/bin/234.png is a boolean image: setting True to 255 and False to 0. To silence this warning, please convert the image using img_as_ubyte.\n",
      "  del sys.path[0]\n",
      "Lossy conversion from float64 to uint8. Range [0, 1]. Convert image to uint8 prior to saving to suppress this warning.\n"
     ]
    },
    {
     "name": "stdout",
     "output_type": "stream",
     "text": [
      "/home/jakob/Johanna/Masterarbeit/corpus/Jugend/Jahrgang 2/all/90.jpg\n"
     ]
    },
    {
     "name": "stderr",
     "output_type": "stream",
     "text": [
      "/home/jakob/anaconda3/envs/JohannaProbiert/lib/python3.7/site-packages/ipykernel_launcher.py:13: UserWarning: /home/jakob/Johanna/Masterarbeit/corpus/Jugend/Jahrgang 2/bin/90.png is a boolean image: setting True to 255 and False to 0. To silence this warning, please convert the image using img_as_ubyte.\n",
      "  del sys.path[0]\n",
      "Lossy conversion from float64 to uint8. Range [0, 1]. Convert image to uint8 prior to saving to suppress this warning.\n"
     ]
    },
    {
     "name": "stdout",
     "output_type": "stream",
     "text": [
      "/home/jakob/Johanna/Masterarbeit/corpus/Jugend/Jahrgang 2/all/243.jpg\n"
     ]
    },
    {
     "name": "stderr",
     "output_type": "stream",
     "text": [
      "/home/jakob/anaconda3/envs/JohannaProbiert/lib/python3.7/site-packages/ipykernel_launcher.py:13: UserWarning: /home/jakob/Johanna/Masterarbeit/corpus/Jugend/Jahrgang 2/bin/243.png is a boolean image: setting True to 255 and False to 0. To silence this warning, please convert the image using img_as_ubyte.\n",
      "  del sys.path[0]\n",
      "Lossy conversion from float64 to uint8. Range [0, 1]. Convert image to uint8 prior to saving to suppress this warning.\n"
     ]
    },
    {
     "name": "stdout",
     "output_type": "stream",
     "text": [
      "/home/jakob/Johanna/Masterarbeit/corpus/Jugend/Jahrgang 2/all/231.jpg\n"
     ]
    },
    {
     "name": "stderr",
     "output_type": "stream",
     "text": [
      "/home/jakob/anaconda3/envs/JohannaProbiert/lib/python3.7/site-packages/ipykernel_launcher.py:13: UserWarning: /home/jakob/Johanna/Masterarbeit/corpus/Jugend/Jahrgang 2/bin/231.png is a boolean image: setting True to 255 and False to 0. To silence this warning, please convert the image using img_as_ubyte.\n",
      "  del sys.path[0]\n",
      "Lossy conversion from float64 to uint8. Range [0, 1]. Convert image to uint8 prior to saving to suppress this warning.\n"
     ]
    },
    {
     "name": "stdout",
     "output_type": "stream",
     "text": [
      "/home/jakob/Johanna/Masterarbeit/corpus/Jugend/Jahrgang 2/all/250.jpg\n"
     ]
    },
    {
     "name": "stderr",
     "output_type": "stream",
     "text": [
      "/home/jakob/anaconda3/envs/JohannaProbiert/lib/python3.7/site-packages/ipykernel_launcher.py:13: UserWarning: /home/jakob/Johanna/Masterarbeit/corpus/Jugend/Jahrgang 2/bin/250.png is a boolean image: setting True to 255 and False to 0. To silence this warning, please convert the image using img_as_ubyte.\n",
      "  del sys.path[0]\n",
      "Lossy conversion from float64 to uint8. Range [0, 1]. Convert image to uint8 prior to saving to suppress this warning.\n"
     ]
    },
    {
     "name": "stdout",
     "output_type": "stream",
     "text": [
      "/home/jakob/Johanna/Masterarbeit/corpus/Jugend/Jahrgang 2/all/140.jpg\n"
     ]
    },
    {
     "name": "stderr",
     "output_type": "stream",
     "text": [
      "/home/jakob/anaconda3/envs/JohannaProbiert/lib/python3.7/site-packages/ipykernel_launcher.py:13: UserWarning: /home/jakob/Johanna/Masterarbeit/corpus/Jugend/Jahrgang 2/bin/140.png is a boolean image: setting True to 255 and False to 0. To silence this warning, please convert the image using img_as_ubyte.\n",
      "  del sys.path[0]\n",
      "Lossy conversion from float64 to uint8. Range [0, 1]. Convert image to uint8 prior to saving to suppress this warning.\n"
     ]
    },
    {
     "name": "stdout",
     "output_type": "stream",
     "text": [
      "/home/jakob/Johanna/Masterarbeit/corpus/Jugend/Jahrgang 2/all/68.jpg\n"
     ]
    },
    {
     "name": "stderr",
     "output_type": "stream",
     "text": [
      "/home/jakob/anaconda3/envs/JohannaProbiert/lib/python3.7/site-packages/ipykernel_launcher.py:13: UserWarning: /home/jakob/Johanna/Masterarbeit/corpus/Jugend/Jahrgang 2/bin/68.png is a boolean image: setting True to 255 and False to 0. To silence this warning, please convert the image using img_as_ubyte.\n",
      "  del sys.path[0]\n",
      "Lossy conversion from float64 to uint8. Range [0, 1]. Convert image to uint8 prior to saving to suppress this warning.\n"
     ]
    },
    {
     "name": "stdout",
     "output_type": "stream",
     "text": [
      "/home/jakob/Johanna/Masterarbeit/corpus/Jugend/Jahrgang 2/all/99.jpg\n"
     ]
    },
    {
     "name": "stderr",
     "output_type": "stream",
     "text": [
      "/home/jakob/anaconda3/envs/JohannaProbiert/lib/python3.7/site-packages/ipykernel_launcher.py:13: UserWarning: /home/jakob/Johanna/Masterarbeit/corpus/Jugend/Jahrgang 2/bin/99.png is a boolean image: setting True to 255 and False to 0. To silence this warning, please convert the image using img_as_ubyte.\n",
      "  del sys.path[0]\n",
      "Lossy conversion from float64 to uint8. Range [0, 1]. Convert image to uint8 prior to saving to suppress this warning.\n"
     ]
    },
    {
     "name": "stdout",
     "output_type": "stream",
     "text": [
      "/home/jakob/Johanna/Masterarbeit/corpus/Jugend/Jahrgang 2/all/239.jpg\n"
     ]
    },
    {
     "name": "stderr",
     "output_type": "stream",
     "text": [
      "/home/jakob/anaconda3/envs/JohannaProbiert/lib/python3.7/site-packages/ipykernel_launcher.py:13: UserWarning: /home/jakob/Johanna/Masterarbeit/corpus/Jugend/Jahrgang 2/bin/239.png is a boolean image: setting True to 255 and False to 0. To silence this warning, please convert the image using img_as_ubyte.\n",
      "  del sys.path[0]\n",
      "Lossy conversion from float64 to uint8. Range [0, 1]. Convert image to uint8 prior to saving to suppress this warning.\n"
     ]
    },
    {
     "name": "stdout",
     "output_type": "stream",
     "text": [
      "/home/jakob/Johanna/Masterarbeit/corpus/Jugend/Jahrgang 2/all/198.jpg\n"
     ]
    },
    {
     "name": "stderr",
     "output_type": "stream",
     "text": [
      "/home/jakob/anaconda3/envs/JohannaProbiert/lib/python3.7/site-packages/ipykernel_launcher.py:13: UserWarning: /home/jakob/Johanna/Masterarbeit/corpus/Jugend/Jahrgang 2/bin/198.png is a boolean image: setting True to 255 and False to 0. To silence this warning, please convert the image using img_as_ubyte.\n",
      "  del sys.path[0]\n",
      "Lossy conversion from float64 to uint8. Range [0, 1]. Convert image to uint8 prior to saving to suppress this warning.\n"
     ]
    },
    {
     "name": "stdout",
     "output_type": "stream",
     "text": [
      "/home/jakob/Johanna/Masterarbeit/corpus/Jugend/Jahrgang 2/all/58.jpg\n"
     ]
    },
    {
     "name": "stderr",
     "output_type": "stream",
     "text": [
      "/home/jakob/anaconda3/envs/JohannaProbiert/lib/python3.7/site-packages/ipykernel_launcher.py:13: UserWarning: /home/jakob/Johanna/Masterarbeit/corpus/Jugend/Jahrgang 2/bin/58.png is a boolean image: setting True to 255 and False to 0. To silence this warning, please convert the image using img_as_ubyte.\n",
      "  del sys.path[0]\n",
      "Lossy conversion from float64 to uint8. Range [0, 1]. Convert image to uint8 prior to saving to suppress this warning.\n"
     ]
    },
    {
     "name": "stdout",
     "output_type": "stream",
     "text": [
      "/home/jakob/Johanna/Masterarbeit/corpus/Jugend/Jahrgang 2/all/86.jpg\n"
     ]
    },
    {
     "name": "stderr",
     "output_type": "stream",
     "text": [
      "/home/jakob/anaconda3/envs/JohannaProbiert/lib/python3.7/site-packages/ipykernel_launcher.py:13: UserWarning: /home/jakob/Johanna/Masterarbeit/corpus/Jugend/Jahrgang 2/bin/86.png is a boolean image: setting True to 255 and False to 0. To silence this warning, please convert the image using img_as_ubyte.\n",
      "  del sys.path[0]\n",
      "Lossy conversion from float64 to uint8. Range [0, 1]. Convert image to uint8 prior to saving to suppress this warning.\n"
     ]
    },
    {
     "name": "stdout",
     "output_type": "stream",
     "text": [
      "/home/jakob/Johanna/Masterarbeit/corpus/Jugend/Jahrgang 2/all/159.jpg\n"
     ]
    },
    {
     "name": "stderr",
     "output_type": "stream",
     "text": [
      "/home/jakob/anaconda3/envs/JohannaProbiert/lib/python3.7/site-packages/ipykernel_launcher.py:13: UserWarning: /home/jakob/Johanna/Masterarbeit/corpus/Jugend/Jahrgang 2/bin/159.png is a boolean image: setting True to 255 and False to 0. To silence this warning, please convert the image using img_as_ubyte.\n",
      "  del sys.path[0]\n",
      "Lossy conversion from float64 to uint8. Range [0, 1]. Convert image to uint8 prior to saving to suppress this warning.\n"
     ]
    },
    {
     "name": "stdout",
     "output_type": "stream",
     "text": [
      "/home/jakob/Johanna/Masterarbeit/corpus/Jugend/Jahrgang 2/all/26.jpg\n"
     ]
    },
    {
     "name": "stderr",
     "output_type": "stream",
     "text": [
      "/home/jakob/anaconda3/envs/JohannaProbiert/lib/python3.7/site-packages/ipykernel_launcher.py:13: UserWarning: /home/jakob/Johanna/Masterarbeit/corpus/Jugend/Jahrgang 2/bin/26.png is a boolean image: setting True to 255 and False to 0. To silence this warning, please convert the image using img_as_ubyte.\n",
      "  del sys.path[0]\n",
      "Lossy conversion from float64 to uint8. Range [0, 1]. Convert image to uint8 prior to saving to suppress this warning.\n"
     ]
    },
    {
     "name": "stdout",
     "output_type": "stream",
     "text": [
      "/home/jakob/Johanna/Masterarbeit/corpus/Jugend/Jahrgang 2/all/188.jpg\n"
     ]
    },
    {
     "name": "stderr",
     "output_type": "stream",
     "text": [
      "/home/jakob/anaconda3/envs/JohannaProbiert/lib/python3.7/site-packages/ipykernel_launcher.py:13: UserWarning: /home/jakob/Johanna/Masterarbeit/corpus/Jugend/Jahrgang 2/bin/188.png is a boolean image: setting True to 255 and False to 0. To silence this warning, please convert the image using img_as_ubyte.\n",
      "  del sys.path[0]\n",
      "Lossy conversion from float64 to uint8. Range [0, 1]. Convert image to uint8 prior to saving to suppress this warning.\n"
     ]
    },
    {
     "name": "stdout",
     "output_type": "stream",
     "text": [
      "/home/jakob/Johanna/Masterarbeit/corpus/Jugend/Jahrgang 2/all/144.jpg\n"
     ]
    },
    {
     "name": "stderr",
     "output_type": "stream",
     "text": [
      "/home/jakob/anaconda3/envs/JohannaProbiert/lib/python3.7/site-packages/ipykernel_launcher.py:13: UserWarning: /home/jakob/Johanna/Masterarbeit/corpus/Jugend/Jahrgang 2/bin/144.png is a boolean image: setting True to 255 and False to 0. To silence this warning, please convert the image using img_as_ubyte.\n",
      "  del sys.path[0]\n",
      "Lossy conversion from float64 to uint8. Range [0, 1]. Convert image to uint8 prior to saving to suppress this warning.\n"
     ]
    },
    {
     "name": "stdout",
     "output_type": "stream",
     "text": [
      "/home/jakob/Johanna/Masterarbeit/corpus/Jugend/Jahrgang 2/all/79.jpg\n"
     ]
    },
    {
     "name": "stderr",
     "output_type": "stream",
     "text": [
      "/home/jakob/anaconda3/envs/JohannaProbiert/lib/python3.7/site-packages/ipykernel_launcher.py:13: UserWarning: /home/jakob/Johanna/Masterarbeit/corpus/Jugend/Jahrgang 2/bin/79.png is a boolean image: setting True to 255 and False to 0. To silence this warning, please convert the image using img_as_ubyte.\n",
      "  del sys.path[0]\n",
      "Lossy conversion from float64 to uint8. Range [0, 1]. Convert image to uint8 prior to saving to suppress this warning.\n"
     ]
    },
    {
     "name": "stdout",
     "output_type": "stream",
     "text": [
      "/home/jakob/Johanna/Masterarbeit/corpus/Jugend/Jahrgang 2/all/34.jpg\n"
     ]
    },
    {
     "name": "stderr",
     "output_type": "stream",
     "text": [
      "/home/jakob/anaconda3/envs/JohannaProbiert/lib/python3.7/site-packages/ipykernel_launcher.py:13: UserWarning: /home/jakob/Johanna/Masterarbeit/corpus/Jugend/Jahrgang 2/bin/34.png is a boolean image: setting True to 255 and False to 0. To silence this warning, please convert the image using img_as_ubyte.\n",
      "  del sys.path[0]\n",
      "Lossy conversion from float64 to uint8. Range [0, 1]. Convert image to uint8 prior to saving to suppress this warning.\n"
     ]
    },
    {
     "name": "stdout",
     "output_type": "stream",
     "text": [
      "/home/jakob/Johanna/Masterarbeit/corpus/Jugend/Jahrgang 2/all/110.jpg\n"
     ]
    },
    {
     "name": "stderr",
     "output_type": "stream",
     "text": [
      "/home/jakob/anaconda3/envs/JohannaProbiert/lib/python3.7/site-packages/ipykernel_launcher.py:13: UserWarning: /home/jakob/Johanna/Masterarbeit/corpus/Jugend/Jahrgang 2/bin/110.png is a boolean image: setting True to 255 and False to 0. To silence this warning, please convert the image using img_as_ubyte.\n",
      "  del sys.path[0]\n",
      "Lossy conversion from float64 to uint8. Range [0, 1]. Convert image to uint8 prior to saving to suppress this warning.\n"
     ]
    },
    {
     "name": "stdout",
     "output_type": "stream",
     "text": [
      "/home/jakob/Johanna/Masterarbeit/corpus/Jugend/Jahrgang 2/all/158.jpg\n"
     ]
    },
    {
     "name": "stderr",
     "output_type": "stream",
     "text": [
      "/home/jakob/anaconda3/envs/JohannaProbiert/lib/python3.7/site-packages/ipykernel_launcher.py:13: UserWarning: /home/jakob/Johanna/Masterarbeit/corpus/Jugend/Jahrgang 2/bin/158.png is a boolean image: setting True to 255 and False to 0. To silence this warning, please convert the image using img_as_ubyte.\n",
      "  del sys.path[0]\n",
      "Lossy conversion from float64 to uint8. Range [0, 1]. Convert image to uint8 prior to saving to suppress this warning.\n"
     ]
    },
    {
     "name": "stdout",
     "output_type": "stream",
     "text": [
      "/home/jakob/Johanna/Masterarbeit/corpus/Jugend/Jahrgang 2/all/260.jpg\n"
     ]
    },
    {
     "name": "stderr",
     "output_type": "stream",
     "text": [
      "/home/jakob/anaconda3/envs/JohannaProbiert/lib/python3.7/site-packages/ipykernel_launcher.py:13: UserWarning: /home/jakob/Johanna/Masterarbeit/corpus/Jugend/Jahrgang 2/bin/260.png is a boolean image: setting True to 255 and False to 0. To silence this warning, please convert the image using img_as_ubyte.\n",
      "  del sys.path[0]\n",
      "Lossy conversion from float64 to uint8. Range [0, 1]. Convert image to uint8 prior to saving to suppress this warning.\n"
     ]
    },
    {
     "name": "stdout",
     "output_type": "stream",
     "text": [
      "/home/jakob/Johanna/Masterarbeit/corpus/Jugend/Jahrgang 2/all/134.jpg\n"
     ]
    },
    {
     "name": "stderr",
     "output_type": "stream",
     "text": [
      "/home/jakob/anaconda3/envs/JohannaProbiert/lib/python3.7/site-packages/ipykernel_launcher.py:13: UserWarning: /home/jakob/Johanna/Masterarbeit/corpus/Jugend/Jahrgang 2/bin/134.png is a boolean image: setting True to 255 and False to 0. To silence this warning, please convert the image using img_as_ubyte.\n",
      "  del sys.path[0]\n",
      "Lossy conversion from float64 to uint8. Range [0, 1]. Convert image to uint8 prior to saving to suppress this warning.\n"
     ]
    },
    {
     "name": "stdout",
     "output_type": "stream",
     "text": [
      "/home/jakob/Johanna/Masterarbeit/corpus/Jugend/Jahrgang 2/all/190.jpg\n"
     ]
    },
    {
     "name": "stderr",
     "output_type": "stream",
     "text": [
      "/home/jakob/anaconda3/envs/JohannaProbiert/lib/python3.7/site-packages/ipykernel_launcher.py:13: UserWarning: /home/jakob/Johanna/Masterarbeit/corpus/Jugend/Jahrgang 2/bin/190.png is a boolean image: setting True to 255 and False to 0. To silence this warning, please convert the image using img_as_ubyte.\n",
      "  del sys.path[0]\n",
      "Lossy conversion from float64 to uint8. Range [0, 1]. Convert image to uint8 prior to saving to suppress this warning.\n"
     ]
    },
    {
     "name": "stdout",
     "output_type": "stream",
     "text": [
      "/home/jakob/Johanna/Masterarbeit/corpus/Jugend/Jahrgang 2/all/166.jpg\n"
     ]
    },
    {
     "name": "stderr",
     "output_type": "stream",
     "text": [
      "/home/jakob/anaconda3/envs/JohannaProbiert/lib/python3.7/site-packages/ipykernel_launcher.py:13: UserWarning: /home/jakob/Johanna/Masterarbeit/corpus/Jugend/Jahrgang 2/bin/166.png is a boolean image: setting True to 255 and False to 0. To silence this warning, please convert the image using img_as_ubyte.\n",
      "  del sys.path[0]\n",
      "Lossy conversion from float64 to uint8. Range [0, 1]. Convert image to uint8 prior to saving to suppress this warning.\n"
     ]
    },
    {
     "name": "stdout",
     "output_type": "stream",
     "text": [
      "/home/jakob/Johanna/Masterarbeit/corpus/Jugend/Jahrgang 2/all/201.jpg\n"
     ]
    },
    {
     "name": "stderr",
     "output_type": "stream",
     "text": [
      "/home/jakob/anaconda3/envs/JohannaProbiert/lib/python3.7/site-packages/ipykernel_launcher.py:13: UserWarning: /home/jakob/Johanna/Masterarbeit/corpus/Jugend/Jahrgang 2/bin/201.png is a boolean image: setting True to 255 and False to 0. To silence this warning, please convert the image using img_as_ubyte.\n",
      "  del sys.path[0]\n",
      "Lossy conversion from float64 to uint8. Range [0, 1]. Convert image to uint8 prior to saving to suppress this warning.\n"
     ]
    },
    {
     "name": "stdout",
     "output_type": "stream",
     "text": [
      "/home/jakob/Johanna/Masterarbeit/corpus/Jugend/Jahrgang 2/all/102.jpg\n"
     ]
    },
    {
     "name": "stderr",
     "output_type": "stream",
     "text": [
      "/home/jakob/anaconda3/envs/JohannaProbiert/lib/python3.7/site-packages/ipykernel_launcher.py:13: UserWarning: /home/jakob/Johanna/Masterarbeit/corpus/Jugend/Jahrgang 2/bin/102.png is a boolean image: setting True to 255 and False to 0. To silence this warning, please convert the image using img_as_ubyte.\n",
      "  del sys.path[0]\n",
      "Lossy conversion from float64 to uint8. Range [0, 1]. Convert image to uint8 prior to saving to suppress this warning.\n"
     ]
    },
    {
     "name": "stdout",
     "output_type": "stream",
     "text": [
      "/home/jakob/Johanna/Masterarbeit/corpus/Jugend/Jahrgang 2/all/46.jpg\n"
     ]
    },
    {
     "name": "stderr",
     "output_type": "stream",
     "text": [
      "/home/jakob/anaconda3/envs/JohannaProbiert/lib/python3.7/site-packages/ipykernel_launcher.py:13: UserWarning: /home/jakob/Johanna/Masterarbeit/corpus/Jugend/Jahrgang 2/bin/46.png is a boolean image: setting True to 255 and False to 0. To silence this warning, please convert the image using img_as_ubyte.\n",
      "  del sys.path[0]\n",
      "Lossy conversion from float64 to uint8. Range [0, 1]. Convert image to uint8 prior to saving to suppress this warning.\n"
     ]
    },
    {
     "name": "stdout",
     "output_type": "stream",
     "text": [
      "/home/jakob/Johanna/Masterarbeit/corpus/Jugend/Jahrgang 2/all/132.jpg\n"
     ]
    },
    {
     "name": "stderr",
     "output_type": "stream",
     "text": [
      "/home/jakob/anaconda3/envs/JohannaProbiert/lib/python3.7/site-packages/ipykernel_launcher.py:13: UserWarning: /home/jakob/Johanna/Masterarbeit/corpus/Jugend/Jahrgang 2/bin/132.png is a boolean image: setting True to 255 and False to 0. To silence this warning, please convert the image using img_as_ubyte.\n",
      "  del sys.path[0]\n",
      "Lossy conversion from float64 to uint8. Range [0, 1]. Convert image to uint8 prior to saving to suppress this warning.\n"
     ]
    },
    {
     "name": "stdout",
     "output_type": "stream",
     "text": [
      "/home/jakob/Johanna/Masterarbeit/corpus/Jugend/Jahrgang 2/all/119.jpg\n"
     ]
    },
    {
     "name": "stderr",
     "output_type": "stream",
     "text": [
      "/home/jakob/anaconda3/envs/JohannaProbiert/lib/python3.7/site-packages/ipykernel_launcher.py:13: UserWarning: /home/jakob/Johanna/Masterarbeit/corpus/Jugend/Jahrgang 2/bin/119.png is a boolean image: setting True to 255 and False to 0. To silence this warning, please convert the image using img_as_ubyte.\n",
      "  del sys.path[0]\n",
      "Lossy conversion from float64 to uint8. Range [0, 1]. Convert image to uint8 prior to saving to suppress this warning.\n"
     ]
    },
    {
     "name": "stdout",
     "output_type": "stream",
     "text": [
      "/home/jakob/Johanna/Masterarbeit/corpus/Jugend/Jahrgang 2/all/153.jpg\n"
     ]
    },
    {
     "name": "stderr",
     "output_type": "stream",
     "text": [
      "/home/jakob/anaconda3/envs/JohannaProbiert/lib/python3.7/site-packages/ipykernel_launcher.py:13: UserWarning: /home/jakob/Johanna/Masterarbeit/corpus/Jugend/Jahrgang 2/bin/153.png is a boolean image: setting True to 255 and False to 0. To silence this warning, please convert the image using img_as_ubyte.\n",
      "  del sys.path[0]\n",
      "Lossy conversion from float64 to uint8. Range [0, 1]. Convert image to uint8 prior to saving to suppress this warning.\n"
     ]
    },
    {
     "name": "stdout",
     "output_type": "stream",
     "text": [
      "/home/jakob/Johanna/Masterarbeit/corpus/Jugend/Jahrgang 2/all/180.jpg\n"
     ]
    },
    {
     "name": "stderr",
     "output_type": "stream",
     "text": [
      "/home/jakob/anaconda3/envs/JohannaProbiert/lib/python3.7/site-packages/ipykernel_launcher.py:13: UserWarning: /home/jakob/Johanna/Masterarbeit/corpus/Jugend/Jahrgang 2/bin/180.png is a boolean image: setting True to 255 and False to 0. To silence this warning, please convert the image using img_as_ubyte.\n",
      "  del sys.path[0]\n",
      "Lossy conversion from float64 to uint8. Range [0, 1]. Convert image to uint8 prior to saving to suppress this warning.\n"
     ]
    },
    {
     "name": "stdout",
     "output_type": "stream",
     "text": [
      "/home/jakob/Johanna/Masterarbeit/corpus/Jugend/Jahrgang 2/all/236.jpg\n"
     ]
    },
    {
     "name": "stderr",
     "output_type": "stream",
     "text": [
      "/home/jakob/anaconda3/envs/JohannaProbiert/lib/python3.7/site-packages/ipykernel_launcher.py:13: UserWarning: /home/jakob/Johanna/Masterarbeit/corpus/Jugend/Jahrgang 2/bin/236.png is a boolean image: setting True to 255 and False to 0. To silence this warning, please convert the image using img_as_ubyte.\n",
      "  del sys.path[0]\n",
      "Lossy conversion from float64 to uint8. Range [0, 1]. Convert image to uint8 prior to saving to suppress this warning.\n"
     ]
    },
    {
     "name": "stdout",
     "output_type": "stream",
     "text": [
      "/home/jakob/Johanna/Masterarbeit/corpus/Jugend/Jahrgang 2/all/254.jpg\n"
     ]
    },
    {
     "name": "stderr",
     "output_type": "stream",
     "text": [
      "/home/jakob/anaconda3/envs/JohannaProbiert/lib/python3.7/site-packages/ipykernel_launcher.py:13: UserWarning: /home/jakob/Johanna/Masterarbeit/corpus/Jugend/Jahrgang 2/bin/254.png is a boolean image: setting True to 255 and False to 0. To silence this warning, please convert the image using img_as_ubyte.\n",
      "  del sys.path[0]\n",
      "Lossy conversion from float64 to uint8. Range [0, 1]. Convert image to uint8 prior to saving to suppress this warning.\n"
     ]
    },
    {
     "name": "stdout",
     "output_type": "stream",
     "text": [
      "/home/jakob/Johanna/Masterarbeit/corpus/Jugend/Jahrgang 2/all/21.jpg\n"
     ]
    },
    {
     "name": "stderr",
     "output_type": "stream",
     "text": [
      "/home/jakob/anaconda3/envs/JohannaProbiert/lib/python3.7/site-packages/ipykernel_launcher.py:13: UserWarning: /home/jakob/Johanna/Masterarbeit/corpus/Jugend/Jahrgang 2/bin/21.png is a boolean image: setting True to 255 and False to 0. To silence this warning, please convert the image using img_as_ubyte.\n",
      "  del sys.path[0]\n",
      "Lossy conversion from float64 to uint8. Range [0, 1]. Convert image to uint8 prior to saving to suppress this warning.\n"
     ]
    },
    {
     "name": "stdout",
     "output_type": "stream",
     "text": [
      "/home/jakob/Johanna/Masterarbeit/corpus/Jugend/Jahrgang 2/all/37.jpg\n"
     ]
    },
    {
     "name": "stderr",
     "output_type": "stream",
     "text": [
      "/home/jakob/anaconda3/envs/JohannaProbiert/lib/python3.7/site-packages/ipykernel_launcher.py:13: UserWarning: /home/jakob/Johanna/Masterarbeit/corpus/Jugend/Jahrgang 2/bin/37.png is a boolean image: setting True to 255 and False to 0. To silence this warning, please convert the image using img_as_ubyte.\n",
      "  del sys.path[0]\n",
      "Lossy conversion from float64 to uint8. Range [0, 1]. Convert image to uint8 prior to saving to suppress this warning.\n"
     ]
    },
    {
     "name": "stdout",
     "output_type": "stream",
     "text": [
      "/home/jakob/Johanna/Masterarbeit/corpus/Jugend/Jahrgang 2/all/35.jpg\n"
     ]
    },
    {
     "name": "stderr",
     "output_type": "stream",
     "text": [
      "/home/jakob/anaconda3/envs/JohannaProbiert/lib/python3.7/site-packages/ipykernel_launcher.py:13: UserWarning: /home/jakob/Johanna/Masterarbeit/corpus/Jugend/Jahrgang 2/bin/35.png is a boolean image: setting True to 255 and False to 0. To silence this warning, please convert the image using img_as_ubyte.\n",
      "  del sys.path[0]\n",
      "Lossy conversion from float64 to uint8. Range [0, 1]. Convert image to uint8 prior to saving to suppress this warning.\n"
     ]
    },
    {
     "name": "stdout",
     "output_type": "stream",
     "text": [
      "/home/jakob/Johanna/Masterarbeit/corpus/Jugend/Jahrgang 2/all/106.jpg\n"
     ]
    },
    {
     "name": "stderr",
     "output_type": "stream",
     "text": [
      "/home/jakob/anaconda3/envs/JohannaProbiert/lib/python3.7/site-packages/ipykernel_launcher.py:13: UserWarning: /home/jakob/Johanna/Masterarbeit/corpus/Jugend/Jahrgang 2/bin/106.png is a boolean image: setting True to 255 and False to 0. To silence this warning, please convert the image using img_as_ubyte.\n",
      "  del sys.path[0]\n",
      "Lossy conversion from float64 to uint8. Range [0, 1]. Convert image to uint8 prior to saving to suppress this warning.\n"
     ]
    },
    {
     "name": "stdout",
     "output_type": "stream",
     "text": [
      "/home/jakob/Johanna/Masterarbeit/corpus/Jugend/Jahrgang 2/all/204.jpg\n"
     ]
    },
    {
     "name": "stderr",
     "output_type": "stream",
     "text": [
      "/home/jakob/anaconda3/envs/JohannaProbiert/lib/python3.7/site-packages/ipykernel_launcher.py:13: UserWarning: /home/jakob/Johanna/Masterarbeit/corpus/Jugend/Jahrgang 2/bin/204.png is a boolean image: setting True to 255 and False to 0. To silence this warning, please convert the image using img_as_ubyte.\n",
      "  del sys.path[0]\n",
      "Lossy conversion from float64 to uint8. Range [0, 1]. Convert image to uint8 prior to saving to suppress this warning.\n"
     ]
    },
    {
     "name": "stdout",
     "output_type": "stream",
     "text": [
      "/home/jakob/Johanna/Masterarbeit/corpus/Jugend/Jahrgang 2/all/63.jpg\n"
     ]
    },
    {
     "name": "stderr",
     "output_type": "stream",
     "text": [
      "/home/jakob/anaconda3/envs/JohannaProbiert/lib/python3.7/site-packages/ipykernel_launcher.py:13: UserWarning: /home/jakob/Johanna/Masterarbeit/corpus/Jugend/Jahrgang 2/bin/63.png is a boolean image: setting True to 255 and False to 0. To silence this warning, please convert the image using img_as_ubyte.\n",
      "  del sys.path[0]\n",
      "Lossy conversion from float64 to uint8. Range [0, 1]. Convert image to uint8 prior to saving to suppress this warning.\n"
     ]
    },
    {
     "name": "stdout",
     "output_type": "stream",
     "text": [
      "/home/jakob/Johanna/Masterarbeit/corpus/Jugend/Jahrgang 2/all/176.jpg\n"
     ]
    },
    {
     "name": "stderr",
     "output_type": "stream",
     "text": [
      "/home/jakob/anaconda3/envs/JohannaProbiert/lib/python3.7/site-packages/ipykernel_launcher.py:13: UserWarning: /home/jakob/Johanna/Masterarbeit/corpus/Jugend/Jahrgang 2/bin/176.png is a boolean image: setting True to 255 and False to 0. To silence this warning, please convert the image using img_as_ubyte.\n",
      "  del sys.path[0]\n",
      "Lossy conversion from float64 to uint8. Range [0, 1]. Convert image to uint8 prior to saving to suppress this warning.\n"
     ]
    },
    {
     "name": "stdout",
     "output_type": "stream",
     "text": [
      "/home/jakob/Johanna/Masterarbeit/corpus/Jugend/Jahrgang 2/all/206.jpg\n"
     ]
    },
    {
     "name": "stderr",
     "output_type": "stream",
     "text": [
      "/home/jakob/anaconda3/envs/JohannaProbiert/lib/python3.7/site-packages/ipykernel_launcher.py:13: UserWarning: /home/jakob/Johanna/Masterarbeit/corpus/Jugend/Jahrgang 2/bin/206.png is a boolean image: setting True to 255 and False to 0. To silence this warning, please convert the image using img_as_ubyte.\n",
      "  del sys.path[0]\n",
      "Lossy conversion from float64 to uint8. Range [0, 1]. Convert image to uint8 prior to saving to suppress this warning.\n"
     ]
    },
    {
     "name": "stdout",
     "output_type": "stream",
     "text": [
      "/home/jakob/Johanna/Masterarbeit/corpus/Jugend/Jahrgang 2/all/56.jpg\n"
     ]
    },
    {
     "name": "stderr",
     "output_type": "stream",
     "text": [
      "/home/jakob/anaconda3/envs/JohannaProbiert/lib/python3.7/site-packages/ipykernel_launcher.py:13: UserWarning: /home/jakob/Johanna/Masterarbeit/corpus/Jugend/Jahrgang 2/bin/56.png is a boolean image: setting True to 255 and False to 0. To silence this warning, please convert the image using img_as_ubyte.\n",
      "  del sys.path[0]\n",
      "Lossy conversion from float64 to uint8. Range [0, 1]. Convert image to uint8 prior to saving to suppress this warning.\n"
     ]
    },
    {
     "name": "stdout",
     "output_type": "stream",
     "text": [
      "/home/jakob/Johanna/Masterarbeit/corpus/Jugend/Jahrgang 2/all/220.jpg\n"
     ]
    },
    {
     "name": "stderr",
     "output_type": "stream",
     "text": [
      "/home/jakob/anaconda3/envs/JohannaProbiert/lib/python3.7/site-packages/ipykernel_launcher.py:13: UserWarning: /home/jakob/Johanna/Masterarbeit/corpus/Jugend/Jahrgang 2/bin/220.png is a boolean image: setting True to 255 and False to 0. To silence this warning, please convert the image using img_as_ubyte.\n",
      "  del sys.path[0]\n",
      "Lossy conversion from float64 to uint8. Range [0, 1]. Convert image to uint8 prior to saving to suppress this warning.\n"
     ]
    },
    {
     "name": "stdout",
     "output_type": "stream",
     "text": [
      "/home/jakob/Johanna/Masterarbeit/corpus/Jugend/Jahrgang 2/all/64.jpg\n"
     ]
    },
    {
     "name": "stderr",
     "output_type": "stream",
     "text": [
      "/home/jakob/anaconda3/envs/JohannaProbiert/lib/python3.7/site-packages/ipykernel_launcher.py:13: UserWarning: /home/jakob/Johanna/Masterarbeit/corpus/Jugend/Jahrgang 2/bin/64.png is a boolean image: setting True to 255 and False to 0. To silence this warning, please convert the image using img_as_ubyte.\n",
      "  del sys.path[0]\n",
      "Lossy conversion from float64 to uint8. Range [0, 1]. Convert image to uint8 prior to saving to suppress this warning.\n"
     ]
    },
    {
     "name": "stdout",
     "output_type": "stream",
     "text": [
      "/home/jakob/Johanna/Masterarbeit/corpus/Jugend/Jahrgang 2/all/118.jpg\n"
     ]
    },
    {
     "name": "stderr",
     "output_type": "stream",
     "text": [
      "/home/jakob/anaconda3/envs/JohannaProbiert/lib/python3.7/site-packages/ipykernel_launcher.py:13: UserWarning: /home/jakob/Johanna/Masterarbeit/corpus/Jugend/Jahrgang 2/bin/118.png is a boolean image: setting True to 255 and False to 0. To silence this warning, please convert the image using img_as_ubyte.\n",
      "  del sys.path[0]\n",
      "Lossy conversion from float64 to uint8. Range [0, 1]. Convert image to uint8 prior to saving to suppress this warning.\n"
     ]
    },
    {
     "name": "stdout",
     "output_type": "stream",
     "text": [
      "/home/jakob/Johanna/Masterarbeit/corpus/Jugend/Jahrgang 2/all/208.jpg\n"
     ]
    },
    {
     "name": "stderr",
     "output_type": "stream",
     "text": [
      "/home/jakob/anaconda3/envs/JohannaProbiert/lib/python3.7/site-packages/ipykernel_launcher.py:13: UserWarning: /home/jakob/Johanna/Masterarbeit/corpus/Jugend/Jahrgang 2/bin/208.png is a boolean image: setting True to 255 and False to 0. To silence this warning, please convert the image using img_as_ubyte.\n",
      "  del sys.path[0]\n",
      "Lossy conversion from float64 to uint8. Range [0, 1]. Convert image to uint8 prior to saving to suppress this warning.\n"
     ]
    },
    {
     "name": "stdout",
     "output_type": "stream",
     "text": [
      "/home/jakob/Johanna/Masterarbeit/corpus/Jugend/Jahrgang 2/all/73.jpg\n"
     ]
    },
    {
     "name": "stderr",
     "output_type": "stream",
     "text": [
      "/home/jakob/anaconda3/envs/JohannaProbiert/lib/python3.7/site-packages/ipykernel_launcher.py:13: UserWarning: /home/jakob/Johanna/Masterarbeit/corpus/Jugend/Jahrgang 2/bin/73.png is a boolean image: setting True to 255 and False to 0. To silence this warning, please convert the image using img_as_ubyte.\n",
      "  del sys.path[0]\n",
      "Lossy conversion from float64 to uint8. Range [0, 1]. Convert image to uint8 prior to saving to suppress this warning.\n"
     ]
    },
    {
     "name": "stdout",
     "output_type": "stream",
     "text": [
      "/home/jakob/Johanna/Masterarbeit/corpus/Jugend/Jahrgang 2/all/230.jpg\n"
     ]
    },
    {
     "name": "stderr",
     "output_type": "stream",
     "text": [
      "/home/jakob/anaconda3/envs/JohannaProbiert/lib/python3.7/site-packages/ipykernel_launcher.py:13: UserWarning: /home/jakob/Johanna/Masterarbeit/corpus/Jugend/Jahrgang 2/bin/230.png is a boolean image: setting True to 255 and False to 0. To silence this warning, please convert the image using img_as_ubyte.\n",
      "  del sys.path[0]\n",
      "Lossy conversion from float64 to uint8. Range [0, 1]. Convert image to uint8 prior to saving to suppress this warning.\n"
     ]
    },
    {
     "name": "stdout",
     "output_type": "stream",
     "text": [
      "/home/jakob/Johanna/Masterarbeit/corpus/Jugend/Jahrgang 2/all/222.jpg\n"
     ]
    },
    {
     "name": "stderr",
     "output_type": "stream",
     "text": [
      "/home/jakob/anaconda3/envs/JohannaProbiert/lib/python3.7/site-packages/ipykernel_launcher.py:13: UserWarning: /home/jakob/Johanna/Masterarbeit/corpus/Jugend/Jahrgang 2/bin/222.png is a boolean image: setting True to 255 and False to 0. To silence this warning, please convert the image using img_as_ubyte.\n",
      "  del sys.path[0]\n",
      "Lossy conversion from float64 to uint8. Range [0, 1]. Convert image to uint8 prior to saving to suppress this warning.\n"
     ]
    },
    {
     "name": "stdout",
     "output_type": "stream",
     "text": [
      "/home/jakob/Johanna/Masterarbeit/corpus/Jugend/Jahrgang 2/all/131.jpg\n"
     ]
    },
    {
     "name": "stderr",
     "output_type": "stream",
     "text": [
      "/home/jakob/anaconda3/envs/JohannaProbiert/lib/python3.7/site-packages/ipykernel_launcher.py:13: UserWarning: /home/jakob/Johanna/Masterarbeit/corpus/Jugend/Jahrgang 2/bin/131.png is a boolean image: setting True to 255 and False to 0. To silence this warning, please convert the image using img_as_ubyte.\n",
      "  del sys.path[0]\n",
      "Lossy conversion from float64 to uint8. Range [0, 1]. Convert image to uint8 prior to saving to suppress this warning.\n"
     ]
    },
    {
     "name": "stdout",
     "output_type": "stream",
     "text": [
      "/home/jakob/Johanna/Masterarbeit/corpus/Jugend/Jahrgang 2/all/95.jpg\n"
     ]
    },
    {
     "name": "stderr",
     "output_type": "stream",
     "text": [
      "/home/jakob/anaconda3/envs/JohannaProbiert/lib/python3.7/site-packages/ipykernel_launcher.py:13: UserWarning: /home/jakob/Johanna/Masterarbeit/corpus/Jugend/Jahrgang 2/bin/95.png is a boolean image: setting True to 255 and False to 0. To silence this warning, please convert the image using img_as_ubyte.\n",
      "  del sys.path[0]\n",
      "Lossy conversion from float64 to uint8. Range [0, 1]. Convert image to uint8 prior to saving to suppress this warning.\n"
     ]
    },
    {
     "name": "stdout",
     "output_type": "stream",
     "text": [
      "/home/jakob/Johanna/Masterarbeit/corpus/Jugend/Jahrgang 2/all/148.jpg\n"
     ]
    },
    {
     "name": "stderr",
     "output_type": "stream",
     "text": [
      "/home/jakob/anaconda3/envs/JohannaProbiert/lib/python3.7/site-packages/ipykernel_launcher.py:13: UserWarning: /home/jakob/Johanna/Masterarbeit/corpus/Jugend/Jahrgang 2/bin/148.png is a boolean image: setting True to 255 and False to 0. To silence this warning, please convert the image using img_as_ubyte.\n",
      "  del sys.path[0]\n",
      "Lossy conversion from float64 to uint8. Range [0, 1]. Convert image to uint8 prior to saving to suppress this warning.\n"
     ]
    },
    {
     "name": "stdout",
     "output_type": "stream",
     "text": [
      "/home/jakob/Johanna/Masterarbeit/corpus/Jugend/Jahrgang 2/all/164.jpg\n"
     ]
    },
    {
     "name": "stderr",
     "output_type": "stream",
     "text": [
      "/home/jakob/anaconda3/envs/JohannaProbiert/lib/python3.7/site-packages/ipykernel_launcher.py:13: UserWarning: /home/jakob/Johanna/Masterarbeit/corpus/Jugend/Jahrgang 2/bin/164.png is a boolean image: setting True to 255 and False to 0. To silence this warning, please convert the image using img_as_ubyte.\n",
      "  del sys.path[0]\n",
      "Lossy conversion from float64 to uint8. Range [0, 1]. Convert image to uint8 prior to saving to suppress this warning.\n"
     ]
    },
    {
     "name": "stdout",
     "output_type": "stream",
     "text": [
      "/home/jakob/Johanna/Masterarbeit/corpus/Jugend/Jahrgang 2/all/167.jpg\n"
     ]
    },
    {
     "name": "stderr",
     "output_type": "stream",
     "text": [
      "/home/jakob/anaconda3/envs/JohannaProbiert/lib/python3.7/site-packages/ipykernel_launcher.py:13: UserWarning: /home/jakob/Johanna/Masterarbeit/corpus/Jugend/Jahrgang 2/bin/167.png is a boolean image: setting True to 255 and False to 0. To silence this warning, please convert the image using img_as_ubyte.\n",
      "  del sys.path[0]\n",
      "Lossy conversion from float64 to uint8. Range [0, 1]. Convert image to uint8 prior to saving to suppress this warning.\n"
     ]
    },
    {
     "name": "stdout",
     "output_type": "stream",
     "text": [
      "/home/jakob/Johanna/Masterarbeit/corpus/Jugend/Jahrgang 2/all/101.jpg\n"
     ]
    },
    {
     "name": "stderr",
     "output_type": "stream",
     "text": [
      "/home/jakob/anaconda3/envs/JohannaProbiert/lib/python3.7/site-packages/ipykernel_launcher.py:13: UserWarning: /home/jakob/Johanna/Masterarbeit/corpus/Jugend/Jahrgang 2/bin/101.png is a boolean image: setting True to 255 and False to 0. To silence this warning, please convert the image using img_as_ubyte.\n",
      "  del sys.path[0]\n",
      "Lossy conversion from float64 to uint8. Range [0, 1]. Convert image to uint8 prior to saving to suppress this warning.\n"
     ]
    },
    {
     "name": "stdout",
     "output_type": "stream",
     "text": [
      "/home/jakob/Johanna/Masterarbeit/corpus/Jugend/Jahrgang 2/all/215.jpg\n"
     ]
    },
    {
     "name": "stderr",
     "output_type": "stream",
     "text": [
      "/home/jakob/anaconda3/envs/JohannaProbiert/lib/python3.7/site-packages/ipykernel_launcher.py:13: UserWarning: /home/jakob/Johanna/Masterarbeit/corpus/Jugend/Jahrgang 2/bin/215.png is a boolean image: setting True to 255 and False to 0. To silence this warning, please convert the image using img_as_ubyte.\n",
      "  del sys.path[0]\n",
      "Lossy conversion from float64 to uint8. Range [0, 1]. Convert image to uint8 prior to saving to suppress this warning.\n"
     ]
    },
    {
     "name": "stdout",
     "output_type": "stream",
     "text": [
      "/home/jakob/Johanna/Masterarbeit/corpus/Jugend/Jahrgang 2/all/125.jpg\n"
     ]
    },
    {
     "name": "stderr",
     "output_type": "stream",
     "text": [
      "/home/jakob/anaconda3/envs/JohannaProbiert/lib/python3.7/site-packages/ipykernel_launcher.py:13: UserWarning: /home/jakob/Johanna/Masterarbeit/corpus/Jugend/Jahrgang 2/bin/125.png is a boolean image: setting True to 255 and False to 0. To silence this warning, please convert the image using img_as_ubyte.\n",
      "  del sys.path[0]\n",
      "Lossy conversion from float64 to uint8. Range [0, 1]. Convert image to uint8 prior to saving to suppress this warning.\n"
     ]
    },
    {
     "name": "stdout",
     "output_type": "stream",
     "text": [
      "/home/jakob/Johanna/Masterarbeit/corpus/Jugend/Jahrgang 2/all/216.jpg\n"
     ]
    },
    {
     "name": "stderr",
     "output_type": "stream",
     "text": [
      "/home/jakob/anaconda3/envs/JohannaProbiert/lib/python3.7/site-packages/ipykernel_launcher.py:13: UserWarning: /home/jakob/Johanna/Masterarbeit/corpus/Jugend/Jahrgang 2/bin/216.png is a boolean image: setting True to 255 and False to 0. To silence this warning, please convert the image using img_as_ubyte.\n",
      "  del sys.path[0]\n",
      "Lossy conversion from float64 to uint8. Range [0, 1]. Convert image to uint8 prior to saving to suppress this warning.\n"
     ]
    },
    {
     "name": "stdout",
     "output_type": "stream",
     "text": [
      "/home/jakob/Johanna/Masterarbeit/corpus/Jugend/Jahrgang 2/all/141.jpg\n"
     ]
    },
    {
     "name": "stderr",
     "output_type": "stream",
     "text": [
      "/home/jakob/anaconda3/envs/JohannaProbiert/lib/python3.7/site-packages/ipykernel_launcher.py:13: UserWarning: /home/jakob/Johanna/Masterarbeit/corpus/Jugend/Jahrgang 2/bin/141.png is a boolean image: setting True to 255 and False to 0. To silence this warning, please convert the image using img_as_ubyte.\n",
      "  del sys.path[0]\n",
      "Lossy conversion from float64 to uint8. Range [0, 1]. Convert image to uint8 prior to saving to suppress this warning.\n"
     ]
    },
    {
     "name": "stdout",
     "output_type": "stream",
     "text": [
      "/home/jakob/Johanna/Masterarbeit/corpus/Jugend/Jahrgang 2/all/1.jpg\n"
     ]
    },
    {
     "name": "stderr",
     "output_type": "stream",
     "text": [
      "/home/jakob/anaconda3/envs/JohannaProbiert/lib/python3.7/site-packages/ipykernel_launcher.py:13: UserWarning: /home/jakob/Johanna/Masterarbeit/corpus/Jugend/Jahrgang 2/bin/1.png is a boolean image: setting True to 255 and False to 0. To silence this warning, please convert the image using img_as_ubyte.\n",
      "  del sys.path[0]\n",
      "Lossy conversion from float64 to uint8. Range [0, 1]. Convert image to uint8 prior to saving to suppress this warning.\n"
     ]
    },
    {
     "name": "stdout",
     "output_type": "stream",
     "text": [
      "/home/jakob/Johanna/Masterarbeit/corpus/Jugend/Jahrgang 2/all/121.jpg\n"
     ]
    },
    {
     "name": "stderr",
     "output_type": "stream",
     "text": [
      "/home/jakob/anaconda3/envs/JohannaProbiert/lib/python3.7/site-packages/ipykernel_launcher.py:13: UserWarning: /home/jakob/Johanna/Masterarbeit/corpus/Jugend/Jahrgang 2/bin/121.png is a boolean image: setting True to 255 and False to 0. To silence this warning, please convert the image using img_as_ubyte.\n",
      "  del sys.path[0]\n",
      "Lossy conversion from float64 to uint8. Range [0, 1]. Convert image to uint8 prior to saving to suppress this warning.\n"
     ]
    },
    {
     "name": "stdout",
     "output_type": "stream",
     "text": [
      "/home/jakob/Johanna/Masterarbeit/corpus/Jugend/Jahrgang 2/all/114.jpg\n"
     ]
    },
    {
     "name": "stderr",
     "output_type": "stream",
     "text": [
      "/home/jakob/anaconda3/envs/JohannaProbiert/lib/python3.7/site-packages/ipykernel_launcher.py:13: UserWarning: /home/jakob/Johanna/Masterarbeit/corpus/Jugend/Jahrgang 2/bin/114.png is a boolean image: setting True to 255 and False to 0. To silence this warning, please convert the image using img_as_ubyte.\n",
      "  del sys.path[0]\n",
      "Lossy conversion from float64 to uint8. Range [0, 1]. Convert image to uint8 prior to saving to suppress this warning.\n"
     ]
    },
    {
     "name": "stdout",
     "output_type": "stream",
     "text": [
      "/home/jakob/Johanna/Masterarbeit/corpus/Jugend/Jahrgang 2/all/19.jpg\n"
     ]
    },
    {
     "name": "stderr",
     "output_type": "stream",
     "text": [
      "/home/jakob/anaconda3/envs/JohannaProbiert/lib/python3.7/site-packages/ipykernel_launcher.py:13: UserWarning: /home/jakob/Johanna/Masterarbeit/corpus/Jugend/Jahrgang 2/bin/19.png is a boolean image: setting True to 255 and False to 0. To silence this warning, please convert the image using img_as_ubyte.\n",
      "  del sys.path[0]\n",
      "Lossy conversion from float64 to uint8. Range [0, 1]. Convert image to uint8 prior to saving to suppress this warning.\n"
     ]
    },
    {
     "name": "stdout",
     "output_type": "stream",
     "text": [
      "/home/jakob/Johanna/Masterarbeit/corpus/Jugend/Jahrgang 2/all/130.jpg\n"
     ]
    },
    {
     "name": "stderr",
     "output_type": "stream",
     "text": [
      "/home/jakob/anaconda3/envs/JohannaProbiert/lib/python3.7/site-packages/ipykernel_launcher.py:13: UserWarning: /home/jakob/Johanna/Masterarbeit/corpus/Jugend/Jahrgang 2/bin/130.png is a boolean image: setting True to 255 and False to 0. To silence this warning, please convert the image using img_as_ubyte.\n",
      "  del sys.path[0]\n",
      "Lossy conversion from float64 to uint8. Range [0, 1]. Convert image to uint8 prior to saving to suppress this warning.\n"
     ]
    },
    {
     "name": "stdout",
     "output_type": "stream",
     "text": [
      "/home/jakob/Johanna/Masterarbeit/corpus/Jugend/Jahrgang 2/all/47.jpg\n"
     ]
    },
    {
     "name": "stderr",
     "output_type": "stream",
     "text": [
      "/home/jakob/anaconda3/envs/JohannaProbiert/lib/python3.7/site-packages/ipykernel_launcher.py:13: UserWarning: /home/jakob/Johanna/Masterarbeit/corpus/Jugend/Jahrgang 2/bin/47.png is a boolean image: setting True to 255 and False to 0. To silence this warning, please convert the image using img_as_ubyte.\n",
      "  del sys.path[0]\n",
      "Lossy conversion from float64 to uint8. Range [0, 1]. Convert image to uint8 prior to saving to suppress this warning.\n"
     ]
    },
    {
     "name": "stdout",
     "output_type": "stream",
     "text": [
      "/home/jakob/Johanna/Masterarbeit/corpus/Jugend/Jahrgang 2/all/32.jpg\n"
     ]
    },
    {
     "name": "stderr",
     "output_type": "stream",
     "text": [
      "/home/jakob/anaconda3/envs/JohannaProbiert/lib/python3.7/site-packages/ipykernel_launcher.py:13: UserWarning: /home/jakob/Johanna/Masterarbeit/corpus/Jugend/Jahrgang 2/bin/32.png is a boolean image: setting True to 255 and False to 0. To silence this warning, please convert the image using img_as_ubyte.\n",
      "  del sys.path[0]\n",
      "Lossy conversion from float64 to uint8. Range [0, 1]. Convert image to uint8 prior to saving to suppress this warning.\n"
     ]
    },
    {
     "name": "stdout",
     "output_type": "stream",
     "text": [
      "/home/jakob/Johanna/Masterarbeit/corpus/Jugend/Jahrgang 2/all/262.jpg\n"
     ]
    },
    {
     "name": "stderr",
     "output_type": "stream",
     "text": [
      "/home/jakob/anaconda3/envs/JohannaProbiert/lib/python3.7/site-packages/ipykernel_launcher.py:13: UserWarning: /home/jakob/Johanna/Masterarbeit/corpus/Jugend/Jahrgang 2/bin/262.png is a boolean image: setting True to 255 and False to 0. To silence this warning, please convert the image using img_as_ubyte.\n",
      "  del sys.path[0]\n",
      "Lossy conversion from float64 to uint8. Range [0, 1]. Convert image to uint8 prior to saving to suppress this warning.\n"
     ]
    },
    {
     "name": "stdout",
     "output_type": "stream",
     "text": [
      "/home/jakob/Johanna/Masterarbeit/corpus/Jugend/Jahrgang 2/all/169.jpg\n"
     ]
    },
    {
     "name": "stderr",
     "output_type": "stream",
     "text": [
      "/home/jakob/anaconda3/envs/JohannaProbiert/lib/python3.7/site-packages/ipykernel_launcher.py:13: UserWarning: /home/jakob/Johanna/Masterarbeit/corpus/Jugend/Jahrgang 2/bin/169.png is a boolean image: setting True to 255 and False to 0. To silence this warning, please convert the image using img_as_ubyte.\n",
      "  del sys.path[0]\n",
      "Lossy conversion from float64 to uint8. Range [0, 1]. Convert image to uint8 prior to saving to suppress this warning.\n"
     ]
    },
    {
     "name": "stdout",
     "output_type": "stream",
     "text": [
      "/home/jakob/Johanna/Masterarbeit/corpus/Jugend/Jahrgang 2/all/115.jpg\n"
     ]
    },
    {
     "name": "stderr",
     "output_type": "stream",
     "text": [
      "/home/jakob/anaconda3/envs/JohannaProbiert/lib/python3.7/site-packages/ipykernel_launcher.py:13: UserWarning: /home/jakob/Johanna/Masterarbeit/corpus/Jugend/Jahrgang 2/bin/115.png is a boolean image: setting True to 255 and False to 0. To silence this warning, please convert the image using img_as_ubyte.\n",
      "  del sys.path[0]\n",
      "Lossy conversion from float64 to uint8. Range [0, 1]. Convert image to uint8 prior to saving to suppress this warning.\n"
     ]
    },
    {
     "name": "stdout",
     "output_type": "stream",
     "text": [
      "/home/jakob/Johanna/Masterarbeit/corpus/Jugend/Jahrgang 2/all/104.jpg\n"
     ]
    },
    {
     "name": "stderr",
     "output_type": "stream",
     "text": [
      "/home/jakob/anaconda3/envs/JohannaProbiert/lib/python3.7/site-packages/ipykernel_launcher.py:13: UserWarning: /home/jakob/Johanna/Masterarbeit/corpus/Jugend/Jahrgang 2/bin/104.png is a boolean image: setting True to 255 and False to 0. To silence this warning, please convert the image using img_as_ubyte.\n",
      "  del sys.path[0]\n",
      "Lossy conversion from float64 to uint8. Range [0, 1]. Convert image to uint8 prior to saving to suppress this warning.\n"
     ]
    },
    {
     "name": "stdout",
     "output_type": "stream",
     "text": [
      "/home/jakob/Johanna/Masterarbeit/corpus/Jugend/Jahrgang 2/all/259.jpg\n"
     ]
    },
    {
     "name": "stderr",
     "output_type": "stream",
     "text": [
      "/home/jakob/anaconda3/envs/JohannaProbiert/lib/python3.7/site-packages/ipykernel_launcher.py:13: UserWarning: /home/jakob/Johanna/Masterarbeit/corpus/Jugend/Jahrgang 2/bin/259.png is a boolean image: setting True to 255 and False to 0. To silence this warning, please convert the image using img_as_ubyte.\n",
      "  del sys.path[0]\n",
      "Lossy conversion from float64 to uint8. Range [0, 1]. Convert image to uint8 prior to saving to suppress this warning.\n"
     ]
    },
    {
     "name": "stdout",
     "output_type": "stream",
     "text": [
      "/home/jakob/Johanna/Masterarbeit/corpus/Jugend/Jahrgang 2/all/112.jpg\n"
     ]
    },
    {
     "name": "stderr",
     "output_type": "stream",
     "text": [
      "/home/jakob/anaconda3/envs/JohannaProbiert/lib/python3.7/site-packages/ipykernel_launcher.py:13: UserWarning: /home/jakob/Johanna/Masterarbeit/corpus/Jugend/Jahrgang 2/bin/112.png is a boolean image: setting True to 255 and False to 0. To silence this warning, please convert the image using img_as_ubyte.\n",
      "  del sys.path[0]\n",
      "Lossy conversion from float64 to uint8. Range [0, 1]. Convert image to uint8 prior to saving to suppress this warning.\n"
     ]
    },
    {
     "name": "stdout",
     "output_type": "stream",
     "text": [
      "/home/jakob/Johanna/Masterarbeit/corpus/Jugend/Jahrgang 2/all/77.jpg\n"
     ]
    },
    {
     "name": "stderr",
     "output_type": "stream",
     "text": [
      "/home/jakob/anaconda3/envs/JohannaProbiert/lib/python3.7/site-packages/ipykernel_launcher.py:13: UserWarning: /home/jakob/Johanna/Masterarbeit/corpus/Jugend/Jahrgang 2/bin/77.png is a boolean image: setting True to 255 and False to 0. To silence this warning, please convert the image using img_as_ubyte.\n",
      "  del sys.path[0]\n",
      "Lossy conversion from float64 to uint8. Range [0, 1]. Convert image to uint8 prior to saving to suppress this warning.\n"
     ]
    },
    {
     "name": "stdout",
     "output_type": "stream",
     "text": [
      "/home/jakob/Johanna/Masterarbeit/corpus/Jugend/Jahrgang 2/all/120.jpg\n"
     ]
    },
    {
     "name": "stderr",
     "output_type": "stream",
     "text": [
      "/home/jakob/anaconda3/envs/JohannaProbiert/lib/python3.7/site-packages/ipykernel_launcher.py:13: UserWarning: /home/jakob/Johanna/Masterarbeit/corpus/Jugend/Jahrgang 2/bin/120.png is a boolean image: setting True to 255 and False to 0. To silence this warning, please convert the image using img_as_ubyte.\n",
      "  del sys.path[0]\n",
      "Lossy conversion from float64 to uint8. Range [0, 1]. Convert image to uint8 prior to saving to suppress this warning.\n"
     ]
    },
    {
     "name": "stdout",
     "output_type": "stream",
     "text": [
      "/home/jakob/Johanna/Masterarbeit/corpus/Jugend/Jahrgang 2/all/8.jpg\n"
     ]
    },
    {
     "name": "stderr",
     "output_type": "stream",
     "text": [
      "/home/jakob/anaconda3/envs/JohannaProbiert/lib/python3.7/site-packages/ipykernel_launcher.py:13: UserWarning: /home/jakob/Johanna/Masterarbeit/corpus/Jugend/Jahrgang 2/bin/8.png is a boolean image: setting True to 255 and False to 0. To silence this warning, please convert the image using img_as_ubyte.\n",
      "  del sys.path[0]\n",
      "Lossy conversion from float64 to uint8. Range [0, 1]. Convert image to uint8 prior to saving to suppress this warning.\n"
     ]
    },
    {
     "name": "stdout",
     "output_type": "stream",
     "text": [
      "/home/jakob/Johanna/Masterarbeit/corpus/Jugend/Jahrgang 2/all/48.jpg\n"
     ]
    },
    {
     "name": "stderr",
     "output_type": "stream",
     "text": [
      "/home/jakob/anaconda3/envs/JohannaProbiert/lib/python3.7/site-packages/ipykernel_launcher.py:13: UserWarning: /home/jakob/Johanna/Masterarbeit/corpus/Jugend/Jahrgang 2/bin/48.png is a boolean image: setting True to 255 and False to 0. To silence this warning, please convert the image using img_as_ubyte.\n",
      "  del sys.path[0]\n",
      "Lossy conversion from float64 to uint8. Range [0, 1]. Convert image to uint8 prior to saving to suppress this warning.\n"
     ]
    },
    {
     "name": "stdout",
     "output_type": "stream",
     "text": [
      "/home/jakob/Johanna/Masterarbeit/corpus/Jugend/Jahrgang 2/all/168.jpg\n"
     ]
    },
    {
     "name": "stderr",
     "output_type": "stream",
     "text": [
      "/home/jakob/anaconda3/envs/JohannaProbiert/lib/python3.7/site-packages/ipykernel_launcher.py:13: UserWarning: /home/jakob/Johanna/Masterarbeit/corpus/Jugend/Jahrgang 2/bin/168.png is a boolean image: setting True to 255 and False to 0. To silence this warning, please convert the image using img_as_ubyte.\n",
      "  del sys.path[0]\n",
      "Lossy conversion from float64 to uint8. Range [0, 1]. Convert image to uint8 prior to saving to suppress this warning.\n"
     ]
    },
    {
     "name": "stdout",
     "output_type": "stream",
     "text": [
      "/home/jakob/Johanna/Masterarbeit/corpus/Jugend/Jahrgang 2/all/192.jpg\n"
     ]
    },
    {
     "name": "stderr",
     "output_type": "stream",
     "text": [
      "/home/jakob/anaconda3/envs/JohannaProbiert/lib/python3.7/site-packages/ipykernel_launcher.py:13: UserWarning: /home/jakob/Johanna/Masterarbeit/corpus/Jugend/Jahrgang 2/bin/192.png is a boolean image: setting True to 255 and False to 0. To silence this warning, please convert the image using img_as_ubyte.\n",
      "  del sys.path[0]\n",
      "Lossy conversion from float64 to uint8. Range [0, 1]. Convert image to uint8 prior to saving to suppress this warning.\n"
     ]
    },
    {
     "name": "stdout",
     "output_type": "stream",
     "text": [
      "/home/jakob/Johanna/Masterarbeit/corpus/Jugend/Jahrgang 2/all/223.jpg\n"
     ]
    },
    {
     "name": "stderr",
     "output_type": "stream",
     "text": [
      "/home/jakob/anaconda3/envs/JohannaProbiert/lib/python3.7/site-packages/ipykernel_launcher.py:13: UserWarning: /home/jakob/Johanna/Masterarbeit/corpus/Jugend/Jahrgang 2/bin/223.png is a boolean image: setting True to 255 and False to 0. To silence this warning, please convert the image using img_as_ubyte.\n",
      "  del sys.path[0]\n",
      "Lossy conversion from float64 to uint8. Range [0, 1]. Convert image to uint8 prior to saving to suppress this warning.\n"
     ]
    },
    {
     "name": "stdout",
     "output_type": "stream",
     "text": [
      "/home/jakob/Johanna/Masterarbeit/corpus/Jugend/Jahrgang 2/all/29.jpg\n"
     ]
    },
    {
     "name": "stderr",
     "output_type": "stream",
     "text": [
      "/home/jakob/anaconda3/envs/JohannaProbiert/lib/python3.7/site-packages/ipykernel_launcher.py:13: UserWarning: /home/jakob/Johanna/Masterarbeit/corpus/Jugend/Jahrgang 2/bin/29.png is a boolean image: setting True to 255 and False to 0. To silence this warning, please convert the image using img_as_ubyte.\n",
      "  del sys.path[0]\n",
      "Lossy conversion from float64 to uint8. Range [0, 1]. Convert image to uint8 prior to saving to suppress this warning.\n"
     ]
    },
    {
     "name": "stdout",
     "output_type": "stream",
     "text": [
      "/home/jakob/Johanna/Masterarbeit/corpus/Jugend/Jahrgang 2/all/10.jpg\n"
     ]
    },
    {
     "name": "stderr",
     "output_type": "stream",
     "text": [
      "/home/jakob/anaconda3/envs/JohannaProbiert/lib/python3.7/site-packages/ipykernel_launcher.py:13: UserWarning: /home/jakob/Johanna/Masterarbeit/corpus/Jugend/Jahrgang 2/bin/10.png is a boolean image: setting True to 255 and False to 0. To silence this warning, please convert the image using img_as_ubyte.\n",
      "  del sys.path[0]\n",
      "Lossy conversion from float64 to uint8. Range [0, 1]. Convert image to uint8 prior to saving to suppress this warning.\n"
     ]
    },
    {
     "name": "stdout",
     "output_type": "stream",
     "text": [
      "/home/jakob/Johanna/Masterarbeit/corpus/Jugend/Jahrgang 2/all/213.jpg\n"
     ]
    },
    {
     "name": "stderr",
     "output_type": "stream",
     "text": [
      "/home/jakob/anaconda3/envs/JohannaProbiert/lib/python3.7/site-packages/ipykernel_launcher.py:13: UserWarning: /home/jakob/Johanna/Masterarbeit/corpus/Jugend/Jahrgang 2/bin/213.png is a boolean image: setting True to 255 and False to 0. To silence this warning, please convert the image using img_as_ubyte.\n",
      "  del sys.path[0]\n",
      "Lossy conversion from float64 to uint8. Range [0, 1]. Convert image to uint8 prior to saving to suppress this warning.\n"
     ]
    },
    {
     "name": "stdout",
     "output_type": "stream",
     "text": [
      "/home/jakob/Johanna/Masterarbeit/corpus/Jugend/Jahrgang 2/all/199.jpg\n"
     ]
    },
    {
     "name": "stderr",
     "output_type": "stream",
     "text": [
      "/home/jakob/anaconda3/envs/JohannaProbiert/lib/python3.7/site-packages/ipykernel_launcher.py:13: UserWarning: /home/jakob/Johanna/Masterarbeit/corpus/Jugend/Jahrgang 2/bin/199.png is a boolean image: setting True to 255 and False to 0. To silence this warning, please convert the image using img_as_ubyte.\n",
      "  del sys.path[0]\n",
      "Lossy conversion from float64 to uint8. Range [0, 1]. Convert image to uint8 prior to saving to suppress this warning.\n"
     ]
    },
    {
     "name": "stdout",
     "output_type": "stream",
     "text": [
      "/home/jakob/Johanna/Masterarbeit/corpus/Jugend/Jahrgang 2/all/150.jpg\n"
     ]
    },
    {
     "name": "stderr",
     "output_type": "stream",
     "text": [
      "/home/jakob/anaconda3/envs/JohannaProbiert/lib/python3.7/site-packages/ipykernel_launcher.py:13: UserWarning: /home/jakob/Johanna/Masterarbeit/corpus/Jugend/Jahrgang 2/bin/150.png is a boolean image: setting True to 255 and False to 0. To silence this warning, please convert the image using img_as_ubyte.\n",
      "  del sys.path[0]\n",
      "Lossy conversion from float64 to uint8. Range [0, 1]. Convert image to uint8 prior to saving to suppress this warning.\n"
     ]
    },
    {
     "name": "stdout",
     "output_type": "stream",
     "text": [
      "/home/jakob/Johanna/Masterarbeit/corpus/Jugend/Jahrgang 2/all/94.jpg\n"
     ]
    },
    {
     "name": "stderr",
     "output_type": "stream",
     "text": [
      "/home/jakob/anaconda3/envs/JohannaProbiert/lib/python3.7/site-packages/ipykernel_launcher.py:13: UserWarning: /home/jakob/Johanna/Masterarbeit/corpus/Jugend/Jahrgang 2/bin/94.png is a boolean image: setting True to 255 and False to 0. To silence this warning, please convert the image using img_as_ubyte.\n",
      "  del sys.path[0]\n",
      "Lossy conversion from float64 to uint8. Range [0, 1]. Convert image to uint8 prior to saving to suppress this warning.\n"
     ]
    },
    {
     "name": "stdout",
     "output_type": "stream",
     "text": [
      "/home/jakob/Johanna/Masterarbeit/corpus/Jugend/Jahrgang 2/all/251.jpg\n"
     ]
    },
    {
     "name": "stderr",
     "output_type": "stream",
     "text": [
      "/home/jakob/anaconda3/envs/JohannaProbiert/lib/python3.7/site-packages/ipykernel_launcher.py:13: UserWarning: /home/jakob/Johanna/Masterarbeit/corpus/Jugend/Jahrgang 2/bin/251.png is a boolean image: setting True to 255 and False to 0. To silence this warning, please convert the image using img_as_ubyte.\n",
      "  del sys.path[0]\n",
      "Lossy conversion from float64 to uint8. Range [0, 1]. Convert image to uint8 prior to saving to suppress this warning.\n"
     ]
    },
    {
     "name": "stdout",
     "output_type": "stream",
     "text": [
      "/home/jakob/Johanna/Masterarbeit/corpus/Jugend/Jahrgang 2/all/232.jpg\n"
     ]
    },
    {
     "name": "stderr",
     "output_type": "stream",
     "text": [
      "/home/jakob/anaconda3/envs/JohannaProbiert/lib/python3.7/site-packages/ipykernel_launcher.py:13: UserWarning: /home/jakob/Johanna/Masterarbeit/corpus/Jugend/Jahrgang 2/bin/232.png is a boolean image: setting True to 255 and False to 0. To silence this warning, please convert the image using img_as_ubyte.\n",
      "  del sys.path[0]\n",
      "Lossy conversion from float64 to uint8. Range [0, 1]. Convert image to uint8 prior to saving to suppress this warning.\n"
     ]
    },
    {
     "name": "stdout",
     "output_type": "stream",
     "text": [
      "/home/jakob/Johanna/Masterarbeit/corpus/Jugend/Jahrgang 2/all/109.jpg\n"
     ]
    },
    {
     "name": "stderr",
     "output_type": "stream",
     "text": [
      "/home/jakob/anaconda3/envs/JohannaProbiert/lib/python3.7/site-packages/ipykernel_launcher.py:13: UserWarning: /home/jakob/Johanna/Masterarbeit/corpus/Jugend/Jahrgang 2/bin/109.png is a boolean image: setting True to 255 and False to 0. To silence this warning, please convert the image using img_as_ubyte.\n",
      "  del sys.path[0]\n",
      "Lossy conversion from float64 to uint8. Range [0, 1]. Convert image to uint8 prior to saving to suppress this warning.\n"
     ]
    },
    {
     "name": "stdout",
     "output_type": "stream",
     "text": [
      "/home/jakob/Johanna/Masterarbeit/corpus/Jugend/Jahrgang 2/all/91.jpg\n"
     ]
    },
    {
     "name": "stderr",
     "output_type": "stream",
     "text": [
      "/home/jakob/anaconda3/envs/JohannaProbiert/lib/python3.7/site-packages/ipykernel_launcher.py:13: UserWarning: /home/jakob/Johanna/Masterarbeit/corpus/Jugend/Jahrgang 2/bin/91.png is a boolean image: setting True to 255 and False to 0. To silence this warning, please convert the image using img_as_ubyte.\n",
      "  del sys.path[0]\n",
      "Lossy conversion from float64 to uint8. Range [0, 1]. Convert image to uint8 prior to saving to suppress this warning.\n"
     ]
    },
    {
     "name": "stdout",
     "output_type": "stream",
     "text": [
      "/home/jakob/Johanna/Masterarbeit/corpus/Jugend/Jahrgang 2/all/45.jpg\n"
     ]
    },
    {
     "name": "stderr",
     "output_type": "stream",
     "text": [
      "/home/jakob/anaconda3/envs/JohannaProbiert/lib/python3.7/site-packages/ipykernel_launcher.py:13: UserWarning: /home/jakob/Johanna/Masterarbeit/corpus/Jugend/Jahrgang 2/bin/45.png is a boolean image: setting True to 255 and False to 0. To silence this warning, please convert the image using img_as_ubyte.\n",
      "  del sys.path[0]\n",
      "Lossy conversion from float64 to uint8. Range [0, 1]. Convert image to uint8 prior to saving to suppress this warning.\n"
     ]
    },
    {
     "name": "stdout",
     "output_type": "stream",
     "text": [
      "/home/jakob/Johanna/Masterarbeit/corpus/Jugend/Jahrgang 2/all/244.jpg\n"
     ]
    },
    {
     "name": "stderr",
     "output_type": "stream",
     "text": [
      "/home/jakob/anaconda3/envs/JohannaProbiert/lib/python3.7/site-packages/ipykernel_launcher.py:13: UserWarning: /home/jakob/Johanna/Masterarbeit/corpus/Jugend/Jahrgang 2/bin/244.png is a boolean image: setting True to 255 and False to 0. To silence this warning, please convert the image using img_as_ubyte.\n",
      "  del sys.path[0]\n",
      "Lossy conversion from float64 to uint8. Range [0, 1]. Convert image to uint8 prior to saving to suppress this warning.\n"
     ]
    },
    {
     "name": "stdout",
     "output_type": "stream",
     "text": [
      "/home/jakob/Johanna/Masterarbeit/corpus/Jugend/Jahrgang 2/all/51.jpg\n"
     ]
    },
    {
     "name": "stderr",
     "output_type": "stream",
     "text": [
      "/home/jakob/anaconda3/envs/JohannaProbiert/lib/python3.7/site-packages/ipykernel_launcher.py:13: UserWarning: /home/jakob/Johanna/Masterarbeit/corpus/Jugend/Jahrgang 2/bin/51.png is a boolean image: setting True to 255 and False to 0. To silence this warning, please convert the image using img_as_ubyte.\n",
      "  del sys.path[0]\n",
      "Lossy conversion from float64 to uint8. Range [0, 1]. Convert image to uint8 prior to saving to suppress this warning.\n"
     ]
    },
    {
     "name": "stdout",
     "output_type": "stream",
     "text": [
      "/home/jakob/Johanna/Masterarbeit/corpus/Jugend/Jahrgang 2/all/135.jpg\n"
     ]
    },
    {
     "name": "stderr",
     "output_type": "stream",
     "text": [
      "/home/jakob/anaconda3/envs/JohannaProbiert/lib/python3.7/site-packages/ipykernel_launcher.py:13: UserWarning: /home/jakob/Johanna/Masterarbeit/corpus/Jugend/Jahrgang 2/bin/135.png is a boolean image: setting True to 255 and False to 0. To silence this warning, please convert the image using img_as_ubyte.\n",
      "  del sys.path[0]\n",
      "Lossy conversion from float64 to uint8. Range [0, 1]. Convert image to uint8 prior to saving to suppress this warning.\n"
     ]
    },
    {
     "name": "stdout",
     "output_type": "stream",
     "text": [
      "/home/jakob/Johanna/Masterarbeit/corpus/Jugend/Jahrgang 2/all/174.jpg\n"
     ]
    },
    {
     "name": "stderr",
     "output_type": "stream",
     "text": [
      "/home/jakob/anaconda3/envs/JohannaProbiert/lib/python3.7/site-packages/ipykernel_launcher.py:13: UserWarning: /home/jakob/Johanna/Masterarbeit/corpus/Jugend/Jahrgang 2/bin/174.png is a boolean image: setting True to 255 and False to 0. To silence this warning, please convert the image using img_as_ubyte.\n",
      "  del sys.path[0]\n",
      "Lossy conversion from float64 to uint8. Range [0, 1]. Convert image to uint8 prior to saving to suppress this warning.\n"
     ]
    },
    {
     "name": "stdout",
     "output_type": "stream",
     "text": [
      "/home/jakob/Johanna/Masterarbeit/corpus/Jugend/Jahrgang 2/all/76.jpg\n"
     ]
    },
    {
     "name": "stderr",
     "output_type": "stream",
     "text": [
      "/home/jakob/anaconda3/envs/JohannaProbiert/lib/python3.7/site-packages/ipykernel_launcher.py:13: UserWarning: /home/jakob/Johanna/Masterarbeit/corpus/Jugend/Jahrgang 2/bin/76.png is a boolean image: setting True to 255 and False to 0. To silence this warning, please convert the image using img_as_ubyte.\n",
      "  del sys.path[0]\n",
      "Lossy conversion from float64 to uint8. Range [0, 1]. Convert image to uint8 prior to saving to suppress this warning.\n"
     ]
    },
    {
     "name": "stdout",
     "output_type": "stream",
     "text": [
      "/home/jakob/Johanna/Masterarbeit/corpus/Jugend/Jahrgang 2/all/155.jpg\n"
     ]
    },
    {
     "name": "stderr",
     "output_type": "stream",
     "text": [
      "/home/jakob/anaconda3/envs/JohannaProbiert/lib/python3.7/site-packages/ipykernel_launcher.py:13: UserWarning: /home/jakob/Johanna/Masterarbeit/corpus/Jugend/Jahrgang 2/bin/155.png is a boolean image: setting True to 255 and False to 0. To silence this warning, please convert the image using img_as_ubyte.\n",
      "  del sys.path[0]\n",
      "Lossy conversion from float64 to uint8. Range [0, 1]. Convert image to uint8 prior to saving to suppress this warning.\n"
     ]
    },
    {
     "name": "stdout",
     "output_type": "stream",
     "text": [
      "/home/jakob/Johanna/Masterarbeit/corpus/Jugend/Jahrgang 2/all/0.jpg\n"
     ]
    },
    {
     "name": "stderr",
     "output_type": "stream",
     "text": [
      "/home/jakob/anaconda3/envs/JohannaProbiert/lib/python3.7/site-packages/ipykernel_launcher.py:13: UserWarning: /home/jakob/Johanna/Masterarbeit/corpus/Jugend/Jahrgang 2/bin/0.png is a boolean image: setting True to 255 and False to 0. To silence this warning, please convert the image using img_as_ubyte.\n",
      "  del sys.path[0]\n",
      "Lossy conversion from float64 to uint8. Range [0, 1]. Convert image to uint8 prior to saving to suppress this warning.\n"
     ]
    },
    {
     "name": "stdout",
     "output_type": "stream",
     "text": [
      "/home/jakob/Johanna/Masterarbeit/corpus/Jugend/Jahrgang 2/all/93.jpg\n"
     ]
    },
    {
     "name": "stderr",
     "output_type": "stream",
     "text": [
      "/home/jakob/anaconda3/envs/JohannaProbiert/lib/python3.7/site-packages/ipykernel_launcher.py:13: UserWarning: /home/jakob/Johanna/Masterarbeit/corpus/Jugend/Jahrgang 2/bin/93.png is a boolean image: setting True to 255 and False to 0. To silence this warning, please convert the image using img_as_ubyte.\n",
      "  del sys.path[0]\n",
      "Lossy conversion from float64 to uint8. Range [0, 1]. Convert image to uint8 prior to saving to suppress this warning.\n"
     ]
    },
    {
     "name": "stdout",
     "output_type": "stream",
     "text": [
      "/home/jakob/Johanna/Masterarbeit/corpus/Jugend/Jahrgang 2/all/178.jpg\n"
     ]
    },
    {
     "name": "stderr",
     "output_type": "stream",
     "text": [
      "/home/jakob/anaconda3/envs/JohannaProbiert/lib/python3.7/site-packages/ipykernel_launcher.py:13: UserWarning: /home/jakob/Johanna/Masterarbeit/corpus/Jugend/Jahrgang 2/bin/178.png is a boolean image: setting True to 255 and False to 0. To silence this warning, please convert the image using img_as_ubyte.\n",
      "  del sys.path[0]\n",
      "Lossy conversion from float64 to uint8. Range [0, 1]. Convert image to uint8 prior to saving to suppress this warning.\n"
     ]
    },
    {
     "name": "stdout",
     "output_type": "stream",
     "text": [
      "/home/jakob/Johanna/Masterarbeit/corpus/Jugend/Jahrgang 2/all/123.jpg\n"
     ]
    },
    {
     "name": "stderr",
     "output_type": "stream",
     "text": [
      "/home/jakob/anaconda3/envs/JohannaProbiert/lib/python3.7/site-packages/ipykernel_launcher.py:13: UserWarning: /home/jakob/Johanna/Masterarbeit/corpus/Jugend/Jahrgang 2/bin/123.png is a boolean image: setting True to 255 and False to 0. To silence this warning, please convert the image using img_as_ubyte.\n",
      "  del sys.path[0]\n",
      "Lossy conversion from float64 to uint8. Range [0, 1]. Convert image to uint8 prior to saving to suppress this warning.\n"
     ]
    },
    {
     "name": "stdout",
     "output_type": "stream",
     "text": [
      "/home/jakob/Johanna/Masterarbeit/corpus/Jugend/Jahrgang 2/all/195.jpg\n"
     ]
    },
    {
     "name": "stderr",
     "output_type": "stream",
     "text": [
      "/home/jakob/anaconda3/envs/JohannaProbiert/lib/python3.7/site-packages/ipykernel_launcher.py:13: UserWarning: /home/jakob/Johanna/Masterarbeit/corpus/Jugend/Jahrgang 2/bin/195.png is a boolean image: setting True to 255 and False to 0. To silence this warning, please convert the image using img_as_ubyte.\n",
      "  del sys.path[0]\n",
      "Lossy conversion from float64 to uint8. Range [0, 1]. Convert image to uint8 prior to saving to suppress this warning.\n"
     ]
    },
    {
     "name": "stdout",
     "output_type": "stream",
     "text": [
      "/home/jakob/Johanna/Masterarbeit/corpus/Jugend/Jahrgang 2/all/171.jpg\n"
     ]
    },
    {
     "name": "stderr",
     "output_type": "stream",
     "text": [
      "/home/jakob/anaconda3/envs/JohannaProbiert/lib/python3.7/site-packages/ipykernel_launcher.py:13: UserWarning: /home/jakob/Johanna/Masterarbeit/corpus/Jugend/Jahrgang 2/bin/171.png is a boolean image: setting True to 255 and False to 0. To silence this warning, please convert the image using img_as_ubyte.\n",
      "  del sys.path[0]\n",
      "Lossy conversion from float64 to uint8. Range [0, 1]. Convert image to uint8 prior to saving to suppress this warning.\n"
     ]
    },
    {
     "name": "stdout",
     "output_type": "stream",
     "text": [
      "/home/jakob/Johanna/Masterarbeit/corpus/Jugend/Jahrgang 2/all/22.jpg\n"
     ]
    },
    {
     "name": "stderr",
     "output_type": "stream",
     "text": [
      "/home/jakob/anaconda3/envs/JohannaProbiert/lib/python3.7/site-packages/ipykernel_launcher.py:13: UserWarning: /home/jakob/Johanna/Masterarbeit/corpus/Jugend/Jahrgang 2/bin/22.png is a boolean image: setting True to 255 and False to 0. To silence this warning, please convert the image using img_as_ubyte.\n",
      "  del sys.path[0]\n",
      "Lossy conversion from float64 to uint8. Range [0, 1]. Convert image to uint8 prior to saving to suppress this warning.\n"
     ]
    },
    {
     "name": "stdout",
     "output_type": "stream",
     "text": [
      "/home/jakob/Johanna/Masterarbeit/corpus/Jugend/Jahrgang 2/all/20.jpg\n"
     ]
    },
    {
     "name": "stderr",
     "output_type": "stream",
     "text": [
      "/home/jakob/anaconda3/envs/JohannaProbiert/lib/python3.7/site-packages/ipykernel_launcher.py:13: UserWarning: /home/jakob/Johanna/Masterarbeit/corpus/Jugend/Jahrgang 2/bin/20.png is a boolean image: setting True to 255 and False to 0. To silence this warning, please convert the image using img_as_ubyte.\n",
      "  del sys.path[0]\n",
      "Lossy conversion from float64 to uint8. Range [0, 1]. Convert image to uint8 prior to saving to suppress this warning.\n"
     ]
    },
    {
     "name": "stdout",
     "output_type": "stream",
     "text": [
      "/home/jakob/Johanna/Masterarbeit/corpus/Jugend/Jahrgang 2/all/62.jpg\n"
     ]
    },
    {
     "name": "stderr",
     "output_type": "stream",
     "text": [
      "/home/jakob/anaconda3/envs/JohannaProbiert/lib/python3.7/site-packages/ipykernel_launcher.py:13: UserWarning: /home/jakob/Johanna/Masterarbeit/corpus/Jugend/Jahrgang 2/bin/62.png is a boolean image: setting True to 255 and False to 0. To silence this warning, please convert the image using img_as_ubyte.\n",
      "  del sys.path[0]\n",
      "Lossy conversion from float64 to uint8. Range [0, 1]. Convert image to uint8 prior to saving to suppress this warning.\n"
     ]
    },
    {
     "name": "stdout",
     "output_type": "stream",
     "text": [
      "/home/jakob/Johanna/Masterarbeit/corpus/Jugend/Jahrgang 2/all/52.jpg\n"
     ]
    },
    {
     "name": "stderr",
     "output_type": "stream",
     "text": [
      "/home/jakob/anaconda3/envs/JohannaProbiert/lib/python3.7/site-packages/ipykernel_launcher.py:13: UserWarning: /home/jakob/Johanna/Masterarbeit/corpus/Jugend/Jahrgang 2/bin/52.png is a boolean image: setting True to 255 and False to 0. To silence this warning, please convert the image using img_as_ubyte.\n",
      "  del sys.path[0]\n",
      "Lossy conversion from float64 to uint8. Range [0, 1]. Convert image to uint8 prior to saving to suppress this warning.\n"
     ]
    },
    {
     "name": "stdout",
     "output_type": "stream",
     "text": [
      "/home/jakob/Johanna/Masterarbeit/corpus/Jugend/Jahrgang 2/all/247.jpg\n"
     ]
    },
    {
     "name": "stderr",
     "output_type": "stream",
     "text": [
      "/home/jakob/anaconda3/envs/JohannaProbiert/lib/python3.7/site-packages/ipykernel_launcher.py:13: UserWarning: /home/jakob/Johanna/Masterarbeit/corpus/Jugend/Jahrgang 2/bin/247.png is a boolean image: setting True to 255 and False to 0. To silence this warning, please convert the image using img_as_ubyte.\n",
      "  del sys.path[0]\n",
      "Lossy conversion from float64 to uint8. Range [0, 1]. Convert image to uint8 prior to saving to suppress this warning.\n"
     ]
    },
    {
     "name": "stdout",
     "output_type": "stream",
     "text": [
      "/home/jakob/Johanna/Masterarbeit/corpus/Jugend/Jahrgang 2/all/128.jpg\n"
     ]
    },
    {
     "name": "stderr",
     "output_type": "stream",
     "text": [
      "/home/jakob/anaconda3/envs/JohannaProbiert/lib/python3.7/site-packages/ipykernel_launcher.py:13: UserWarning: /home/jakob/Johanna/Masterarbeit/corpus/Jugend/Jahrgang 2/bin/128.png is a boolean image: setting True to 255 and False to 0. To silence this warning, please convert the image using img_as_ubyte.\n",
      "  del sys.path[0]\n",
      "Lossy conversion from float64 to uint8. Range [0, 1]. Convert image to uint8 prior to saving to suppress this warning.\n"
     ]
    },
    {
     "name": "stdout",
     "output_type": "stream",
     "text": [
      "/home/jakob/Johanna/Masterarbeit/corpus/Jugend/Jahrgang 2/all/218.jpg\n"
     ]
    },
    {
     "name": "stderr",
     "output_type": "stream",
     "text": [
      "/home/jakob/anaconda3/envs/JohannaProbiert/lib/python3.7/site-packages/ipykernel_launcher.py:13: UserWarning: /home/jakob/Johanna/Masterarbeit/corpus/Jugend/Jahrgang 2/bin/218.png is a boolean image: setting True to 255 and False to 0. To silence this warning, please convert the image using img_as_ubyte.\n",
      "  del sys.path[0]\n",
      "Lossy conversion from float64 to uint8. Range [0, 1]. Convert image to uint8 prior to saving to suppress this warning.\n"
     ]
    },
    {
     "name": "stdout",
     "output_type": "stream",
     "text": [
      "/home/jakob/Johanna/Masterarbeit/corpus/Jugend/Jahrgang 2/all/248.jpg\n"
     ]
    },
    {
     "name": "stderr",
     "output_type": "stream",
     "text": [
      "/home/jakob/anaconda3/envs/JohannaProbiert/lib/python3.7/site-packages/ipykernel_launcher.py:13: UserWarning: /home/jakob/Johanna/Masterarbeit/corpus/Jugend/Jahrgang 2/bin/248.png is a boolean image: setting True to 255 and False to 0. To silence this warning, please convert the image using img_as_ubyte.\n",
      "  del sys.path[0]\n",
      "Lossy conversion from float64 to uint8. Range [0, 1]. Convert image to uint8 prior to saving to suppress this warning.\n"
     ]
    },
    {
     "name": "stdout",
     "output_type": "stream",
     "text": [
      "/home/jakob/Johanna/Masterarbeit/corpus/Jugend/Jahrgang 2/all/83.jpg\n"
     ]
    },
    {
     "name": "stderr",
     "output_type": "stream",
     "text": [
      "/home/jakob/anaconda3/envs/JohannaProbiert/lib/python3.7/site-packages/ipykernel_launcher.py:13: UserWarning: /home/jakob/Johanna/Masterarbeit/corpus/Jugend/Jahrgang 2/bin/83.png is a boolean image: setting True to 255 and False to 0. To silence this warning, please convert the image using img_as_ubyte.\n",
      "  del sys.path[0]\n",
      "Lossy conversion from float64 to uint8. Range [0, 1]. Convert image to uint8 prior to saving to suppress this warning.\n"
     ]
    },
    {
     "name": "stdout",
     "output_type": "stream",
     "text": [
      "/home/jakob/Johanna/Masterarbeit/corpus/Jugend/Jahrgang 2/all/172.jpg\n"
     ]
    },
    {
     "name": "stderr",
     "output_type": "stream",
     "text": [
      "/home/jakob/anaconda3/envs/JohannaProbiert/lib/python3.7/site-packages/ipykernel_launcher.py:13: UserWarning: /home/jakob/Johanna/Masterarbeit/corpus/Jugend/Jahrgang 2/bin/172.png is a boolean image: setting True to 255 and False to 0. To silence this warning, please convert the image using img_as_ubyte.\n",
      "  del sys.path[0]\n",
      "Lossy conversion from float64 to uint8. Range [0, 1]. Convert image to uint8 prior to saving to suppress this warning.\n"
     ]
    },
    {
     "name": "stdout",
     "output_type": "stream",
     "text": [
      "/home/jakob/Johanna/Masterarbeit/corpus/Jugend/Jahrgang 2/all/67.jpg\n"
     ]
    },
    {
     "name": "stderr",
     "output_type": "stream",
     "text": [
      "/home/jakob/anaconda3/envs/JohannaProbiert/lib/python3.7/site-packages/ipykernel_launcher.py:13: UserWarning: /home/jakob/Johanna/Masterarbeit/corpus/Jugend/Jahrgang 2/bin/67.png is a boolean image: setting True to 255 and False to 0. To silence this warning, please convert the image using img_as_ubyte.\n",
      "  del sys.path[0]\n",
      "Lossy conversion from float64 to uint8. Range [0, 1]. Convert image to uint8 prior to saving to suppress this warning.\n"
     ]
    },
    {
     "name": "stdout",
     "output_type": "stream",
     "text": [
      "/home/jakob/Johanna/Masterarbeit/corpus/Jugend/Jahrgang 2/all/212.jpg\n"
     ]
    },
    {
     "name": "stderr",
     "output_type": "stream",
     "text": [
      "/home/jakob/anaconda3/envs/JohannaProbiert/lib/python3.7/site-packages/ipykernel_launcher.py:13: UserWarning: /home/jakob/Johanna/Masterarbeit/corpus/Jugend/Jahrgang 2/bin/212.png is a boolean image: setting True to 255 and False to 0. To silence this warning, please convert the image using img_as_ubyte.\n",
      "  del sys.path[0]\n",
      "Lossy conversion from float64 to uint8. Range [0, 1]. Convert image to uint8 prior to saving to suppress this warning.\n"
     ]
    },
    {
     "name": "stdout",
     "output_type": "stream",
     "text": [
      "/home/jakob/Johanna/Masterarbeit/corpus/Jugend/Jahrgang 2/all/127.jpg\n"
     ]
    },
    {
     "name": "stderr",
     "output_type": "stream",
     "text": [
      "/home/jakob/anaconda3/envs/JohannaProbiert/lib/python3.7/site-packages/ipykernel_launcher.py:13: UserWarning: /home/jakob/Johanna/Masterarbeit/corpus/Jugend/Jahrgang 2/bin/127.png is a boolean image: setting True to 255 and False to 0. To silence this warning, please convert the image using img_as_ubyte.\n",
      "  del sys.path[0]\n",
      "Lossy conversion from float64 to uint8. Range [0, 1]. Convert image to uint8 prior to saving to suppress this warning.\n"
     ]
    },
    {
     "name": "stdout",
     "output_type": "stream",
     "text": [
      "/home/jakob/Johanna/Masterarbeit/corpus/Jugend/Jahrgang 2/all/16.jpg\n"
     ]
    },
    {
     "name": "stderr",
     "output_type": "stream",
     "text": [
      "/home/jakob/anaconda3/envs/JohannaProbiert/lib/python3.7/site-packages/ipykernel_launcher.py:13: UserWarning: /home/jakob/Johanna/Masterarbeit/corpus/Jugend/Jahrgang 2/bin/16.png is a boolean image: setting True to 255 and False to 0. To silence this warning, please convert the image using img_as_ubyte.\n",
      "  del sys.path[0]\n",
      "Lossy conversion from float64 to uint8. Range [0, 1]. Convert image to uint8 prior to saving to suppress this warning.\n"
     ]
    },
    {
     "name": "stdout",
     "output_type": "stream",
     "text": [
      "/home/jakob/Johanna/Masterarbeit/corpus/Jugend/Jahrgang 2/all/193.jpg\n"
     ]
    },
    {
     "name": "stderr",
     "output_type": "stream",
     "text": [
      "/home/jakob/anaconda3/envs/JohannaProbiert/lib/python3.7/site-packages/ipykernel_launcher.py:13: UserWarning: /home/jakob/Johanna/Masterarbeit/corpus/Jugend/Jahrgang 2/bin/193.png is a boolean image: setting True to 255 and False to 0. To silence this warning, please convert the image using img_as_ubyte.\n",
      "  del sys.path[0]\n",
      "Lossy conversion from float64 to uint8. Range [0, 1]. Convert image to uint8 prior to saving to suppress this warning.\n"
     ]
    },
    {
     "name": "stdout",
     "output_type": "stream",
     "text": [
      "/home/jakob/Johanna/Masterarbeit/corpus/Jugend/Jahrgang 2/all/163.jpg\n"
     ]
    },
    {
     "name": "stderr",
     "output_type": "stream",
     "text": [
      "/home/jakob/anaconda3/envs/JohannaProbiert/lib/python3.7/site-packages/ipykernel_launcher.py:13: UserWarning: /home/jakob/Johanna/Masterarbeit/corpus/Jugend/Jahrgang 2/bin/163.png is a boolean image: setting True to 255 and False to 0. To silence this warning, please convert the image using img_as_ubyte.\n",
      "  del sys.path[0]\n",
      "Lossy conversion from float64 to uint8. Range [0, 1]. Convert image to uint8 prior to saving to suppress this warning.\n"
     ]
    },
    {
     "name": "stdout",
     "output_type": "stream",
     "text": [
      "/home/jakob/Johanna/Masterarbeit/corpus/Jugend/Jahrgang 2/all/85.jpg\n"
     ]
    },
    {
     "name": "stderr",
     "output_type": "stream",
     "text": [
      "/home/jakob/anaconda3/envs/JohannaProbiert/lib/python3.7/site-packages/ipykernel_launcher.py:13: UserWarning: /home/jakob/Johanna/Masterarbeit/corpus/Jugend/Jahrgang 2/bin/85.png is a boolean image: setting True to 255 and False to 0. To silence this warning, please convert the image using img_as_ubyte.\n",
      "  del sys.path[0]\n",
      "Lossy conversion from float64 to uint8. Range [0, 1]. Convert image to uint8 prior to saving to suppress this warning.\n"
     ]
    },
    {
     "name": "stdout",
     "output_type": "stream",
     "text": [
      "/home/jakob/Johanna/Masterarbeit/corpus/Jugend/Jahrgang 2/all/124.jpg\n"
     ]
    },
    {
     "name": "stderr",
     "output_type": "stream",
     "text": [
      "/home/jakob/anaconda3/envs/JohannaProbiert/lib/python3.7/site-packages/ipykernel_launcher.py:13: UserWarning: /home/jakob/Johanna/Masterarbeit/corpus/Jugend/Jahrgang 2/bin/124.png is a boolean image: setting True to 255 and False to 0. To silence this warning, please convert the image using img_as_ubyte.\n",
      "  del sys.path[0]\n",
      "Lossy conversion from float64 to uint8. Range [0, 1]. Convert image to uint8 prior to saving to suppress this warning.\n"
     ]
    },
    {
     "name": "stdout",
     "output_type": "stream",
     "text": [
      "/home/jakob/Johanna/Masterarbeit/corpus/Jugend/Jahrgang 2/all/145.jpg\n"
     ]
    },
    {
     "name": "stderr",
     "output_type": "stream",
     "text": [
      "/home/jakob/anaconda3/envs/JohannaProbiert/lib/python3.7/site-packages/ipykernel_launcher.py:13: UserWarning: /home/jakob/Johanna/Masterarbeit/corpus/Jugend/Jahrgang 2/bin/145.png is a boolean image: setting True to 255 and False to 0. To silence this warning, please convert the image using img_as_ubyte.\n",
      "  del sys.path[0]\n",
      "Lossy conversion from float64 to uint8. Range [0, 1]. Convert image to uint8 prior to saving to suppress this warning.\n"
     ]
    },
    {
     "name": "stdout",
     "output_type": "stream",
     "text": [
      "/home/jakob/Johanna/Masterarbeit/corpus/Jugend/Jahrgang 2/all/17.jpg\n"
     ]
    },
    {
     "name": "stderr",
     "output_type": "stream",
     "text": [
      "/home/jakob/anaconda3/envs/JohannaProbiert/lib/python3.7/site-packages/ipykernel_launcher.py:13: UserWarning: /home/jakob/Johanna/Masterarbeit/corpus/Jugend/Jahrgang 2/bin/17.png is a boolean image: setting True to 255 and False to 0. To silence this warning, please convert the image using img_as_ubyte.\n",
      "  del sys.path[0]\n",
      "Lossy conversion from float64 to uint8. Range [0, 1]. Convert image to uint8 prior to saving to suppress this warning.\n"
     ]
    },
    {
     "name": "stdout",
     "output_type": "stream",
     "text": [
      "/home/jakob/Johanna/Masterarbeit/corpus/Jugend/Jahrgang 2/all/203.jpg\n"
     ]
    },
    {
     "name": "stderr",
     "output_type": "stream",
     "text": [
      "/home/jakob/anaconda3/envs/JohannaProbiert/lib/python3.7/site-packages/ipykernel_launcher.py:13: UserWarning: /home/jakob/Johanna/Masterarbeit/corpus/Jugend/Jahrgang 2/bin/203.png is a boolean image: setting True to 255 and False to 0. To silence this warning, please convert the image using img_as_ubyte.\n",
      "  del sys.path[0]\n",
      "Lossy conversion from float64 to uint8. Range [0, 1]. Convert image to uint8 prior to saving to suppress this warning.\n"
     ]
    },
    {
     "name": "stdout",
     "output_type": "stream",
     "text": [
      "/home/jakob/Johanna/Masterarbeit/corpus/Jugend/Jahrgang 2/all/27.jpg\n"
     ]
    },
    {
     "name": "stderr",
     "output_type": "stream",
     "text": [
      "/home/jakob/anaconda3/envs/JohannaProbiert/lib/python3.7/site-packages/ipykernel_launcher.py:13: UserWarning: /home/jakob/Johanna/Masterarbeit/corpus/Jugend/Jahrgang 2/bin/27.png is a boolean image: setting True to 255 and False to 0. To silence this warning, please convert the image using img_as_ubyte.\n",
      "  del sys.path[0]\n",
      "Lossy conversion from float64 to uint8. Range [0, 1]. Convert image to uint8 prior to saving to suppress this warning.\n"
     ]
    },
    {
     "name": "stdout",
     "output_type": "stream",
     "text": [
      "/home/jakob/Johanna/Masterarbeit/corpus/Jugend/Jahrgang 2/all/133.jpg\n"
     ]
    },
    {
     "name": "stderr",
     "output_type": "stream",
     "text": [
      "/home/jakob/anaconda3/envs/JohannaProbiert/lib/python3.7/site-packages/ipykernel_launcher.py:13: UserWarning: /home/jakob/Johanna/Masterarbeit/corpus/Jugend/Jahrgang 2/bin/133.png is a boolean image: setting True to 255 and False to 0. To silence this warning, please convert the image using img_as_ubyte.\n",
      "  del sys.path[0]\n",
      "Lossy conversion from float64 to uint8. Range [0, 1]. Convert image to uint8 prior to saving to suppress this warning.\n"
     ]
    },
    {
     "name": "stdout",
     "output_type": "stream",
     "text": [
      "/home/jakob/Johanna/Masterarbeit/corpus/Jugend/Jahrgang 2/all/170.jpg\n"
     ]
    },
    {
     "name": "stderr",
     "output_type": "stream",
     "text": [
      "/home/jakob/anaconda3/envs/JohannaProbiert/lib/python3.7/site-packages/ipykernel_launcher.py:13: UserWarning: /home/jakob/Johanna/Masterarbeit/corpus/Jugend/Jahrgang 2/bin/170.png is a boolean image: setting True to 255 and False to 0. To silence this warning, please convert the image using img_as_ubyte.\n",
      "  del sys.path[0]\n",
      "Lossy conversion from float64 to uint8. Range [0, 1]. Convert image to uint8 prior to saving to suppress this warning.\n"
     ]
    },
    {
     "name": "stdout",
     "output_type": "stream",
     "text": [
      "/home/jakob/Johanna/Masterarbeit/corpus/Jugend/Jahrgang 2/all/263.jpg\n"
     ]
    },
    {
     "name": "stderr",
     "output_type": "stream",
     "text": [
      "/home/jakob/anaconda3/envs/JohannaProbiert/lib/python3.7/site-packages/ipykernel_launcher.py:13: UserWarning: /home/jakob/Johanna/Masterarbeit/corpus/Jugend/Jahrgang 2/bin/263.png is a boolean image: setting True to 255 and False to 0. To silence this warning, please convert the image using img_as_ubyte.\n",
      "  del sys.path[0]\n",
      "Lossy conversion from float64 to uint8. Range [0, 1]. Convert image to uint8 prior to saving to suppress this warning.\n"
     ]
    },
    {
     "name": "stdout",
     "output_type": "stream",
     "text": [
      "/home/jakob/Johanna/Masterarbeit/corpus/Jugend/Jahrgang 2/all/41.jpg\n"
     ]
    },
    {
     "name": "stderr",
     "output_type": "stream",
     "text": [
      "/home/jakob/anaconda3/envs/JohannaProbiert/lib/python3.7/site-packages/ipykernel_launcher.py:13: UserWarning: /home/jakob/Johanna/Masterarbeit/corpus/Jugend/Jahrgang 2/bin/41.png is a boolean image: setting True to 255 and False to 0. To silence this warning, please convert the image using img_as_ubyte.\n",
      "  del sys.path[0]\n",
      "Lossy conversion from float64 to uint8. Range [0, 1]. Convert image to uint8 prior to saving to suppress this warning.\n"
     ]
    },
    {
     "name": "stdout",
     "output_type": "stream",
     "text": [
      "/home/jakob/Johanna/Masterarbeit/corpus/Jugend/Jahrgang 2/all/202.jpg\n"
     ]
    },
    {
     "name": "stderr",
     "output_type": "stream",
     "text": [
      "/home/jakob/anaconda3/envs/JohannaProbiert/lib/python3.7/site-packages/ipykernel_launcher.py:13: UserWarning: /home/jakob/Johanna/Masterarbeit/corpus/Jugend/Jahrgang 2/bin/202.png is a boolean image: setting True to 255 and False to 0. To silence this warning, please convert the image using img_as_ubyte.\n",
      "  del sys.path[0]\n",
      "Lossy conversion from float64 to uint8. Range [0, 1]. Convert image to uint8 prior to saving to suppress this warning.\n"
     ]
    },
    {
     "name": "stdout",
     "output_type": "stream",
     "text": [
      "/home/jakob/Johanna/Masterarbeit/corpus/Jugend/Jahrgang 2/all/242.jpg\n"
     ]
    },
    {
     "name": "stderr",
     "output_type": "stream",
     "text": [
      "/home/jakob/anaconda3/envs/JohannaProbiert/lib/python3.7/site-packages/ipykernel_launcher.py:13: UserWarning: /home/jakob/Johanna/Masterarbeit/corpus/Jugend/Jahrgang 2/bin/242.png is a boolean image: setting True to 255 and False to 0. To silence this warning, please convert the image using img_as_ubyte.\n",
      "  del sys.path[0]\n",
      "Lossy conversion from float64 to uint8. Range [0, 1]. Convert image to uint8 prior to saving to suppress this warning.\n"
     ]
    },
    {
     "name": "stdout",
     "output_type": "stream",
     "text": [
      "/home/jakob/Johanna/Masterarbeit/corpus/Jugend/Jahrgang 2/all/197.jpg\n"
     ]
    },
    {
     "name": "stderr",
     "output_type": "stream",
     "text": [
      "/home/jakob/anaconda3/envs/JohannaProbiert/lib/python3.7/site-packages/ipykernel_launcher.py:13: UserWarning: /home/jakob/Johanna/Masterarbeit/corpus/Jugend/Jahrgang 2/bin/197.png is a boolean image: setting True to 255 and False to 0. To silence this warning, please convert the image using img_as_ubyte.\n",
      "  del sys.path[0]\n",
      "Lossy conversion from float64 to uint8. Range [0, 1]. Convert image to uint8 prior to saving to suppress this warning.\n"
     ]
    },
    {
     "name": "stdout",
     "output_type": "stream",
     "text": [
      "/home/jakob/Johanna/Masterarbeit/corpus/Jugend/Jahrgang 2/all/105.jpg\n"
     ]
    },
    {
     "name": "stderr",
     "output_type": "stream",
     "text": [
      "/home/jakob/anaconda3/envs/JohannaProbiert/lib/python3.7/site-packages/ipykernel_launcher.py:13: UserWarning: /home/jakob/Johanna/Masterarbeit/corpus/Jugend/Jahrgang 2/bin/105.png is a boolean image: setting True to 255 and False to 0. To silence this warning, please convert the image using img_as_ubyte.\n",
      "  del sys.path[0]\n",
      "Lossy conversion from float64 to uint8. Range [0, 1]. Convert image to uint8 prior to saving to suppress this warning.\n"
     ]
    },
    {
     "name": "stdout",
     "output_type": "stream",
     "text": [
      "/home/jakob/Johanna/Masterarbeit/corpus/Jugend/Jahrgang 2/all/122.jpg\n"
     ]
    },
    {
     "name": "stderr",
     "output_type": "stream",
     "text": [
      "/home/jakob/anaconda3/envs/JohannaProbiert/lib/python3.7/site-packages/ipykernel_launcher.py:13: UserWarning: /home/jakob/Johanna/Masterarbeit/corpus/Jugend/Jahrgang 2/bin/122.png is a boolean image: setting True to 255 and False to 0. To silence this warning, please convert the image using img_as_ubyte.\n",
      "  del sys.path[0]\n",
      "Lossy conversion from float64 to uint8. Range [0, 1]. Convert image to uint8 prior to saving to suppress this warning.\n"
     ]
    },
    {
     "name": "stdout",
     "output_type": "stream",
     "text": [
      "/home/jakob/Johanna/Masterarbeit/corpus/Jugend/Jahrgang 2/all/107.jpg\n"
     ]
    },
    {
     "name": "stderr",
     "output_type": "stream",
     "text": [
      "/home/jakob/anaconda3/envs/JohannaProbiert/lib/python3.7/site-packages/ipykernel_launcher.py:13: UserWarning: /home/jakob/Johanna/Masterarbeit/corpus/Jugend/Jahrgang 2/bin/107.png is a boolean image: setting True to 255 and False to 0. To silence this warning, please convert the image using img_as_ubyte.\n",
      "  del sys.path[0]\n",
      "Lossy conversion from float64 to uint8. Range [0, 1]. Convert image to uint8 prior to saving to suppress this warning.\n"
     ]
    },
    {
     "name": "stdout",
     "output_type": "stream",
     "text": [
      "/home/jakob/Johanna/Masterarbeit/corpus/Jugend/Jahrgang 2/all/179.jpg\n"
     ]
    },
    {
     "name": "stderr",
     "output_type": "stream",
     "text": [
      "/home/jakob/anaconda3/envs/JohannaProbiert/lib/python3.7/site-packages/ipykernel_launcher.py:13: UserWarning: /home/jakob/Johanna/Masterarbeit/corpus/Jugend/Jahrgang 2/bin/179.png is a boolean image: setting True to 255 and False to 0. To silence this warning, please convert the image using img_as_ubyte.\n",
      "  del sys.path[0]\n",
      "Lossy conversion from float64 to uint8. Range [0, 1]. Convert image to uint8 prior to saving to suppress this warning.\n"
     ]
    },
    {
     "name": "stdout",
     "output_type": "stream",
     "text": [
      "/home/jakob/Johanna/Masterarbeit/corpus/Jugend/Jahrgang 2/all/185.jpg\n"
     ]
    },
    {
     "name": "stderr",
     "output_type": "stream",
     "text": [
      "/home/jakob/anaconda3/envs/JohannaProbiert/lib/python3.7/site-packages/ipykernel_launcher.py:13: UserWarning: /home/jakob/Johanna/Masterarbeit/corpus/Jugend/Jahrgang 2/bin/185.png is a boolean image: setting True to 255 and False to 0. To silence this warning, please convert the image using img_as_ubyte.\n",
      "  del sys.path[0]\n",
      "Lossy conversion from float64 to uint8. Range [0, 1]. Convert image to uint8 prior to saving to suppress this warning.\n"
     ]
    },
    {
     "name": "stdout",
     "output_type": "stream",
     "text": [
      "/home/jakob/Johanna/Masterarbeit/corpus/Jugend/Jahrgang 2/all/175.jpg\n"
     ]
    },
    {
     "name": "stderr",
     "output_type": "stream",
     "text": [
      "/home/jakob/anaconda3/envs/JohannaProbiert/lib/python3.7/site-packages/ipykernel_launcher.py:13: UserWarning: /home/jakob/Johanna/Masterarbeit/corpus/Jugend/Jahrgang 2/bin/175.png is a boolean image: setting True to 255 and False to 0. To silence this warning, please convert the image using img_as_ubyte.\n",
      "  del sys.path[0]\n",
      "Lossy conversion from float64 to uint8. Range [0, 1]. Convert image to uint8 prior to saving to suppress this warning.\n"
     ]
    },
    {
     "name": "stdout",
     "output_type": "stream",
     "text": [
      "/home/jakob/Johanna/Masterarbeit/corpus/Jugend/Jahrgang 2/all/75.jpg\n"
     ]
    },
    {
     "name": "stderr",
     "output_type": "stream",
     "text": [
      "/home/jakob/anaconda3/envs/JohannaProbiert/lib/python3.7/site-packages/ipykernel_launcher.py:13: UserWarning: /home/jakob/Johanna/Masterarbeit/corpus/Jugend/Jahrgang 2/bin/75.png is a boolean image: setting True to 255 and False to 0. To silence this warning, please convert the image using img_as_ubyte.\n",
      "  del sys.path[0]\n",
      "Lossy conversion from float64 to uint8. Range [0, 1]. Convert image to uint8 prior to saving to suppress this warning.\n"
     ]
    },
    {
     "name": "stdout",
     "output_type": "stream",
     "text": [
      "/home/jakob/Johanna/Masterarbeit/corpus/Jugend/Jahrgang 2/all/7.jpg\n"
     ]
    },
    {
     "name": "stderr",
     "output_type": "stream",
     "text": [
      "/home/jakob/anaconda3/envs/JohannaProbiert/lib/python3.7/site-packages/ipykernel_launcher.py:13: UserWarning: /home/jakob/Johanna/Masterarbeit/corpus/Jugend/Jahrgang 2/bin/7.png is a boolean image: setting True to 255 and False to 0. To silence this warning, please convert the image using img_as_ubyte.\n",
      "  del sys.path[0]\n",
      "Lossy conversion from float64 to uint8. Range [0, 1]. Convert image to uint8 prior to saving to suppress this warning.\n"
     ]
    },
    {
     "name": "stdout",
     "output_type": "stream",
     "text": [
      "/home/jakob/Johanna/Masterarbeit/corpus/Jugend/Jahrgang 2/all/49.jpg\n"
     ]
    },
    {
     "name": "stderr",
     "output_type": "stream",
     "text": [
      "/home/jakob/anaconda3/envs/JohannaProbiert/lib/python3.7/site-packages/ipykernel_launcher.py:13: UserWarning: /home/jakob/Johanna/Masterarbeit/corpus/Jugend/Jahrgang 2/bin/49.png is a boolean image: setting True to 255 and False to 0. To silence this warning, please convert the image using img_as_ubyte.\n",
      "  del sys.path[0]\n",
      "Lossy conversion from float64 to uint8. Range [0, 1]. Convert image to uint8 prior to saving to suppress this warning.\n"
     ]
    },
    {
     "name": "stdout",
     "output_type": "stream",
     "text": [
      "/home/jakob/Johanna/Masterarbeit/corpus/Jugend/Jahrgang 2/all/258.jpg\n"
     ]
    },
    {
     "name": "stderr",
     "output_type": "stream",
     "text": [
      "/home/jakob/anaconda3/envs/JohannaProbiert/lib/python3.7/site-packages/ipykernel_launcher.py:13: UserWarning: /home/jakob/Johanna/Masterarbeit/corpus/Jugend/Jahrgang 2/bin/258.png is a boolean image: setting True to 255 and False to 0. To silence this warning, please convert the image using img_as_ubyte.\n",
      "  del sys.path[0]\n",
      "Lossy conversion from float64 to uint8. Range [0, 1]. Convert image to uint8 prior to saving to suppress this warning.\n"
     ]
    },
    {
     "name": "stdout",
     "output_type": "stream",
     "text": [
      "/home/jakob/Johanna/Masterarbeit/corpus/Jugend/Jahrgang 2/all/138.jpg\n"
     ]
    },
    {
     "name": "stderr",
     "output_type": "stream",
     "text": [
      "/home/jakob/anaconda3/envs/JohannaProbiert/lib/python3.7/site-packages/ipykernel_launcher.py:13: UserWarning: /home/jakob/Johanna/Masterarbeit/corpus/Jugend/Jahrgang 2/bin/138.png is a boolean image: setting True to 255 and False to 0. To silence this warning, please convert the image using img_as_ubyte.\n",
      "  del sys.path[0]\n",
      "Lossy conversion from float64 to uint8. Range [0, 1]. Convert image to uint8 prior to saving to suppress this warning.\n"
     ]
    },
    {
     "name": "stdout",
     "output_type": "stream",
     "text": [
      "/home/jakob/Johanna/Masterarbeit/corpus/Jugend/Jahrgang 2/all/160.jpg\n"
     ]
    },
    {
     "name": "stderr",
     "output_type": "stream",
     "text": [
      "/home/jakob/anaconda3/envs/JohannaProbiert/lib/python3.7/site-packages/ipykernel_launcher.py:13: UserWarning: /home/jakob/Johanna/Masterarbeit/corpus/Jugend/Jahrgang 2/bin/160.png is a boolean image: setting True to 255 and False to 0. To silence this warning, please convert the image using img_as_ubyte.\n",
      "  del sys.path[0]\n",
      "Lossy conversion from float64 to uint8. Range [0, 1]. Convert image to uint8 prior to saving to suppress this warning.\n"
     ]
    },
    {
     "name": "stdout",
     "output_type": "stream",
     "text": [
      "/home/jakob/Johanna/Masterarbeit/corpus/Jugend/Jahrgang 2/all/152.jpg\n"
     ]
    },
    {
     "name": "stderr",
     "output_type": "stream",
     "text": [
      "/home/jakob/anaconda3/envs/JohannaProbiert/lib/python3.7/site-packages/ipykernel_launcher.py:13: UserWarning: /home/jakob/Johanna/Masterarbeit/corpus/Jugend/Jahrgang 2/bin/152.png is a boolean image: setting True to 255 and False to 0. To silence this warning, please convert the image using img_as_ubyte.\n",
      "  del sys.path[0]\n",
      "Lossy conversion from float64 to uint8. Range [0, 1]. Convert image to uint8 prior to saving to suppress this warning.\n"
     ]
    },
    {
     "name": "stdout",
     "output_type": "stream",
     "text": [
      "/home/jakob/Johanna/Masterarbeit/corpus/Jugend/Jahrgang 2/all/252.jpg\n"
     ]
    },
    {
     "name": "stderr",
     "output_type": "stream",
     "text": [
      "/home/jakob/anaconda3/envs/JohannaProbiert/lib/python3.7/site-packages/ipykernel_launcher.py:13: UserWarning: /home/jakob/Johanna/Masterarbeit/corpus/Jugend/Jahrgang 2/bin/252.png is a boolean image: setting True to 255 and False to 0. To silence this warning, please convert the image using img_as_ubyte.\n",
      "  del sys.path[0]\n",
      "Lossy conversion from float64 to uint8. Range [0, 1]. Convert image to uint8 prior to saving to suppress this warning.\n"
     ]
    },
    {
     "name": "stdout",
     "output_type": "stream",
     "text": [
      "/home/jakob/Johanna/Masterarbeit/corpus/Jugend/Jahrgang 2/all/217.jpg\n"
     ]
    },
    {
     "name": "stderr",
     "output_type": "stream",
     "text": [
      "/home/jakob/anaconda3/envs/JohannaProbiert/lib/python3.7/site-packages/ipykernel_launcher.py:13: UserWarning: /home/jakob/Johanna/Masterarbeit/corpus/Jugend/Jahrgang 2/bin/217.png is a boolean image: setting True to 255 and False to 0. To silence this warning, please convert the image using img_as_ubyte.\n",
      "  del sys.path[0]\n",
      "Lossy conversion from float64 to uint8. Range [0, 1]. Convert image to uint8 prior to saving to suppress this warning.\n"
     ]
    },
    {
     "name": "stdout",
     "output_type": "stream",
     "text": [
      "/home/jakob/Johanna/Masterarbeit/corpus/Jugend/Jahrgang 2/all/42.jpg\n"
     ]
    },
    {
     "name": "stderr",
     "output_type": "stream",
     "text": [
      "/home/jakob/anaconda3/envs/JohannaProbiert/lib/python3.7/site-packages/ipykernel_launcher.py:13: UserWarning: /home/jakob/Johanna/Masterarbeit/corpus/Jugend/Jahrgang 2/bin/42.png is a boolean image: setting True to 255 and False to 0. To silence this warning, please convert the image using img_as_ubyte.\n",
      "  del sys.path[0]\n",
      "Lossy conversion from float64 to uint8. Range [0, 1]. Convert image to uint8 prior to saving to suppress this warning.\n"
     ]
    },
    {
     "name": "stdout",
     "output_type": "stream",
     "text": [
      "/home/jakob/Johanna/Masterarbeit/corpus/Jugend/Jahrgang 2/all/157.jpg\n"
     ]
    },
    {
     "name": "stderr",
     "output_type": "stream",
     "text": [
      "/home/jakob/anaconda3/envs/JohannaProbiert/lib/python3.7/site-packages/ipykernel_launcher.py:13: UserWarning: /home/jakob/Johanna/Masterarbeit/corpus/Jugend/Jahrgang 2/bin/157.png is a boolean image: setting True to 255 and False to 0. To silence this warning, please convert the image using img_as_ubyte.\n",
      "  del sys.path[0]\n",
      "Lossy conversion from float64 to uint8. Range [0, 1]. Convert image to uint8 prior to saving to suppress this warning.\n"
     ]
    },
    {
     "name": "stdout",
     "output_type": "stream",
     "text": [
      "/home/jakob/Johanna/Masterarbeit/corpus/Jugend/Jahrgang 2/all/161.jpg\n"
     ]
    },
    {
     "name": "stderr",
     "output_type": "stream",
     "text": [
      "/home/jakob/anaconda3/envs/JohannaProbiert/lib/python3.7/site-packages/ipykernel_launcher.py:13: UserWarning: /home/jakob/Johanna/Masterarbeit/corpus/Jugend/Jahrgang 2/bin/161.png is a boolean image: setting True to 255 and False to 0. To silence this warning, please convert the image using img_as_ubyte.\n",
      "  del sys.path[0]\n",
      "Lossy conversion from float64 to uint8. Range [0, 1]. Convert image to uint8 prior to saving to suppress this warning.\n"
     ]
    },
    {
     "name": "stdout",
     "output_type": "stream",
     "text": [
      "/home/jakob/Johanna/Masterarbeit/corpus/Jugend/Jahrgang 2/all/249.jpg\n"
     ]
    },
    {
     "name": "stderr",
     "output_type": "stream",
     "text": [
      "/home/jakob/anaconda3/envs/JohannaProbiert/lib/python3.7/site-packages/ipykernel_launcher.py:13: UserWarning: /home/jakob/Johanna/Masterarbeit/corpus/Jugend/Jahrgang 2/bin/249.png is a boolean image: setting True to 255 and False to 0. To silence this warning, please convert the image using img_as_ubyte.\n",
      "  del sys.path[0]\n",
      "Lossy conversion from float64 to uint8. Range [0, 1]. Convert image to uint8 prior to saving to suppress this warning.\n"
     ]
    },
    {
     "name": "stdout",
     "output_type": "stream",
     "text": [
      "/home/jakob/Johanna/Masterarbeit/corpus/Jugend/Jahrgang 2/all/71.jpg\n"
     ]
    },
    {
     "name": "stderr",
     "output_type": "stream",
     "text": [
      "/home/jakob/anaconda3/envs/JohannaProbiert/lib/python3.7/site-packages/ipykernel_launcher.py:13: UserWarning: /home/jakob/Johanna/Masterarbeit/corpus/Jugend/Jahrgang 2/bin/71.png is a boolean image: setting True to 255 and False to 0. To silence this warning, please convert the image using img_as_ubyte.\n",
      "  del sys.path[0]\n",
      "Lossy conversion from float64 to uint8. Range [0, 1]. Convert image to uint8 prior to saving to suppress this warning.\n"
     ]
    },
    {
     "name": "stdout",
     "output_type": "stream",
     "text": [
      "/home/jakob/Johanna/Masterarbeit/corpus/Jugend/Jahrgang 2/all/143.jpg\n"
     ]
    },
    {
     "name": "stderr",
     "output_type": "stream",
     "text": [
      "/home/jakob/anaconda3/envs/JohannaProbiert/lib/python3.7/site-packages/ipykernel_launcher.py:13: UserWarning: /home/jakob/Johanna/Masterarbeit/corpus/Jugend/Jahrgang 2/bin/143.png is a boolean image: setting True to 255 and False to 0. To silence this warning, please convert the image using img_as_ubyte.\n",
      "  del sys.path[0]\n",
      "Lossy conversion from float64 to uint8. Range [0, 1]. Convert image to uint8 prior to saving to suppress this warning.\n"
     ]
    },
    {
     "name": "stdout",
     "output_type": "stream",
     "text": [
      "/home/jakob/Johanna/Masterarbeit/corpus/Jugend/Jahrgang 2/all/235.jpg\n"
     ]
    },
    {
     "name": "stderr",
     "output_type": "stream",
     "text": [
      "/home/jakob/anaconda3/envs/JohannaProbiert/lib/python3.7/site-packages/ipykernel_launcher.py:13: UserWarning: /home/jakob/Johanna/Masterarbeit/corpus/Jugend/Jahrgang 2/bin/235.png is a boolean image: setting True to 255 and False to 0. To silence this warning, please convert the image using img_as_ubyte.\n",
      "  del sys.path[0]\n",
      "Lossy conversion from float64 to uint8. Range [0, 1]. Convert image to uint8 prior to saving to suppress this warning.\n"
     ]
    },
    {
     "name": "stdout",
     "output_type": "stream",
     "text": [
      "/home/jakob/Johanna/Masterarbeit/corpus/Jugend/Jahrgang 2/all/241.jpg\n"
     ]
    },
    {
     "name": "stderr",
     "output_type": "stream",
     "text": [
      "/home/jakob/anaconda3/envs/JohannaProbiert/lib/python3.7/site-packages/ipykernel_launcher.py:13: UserWarning: /home/jakob/Johanna/Masterarbeit/corpus/Jugend/Jahrgang 2/bin/241.png is a boolean image: setting True to 255 and False to 0. To silence this warning, please convert the image using img_as_ubyte.\n",
      "  del sys.path[0]\n",
      "Lossy conversion from float64 to uint8. Range [0, 1]. Convert image to uint8 prior to saving to suppress this warning.\n"
     ]
    },
    {
     "name": "stdout",
     "output_type": "stream",
     "text": [
      "/home/jakob/Johanna/Masterarbeit/corpus/Jugend/Jahrgang 2/all/194.jpg\n"
     ]
    },
    {
     "name": "stderr",
     "output_type": "stream",
     "text": [
      "/home/jakob/anaconda3/envs/JohannaProbiert/lib/python3.7/site-packages/ipykernel_launcher.py:13: UserWarning: /home/jakob/Johanna/Masterarbeit/corpus/Jugend/Jahrgang 2/bin/194.png is a boolean image: setting True to 255 and False to 0. To silence this warning, please convert the image using img_as_ubyte.\n",
      "  del sys.path[0]\n",
      "Lossy conversion from float64 to uint8. Range [0, 1]. Convert image to uint8 prior to saving to suppress this warning.\n"
     ]
    },
    {
     "name": "stdout",
     "output_type": "stream",
     "text": [
      "/home/jakob/Johanna/Masterarbeit/corpus/Jugend/Jahrgang 2/all/196.jpg\n"
     ]
    },
    {
     "name": "stderr",
     "output_type": "stream",
     "text": [
      "/home/jakob/anaconda3/envs/JohannaProbiert/lib/python3.7/site-packages/ipykernel_launcher.py:13: UserWarning: /home/jakob/Johanna/Masterarbeit/corpus/Jugend/Jahrgang 2/bin/196.png is a boolean image: setting True to 255 and False to 0. To silence this warning, please convert the image using img_as_ubyte.\n",
      "  del sys.path[0]\n",
      "Lossy conversion from float64 to uint8. Range [0, 1]. Convert image to uint8 prior to saving to suppress this warning.\n"
     ]
    },
    {
     "name": "stdout",
     "output_type": "stream",
     "text": [
      "/home/jakob/Johanna/Masterarbeit/corpus/Jugend/Jahrgang 2/all/97.jpg\n"
     ]
    },
    {
     "name": "stderr",
     "output_type": "stream",
     "text": [
      "/home/jakob/anaconda3/envs/JohannaProbiert/lib/python3.7/site-packages/ipykernel_launcher.py:13: UserWarning: /home/jakob/Johanna/Masterarbeit/corpus/Jugend/Jahrgang 2/bin/97.png is a boolean image: setting True to 255 and False to 0. To silence this warning, please convert the image using img_as_ubyte.\n",
      "  del sys.path[0]\n",
      "Lossy conversion from float64 to uint8. Range [0, 1]. Convert image to uint8 prior to saving to suppress this warning.\n"
     ]
    },
    {
     "name": "stdout",
     "output_type": "stream",
     "text": [
      "/home/jakob/Johanna/Masterarbeit/corpus/Jugend/Jahrgang 2/all/116.jpg\n"
     ]
    },
    {
     "name": "stderr",
     "output_type": "stream",
     "text": [
      "/home/jakob/anaconda3/envs/JohannaProbiert/lib/python3.7/site-packages/ipykernel_launcher.py:13: UserWarning: /home/jakob/Johanna/Masterarbeit/corpus/Jugend/Jahrgang 2/bin/116.png is a boolean image: setting True to 255 and False to 0. To silence this warning, please convert the image using img_as_ubyte.\n",
      "  del sys.path[0]\n",
      "Lossy conversion from float64 to uint8. Range [0, 1]. Convert image to uint8 prior to saving to suppress this warning.\n"
     ]
    },
    {
     "name": "stdout",
     "output_type": "stream",
     "text": [
      "/home/jakob/Johanna/Masterarbeit/corpus/Jugend/Jahrgang 2/all/226.jpg\n"
     ]
    },
    {
     "name": "stderr",
     "output_type": "stream",
     "text": [
      "/home/jakob/anaconda3/envs/JohannaProbiert/lib/python3.7/site-packages/ipykernel_launcher.py:13: UserWarning: /home/jakob/Johanna/Masterarbeit/corpus/Jugend/Jahrgang 2/bin/226.png is a boolean image: setting True to 255 and False to 0. To silence this warning, please convert the image using img_as_ubyte.\n",
      "  del sys.path[0]\n",
      "Lossy conversion from float64 to uint8. Range [0, 1]. Convert image to uint8 prior to saving to suppress this warning.\n"
     ]
    },
    {
     "name": "stdout",
     "output_type": "stream",
     "text": [
      "/home/jakob/Johanna/Masterarbeit/corpus/Jugend/Jahrgang 2/all/25.jpg\n"
     ]
    },
    {
     "name": "stderr",
     "output_type": "stream",
     "text": [
      "/home/jakob/anaconda3/envs/JohannaProbiert/lib/python3.7/site-packages/ipykernel_launcher.py:13: UserWarning: /home/jakob/Johanna/Masterarbeit/corpus/Jugend/Jahrgang 2/bin/25.png is a boolean image: setting True to 255 and False to 0. To silence this warning, please convert the image using img_as_ubyte.\n",
      "  del sys.path[0]\n",
      "Lossy conversion from float64 to uint8. Range [0, 1]. Convert image to uint8 prior to saving to suppress this warning.\n"
     ]
    },
    {
     "name": "stdout",
     "output_type": "stream",
     "text": [
      "/home/jakob/Johanna/Masterarbeit/corpus/Jugend/Jahrgang 2/all/15.jpg\n"
     ]
    },
    {
     "name": "stderr",
     "output_type": "stream",
     "text": [
      "/home/jakob/anaconda3/envs/JohannaProbiert/lib/python3.7/site-packages/ipykernel_launcher.py:13: UserWarning: /home/jakob/Johanna/Masterarbeit/corpus/Jugend/Jahrgang 2/bin/15.png is a boolean image: setting True to 255 and False to 0. To silence this warning, please convert the image using img_as_ubyte.\n",
      "  del sys.path[0]\n",
      "Lossy conversion from float64 to uint8. Range [0, 1]. Convert image to uint8 prior to saving to suppress this warning.\n"
     ]
    },
    {
     "name": "stdout",
     "output_type": "stream",
     "text": [
      "/home/jakob/Johanna/Masterarbeit/corpus/Jugend/Jahrgang 2/all/103.jpg\n"
     ]
    },
    {
     "name": "stderr",
     "output_type": "stream",
     "text": [
      "/home/jakob/anaconda3/envs/JohannaProbiert/lib/python3.7/site-packages/ipykernel_launcher.py:13: UserWarning: /home/jakob/Johanna/Masterarbeit/corpus/Jugend/Jahrgang 2/bin/103.png is a boolean image: setting True to 255 and False to 0. To silence this warning, please convert the image using img_as_ubyte.\n",
      "  del sys.path[0]\n",
      "Lossy conversion from float64 to uint8. Range [0, 1]. Convert image to uint8 prior to saving to suppress this warning.\n"
     ]
    },
    {
     "name": "stdout",
     "output_type": "stream",
     "text": [
      "/home/jakob/Johanna/Masterarbeit/corpus/Jugend/Jahrgang 2/all/256.jpg\n"
     ]
    },
    {
     "name": "stderr",
     "output_type": "stream",
     "text": [
      "/home/jakob/anaconda3/envs/JohannaProbiert/lib/python3.7/site-packages/ipykernel_launcher.py:13: UserWarning: /home/jakob/Johanna/Masterarbeit/corpus/Jugend/Jahrgang 2/bin/256.png is a boolean image: setting True to 255 and False to 0. To silence this warning, please convert the image using img_as_ubyte.\n",
      "  del sys.path[0]\n",
      "Lossy conversion from float64 to uint8. Range [0, 1]. Convert image to uint8 prior to saving to suppress this warning.\n"
     ]
    },
    {
     "name": "stdout",
     "output_type": "stream",
     "text": [
      "/home/jakob/Johanna/Masterarbeit/corpus/Jugend/Jahrgang 2/all/80.jpg\n"
     ]
    },
    {
     "name": "stderr",
     "output_type": "stream",
     "text": [
      "/home/jakob/anaconda3/envs/JohannaProbiert/lib/python3.7/site-packages/ipykernel_launcher.py:13: UserWarning: /home/jakob/Johanna/Masterarbeit/corpus/Jugend/Jahrgang 2/bin/80.png is a boolean image: setting True to 255 and False to 0. To silence this warning, please convert the image using img_as_ubyte.\n",
      "  del sys.path[0]\n",
      "Lossy conversion from float64 to uint8. Range [0, 1]. Convert image to uint8 prior to saving to suppress this warning.\n"
     ]
    },
    {
     "name": "stdout",
     "output_type": "stream",
     "text": [
      "/home/jakob/Johanna/Masterarbeit/corpus/Jugend/Jahrgang 2/all/72.jpg\n"
     ]
    },
    {
     "name": "stderr",
     "output_type": "stream",
     "text": [
      "/home/jakob/anaconda3/envs/JohannaProbiert/lib/python3.7/site-packages/ipykernel_launcher.py:13: UserWarning: /home/jakob/Johanna/Masterarbeit/corpus/Jugend/Jahrgang 2/bin/72.png is a boolean image: setting True to 255 and False to 0. To silence this warning, please convert the image using img_as_ubyte.\n",
      "  del sys.path[0]\n",
      "Lossy conversion from float64 to uint8. Range [0, 1]. Convert image to uint8 prior to saving to suppress this warning.\n"
     ]
    },
    {
     "name": "stdout",
     "output_type": "stream",
     "text": [
      "/home/jakob/Johanna/Masterarbeit/corpus/Jugend/Jahrgang 2/all/5.jpg\n"
     ]
    },
    {
     "name": "stderr",
     "output_type": "stream",
     "text": [
      "/home/jakob/anaconda3/envs/JohannaProbiert/lib/python3.7/site-packages/ipykernel_launcher.py:13: UserWarning: /home/jakob/Johanna/Masterarbeit/corpus/Jugend/Jahrgang 2/bin/5.png is a boolean image: setting True to 255 and False to 0. To silence this warning, please convert the image using img_as_ubyte.\n",
      "  del sys.path[0]\n",
      "Lossy conversion from float64 to uint8. Range [0, 1]. Convert image to uint8 prior to saving to suppress this warning.\n"
     ]
    },
    {
     "name": "stdout",
     "output_type": "stream",
     "text": [
      "/home/jakob/Johanna/Masterarbeit/corpus/Jugend/Jahrgang 2/all/245.jpg\n"
     ]
    },
    {
     "name": "stderr",
     "output_type": "stream",
     "text": [
      "/home/jakob/anaconda3/envs/JohannaProbiert/lib/python3.7/site-packages/ipykernel_launcher.py:13: UserWarning: /home/jakob/Johanna/Masterarbeit/corpus/Jugend/Jahrgang 2/bin/245.png is a boolean image: setting True to 255 and False to 0. To silence this warning, please convert the image using img_as_ubyte.\n",
      "  del sys.path[0]\n",
      "Lossy conversion from float64 to uint8. Range [0, 1]. Convert image to uint8 prior to saving to suppress this warning.\n"
     ]
    },
    {
     "name": "stdout",
     "output_type": "stream",
     "text": [
      "/home/jakob/Johanna/Masterarbeit/corpus/Jugend/Jahrgang 2/all/187.jpg\n"
     ]
    },
    {
     "name": "stderr",
     "output_type": "stream",
     "text": [
      "/home/jakob/anaconda3/envs/JohannaProbiert/lib/python3.7/site-packages/ipykernel_launcher.py:13: UserWarning: /home/jakob/Johanna/Masterarbeit/corpus/Jugend/Jahrgang 2/bin/187.png is a boolean image: setting True to 255 and False to 0. To silence this warning, please convert the image using img_as_ubyte.\n",
      "  del sys.path[0]\n",
      "Lossy conversion from float64 to uint8. Range [0, 1]. Convert image to uint8 prior to saving to suppress this warning.\n"
     ]
    },
    {
     "name": "stdout",
     "output_type": "stream",
     "text": [
      "/home/jakob/Johanna/Masterarbeit/corpus/Jugend/Jahrgang 2/all/183.jpg\n"
     ]
    },
    {
     "name": "stderr",
     "output_type": "stream",
     "text": [
      "/home/jakob/anaconda3/envs/JohannaProbiert/lib/python3.7/site-packages/ipykernel_launcher.py:13: UserWarning: /home/jakob/Johanna/Masterarbeit/corpus/Jugend/Jahrgang 2/bin/183.png is a boolean image: setting True to 255 and False to 0. To silence this warning, please convert the image using img_as_ubyte.\n",
      "  del sys.path[0]\n",
      "Lossy conversion from float64 to uint8. Range [0, 1]. Convert image to uint8 prior to saving to suppress this warning.\n"
     ]
    },
    {
     "name": "stdout",
     "output_type": "stream",
     "text": [
      "/home/jakob/Johanna/Masterarbeit/corpus/Jugend/Jahrgang 2/all/30.jpg\n"
     ]
    },
    {
     "name": "stderr",
     "output_type": "stream",
     "text": [
      "/home/jakob/anaconda3/envs/JohannaProbiert/lib/python3.7/site-packages/ipykernel_launcher.py:13: UserWarning: /home/jakob/Johanna/Masterarbeit/corpus/Jugend/Jahrgang 2/bin/30.png is a boolean image: setting True to 255 and False to 0. To silence this warning, please convert the image using img_as_ubyte.\n",
      "  del sys.path[0]\n",
      "Lossy conversion from float64 to uint8. Range [0, 1]. Convert image to uint8 prior to saving to suppress this warning.\n"
     ]
    },
    {
     "name": "stdout",
     "output_type": "stream",
     "text": [
      "/home/jakob/Johanna/Masterarbeit/corpus/Jugend/Jahrgang 2/all/146.jpg\n"
     ]
    },
    {
     "name": "stderr",
     "output_type": "stream",
     "text": [
      "/home/jakob/anaconda3/envs/JohannaProbiert/lib/python3.7/site-packages/ipykernel_launcher.py:13: UserWarning: /home/jakob/Johanna/Masterarbeit/corpus/Jugend/Jahrgang 2/bin/146.png is a boolean image: setting True to 255 and False to 0. To silence this warning, please convert the image using img_as_ubyte.\n",
      "  del sys.path[0]\n",
      "Lossy conversion from float64 to uint8. Range [0, 1]. Convert image to uint8 prior to saving to suppress this warning.\n"
     ]
    },
    {
     "name": "stdout",
     "output_type": "stream",
     "text": [
      "/home/jakob/Johanna/Masterarbeit/corpus/Jugend/Jahrgang 2/all/4.jpg\n"
     ]
    },
    {
     "name": "stderr",
     "output_type": "stream",
     "text": [
      "/home/jakob/anaconda3/envs/JohannaProbiert/lib/python3.7/site-packages/ipykernel_launcher.py:13: UserWarning: /home/jakob/Johanna/Masterarbeit/corpus/Jugend/Jahrgang 2/bin/4.png is a boolean image: setting True to 255 and False to 0. To silence this warning, please convert the image using img_as_ubyte.\n",
      "  del sys.path[0]\n",
      "Lossy conversion from float64 to uint8. Range [0, 1]. Convert image to uint8 prior to saving to suppress this warning.\n"
     ]
    },
    {
     "name": "stdout",
     "output_type": "stream",
     "text": [
      "/home/jakob/Johanna/Masterarbeit/corpus/Jugend/Jahrgang 2/all/139.jpg\n"
     ]
    },
    {
     "name": "stderr",
     "output_type": "stream",
     "text": [
      "/home/jakob/anaconda3/envs/JohannaProbiert/lib/python3.7/site-packages/ipykernel_launcher.py:13: UserWarning: /home/jakob/Johanna/Masterarbeit/corpus/Jugend/Jahrgang 2/bin/139.png is a boolean image: setting True to 255 and False to 0. To silence this warning, please convert the image using img_as_ubyte.\n",
      "  del sys.path[0]\n",
      "Lossy conversion from float64 to uint8. Range [0, 1]. Convert image to uint8 prior to saving to suppress this warning.\n"
     ]
    },
    {
     "name": "stdout",
     "output_type": "stream",
     "text": [
      "/home/jakob/Johanna/Masterarbeit/corpus/Jugend/Jahrgang 2/all/117.jpg\n"
     ]
    },
    {
     "name": "stderr",
     "output_type": "stream",
     "text": [
      "/home/jakob/anaconda3/envs/JohannaProbiert/lib/python3.7/site-packages/ipykernel_launcher.py:13: UserWarning: /home/jakob/Johanna/Masterarbeit/corpus/Jugend/Jahrgang 2/bin/117.png is a boolean image: setting True to 255 and False to 0. To silence this warning, please convert the image using img_as_ubyte.\n",
      "  del sys.path[0]\n",
      "Lossy conversion from float64 to uint8. Range [0, 1]. Convert image to uint8 prior to saving to suppress this warning.\n"
     ]
    },
    {
     "name": "stdout",
     "output_type": "stream",
     "text": [
      "/home/jakob/Johanna/Masterarbeit/corpus/Jugend/Jahrgang 2/all/66.jpg\n"
     ]
    },
    {
     "name": "stderr",
     "output_type": "stream",
     "text": [
      "/home/jakob/anaconda3/envs/JohannaProbiert/lib/python3.7/site-packages/ipykernel_launcher.py:13: UserWarning: /home/jakob/Johanna/Masterarbeit/corpus/Jugend/Jahrgang 2/bin/66.png is a boolean image: setting True to 255 and False to 0. To silence this warning, please convert the image using img_as_ubyte.\n",
      "  del sys.path[0]\n",
      "Lossy conversion from float64 to uint8. Range [0, 1]. Convert image to uint8 prior to saving to suppress this warning.\n"
     ]
    },
    {
     "name": "stdout",
     "output_type": "stream",
     "text": [
      "/home/jakob/Johanna/Masterarbeit/corpus/Jugend/Jahrgang 2/all/98.jpg\n"
     ]
    },
    {
     "name": "stderr",
     "output_type": "stream",
     "text": [
      "/home/jakob/anaconda3/envs/JohannaProbiert/lib/python3.7/site-packages/ipykernel_launcher.py:13: UserWarning: /home/jakob/Johanna/Masterarbeit/corpus/Jugend/Jahrgang 2/bin/98.png is a boolean image: setting True to 255 and False to 0. To silence this warning, please convert the image using img_as_ubyte.\n",
      "  del sys.path[0]\n",
      "Lossy conversion from float64 to uint8. Range [0, 1]. Convert image to uint8 prior to saving to suppress this warning.\n"
     ]
    },
    {
     "name": "stdout",
     "output_type": "stream",
     "text": [
      "/home/jakob/Johanna/Masterarbeit/corpus/Jugend/Jahrgang 2/all/14.jpg\n"
     ]
    },
    {
     "name": "stderr",
     "output_type": "stream",
     "text": [
      "/home/jakob/anaconda3/envs/JohannaProbiert/lib/python3.7/site-packages/ipykernel_launcher.py:13: UserWarning: /home/jakob/Johanna/Masterarbeit/corpus/Jugend/Jahrgang 2/bin/14.png is a boolean image: setting True to 255 and False to 0. To silence this warning, please convert the image using img_as_ubyte.\n",
      "  del sys.path[0]\n",
      "Lossy conversion from float64 to uint8. Range [0, 1]. Convert image to uint8 prior to saving to suppress this warning.\n"
     ]
    },
    {
     "name": "stdout",
     "output_type": "stream",
     "text": [
      "/home/jakob/Johanna/Masterarbeit/corpus/Jugend/Jahrgang 2/all/154.jpg\n"
     ]
    },
    {
     "name": "stderr",
     "output_type": "stream",
     "text": [
      "/home/jakob/anaconda3/envs/JohannaProbiert/lib/python3.7/site-packages/ipykernel_launcher.py:13: UserWarning: /home/jakob/Johanna/Masterarbeit/corpus/Jugend/Jahrgang 2/bin/154.png is a boolean image: setting True to 255 and False to 0. To silence this warning, please convert the image using img_as_ubyte.\n",
      "  del sys.path[0]\n",
      "Lossy conversion from float64 to uint8. Range [0, 1]. Convert image to uint8 prior to saving to suppress this warning.\n"
     ]
    },
    {
     "name": "stdout",
     "output_type": "stream",
     "text": [
      "/home/jakob/Johanna/Masterarbeit/corpus/Jugend/Jahrgang 2/all/6.jpg\n"
     ]
    },
    {
     "name": "stderr",
     "output_type": "stream",
     "text": [
      "/home/jakob/anaconda3/envs/JohannaProbiert/lib/python3.7/site-packages/ipykernel_launcher.py:13: UserWarning: /home/jakob/Johanna/Masterarbeit/corpus/Jugend/Jahrgang 2/bin/6.png is a boolean image: setting True to 255 and False to 0. To silence this warning, please convert the image using img_as_ubyte.\n",
      "  del sys.path[0]\n",
      "Lossy conversion from float64 to uint8. Range [0, 1]. Convert image to uint8 prior to saving to suppress this warning.\n"
     ]
    },
    {
     "name": "stdout",
     "output_type": "stream",
     "text": [
      "/home/jakob/Johanna/Masterarbeit/corpus/Jugend/Jahrgang 2/all/165.jpg\n"
     ]
    },
    {
     "name": "stderr",
     "output_type": "stream",
     "text": [
      "/home/jakob/anaconda3/envs/JohannaProbiert/lib/python3.7/site-packages/ipykernel_launcher.py:13: UserWarning: /home/jakob/Johanna/Masterarbeit/corpus/Jugend/Jahrgang 2/bin/165.png is a boolean image: setting True to 255 and False to 0. To silence this warning, please convert the image using img_as_ubyte.\n",
      "  del sys.path[0]\n",
      "Lossy conversion from float64 to uint8. Range [0, 1]. Convert image to uint8 prior to saving to suppress this warning.\n"
     ]
    },
    {
     "name": "stdout",
     "output_type": "stream",
     "text": [
      "/home/jakob/Johanna/Masterarbeit/corpus/Jugend/Jahrgang 2/all/181.jpg\n"
     ]
    },
    {
     "name": "stderr",
     "output_type": "stream",
     "text": [
      "/home/jakob/anaconda3/envs/JohannaProbiert/lib/python3.7/site-packages/ipykernel_launcher.py:13: UserWarning: /home/jakob/Johanna/Masterarbeit/corpus/Jugend/Jahrgang 2/bin/181.png is a boolean image: setting True to 255 and False to 0. To silence this warning, please convert the image using img_as_ubyte.\n",
      "  del sys.path[0]\n",
      "Lossy conversion from float64 to uint8. Range [0, 1]. Convert image to uint8 prior to saving to suppress this warning.\n"
     ]
    },
    {
     "name": "stdout",
     "output_type": "stream",
     "text": [
      "/home/jakob/Johanna/Masterarbeit/corpus/Jugend/Jahrgang 2/all/255.jpg\n"
     ]
    },
    {
     "name": "stderr",
     "output_type": "stream",
     "text": [
      "/home/jakob/anaconda3/envs/JohannaProbiert/lib/python3.7/site-packages/ipykernel_launcher.py:13: UserWarning: /home/jakob/Johanna/Masterarbeit/corpus/Jugend/Jahrgang 2/bin/255.png is a boolean image: setting True to 255 and False to 0. To silence this warning, please convert the image using img_as_ubyte.\n",
      "  del sys.path[0]\n",
      "Lossy conversion from float64 to uint8. Range [0, 1]. Convert image to uint8 prior to saving to suppress this warning.\n"
     ]
    },
    {
     "name": "stdout",
     "output_type": "stream",
     "text": [
      "/home/jakob/Johanna/Masterarbeit/corpus/Jugend/Jahrgang 2/all/233.jpg\n"
     ]
    },
    {
     "name": "stderr",
     "output_type": "stream",
     "text": [
      "/home/jakob/anaconda3/envs/JohannaProbiert/lib/python3.7/site-packages/ipykernel_launcher.py:13: UserWarning: /home/jakob/Johanna/Masterarbeit/corpus/Jugend/Jahrgang 2/bin/233.png is a boolean image: setting True to 255 and False to 0. To silence this warning, please convert the image using img_as_ubyte.\n",
      "  del sys.path[0]\n",
      "Lossy conversion from float64 to uint8. Range [0, 1]. Convert image to uint8 prior to saving to suppress this warning.\n"
     ]
    },
    {
     "name": "stdout",
     "output_type": "stream",
     "text": [
      "/home/jakob/Johanna/Masterarbeit/corpus/Jugend/Jahrgang 2/all/54.jpg\n"
     ]
    },
    {
     "name": "stderr",
     "output_type": "stream",
     "text": [
      "/home/jakob/anaconda3/envs/JohannaProbiert/lib/python3.7/site-packages/ipykernel_launcher.py:13: UserWarning: /home/jakob/Johanna/Masterarbeit/corpus/Jugend/Jahrgang 2/bin/54.png is a boolean image: setting True to 255 and False to 0. To silence this warning, please convert the image using img_as_ubyte.\n",
      "  del sys.path[0]\n",
      "Lossy conversion from float64 to uint8. Range [0, 1]. Convert image to uint8 prior to saving to suppress this warning.\n"
     ]
    },
    {
     "name": "stdout",
     "output_type": "stream",
     "text": [
      "/home/jakob/Johanna/Masterarbeit/corpus/Jugend/Jahrgang 2/all/209.jpg\n"
     ]
    },
    {
     "name": "stderr",
     "output_type": "stream",
     "text": [
      "/home/jakob/anaconda3/envs/JohannaProbiert/lib/python3.7/site-packages/ipykernel_launcher.py:13: UserWarning: /home/jakob/Johanna/Masterarbeit/corpus/Jugend/Jahrgang 2/bin/209.png is a boolean image: setting True to 255 and False to 0. To silence this warning, please convert the image using img_as_ubyte.\n",
      "  del sys.path[0]\n",
      "Lossy conversion from float64 to uint8. Range [0, 1]. Convert image to uint8 prior to saving to suppress this warning.\n"
     ]
    },
    {
     "name": "stdout",
     "output_type": "stream",
     "text": [
      "/home/jakob/Johanna/Masterarbeit/corpus/Jugend/Jahrgang 2/all/227.jpg\n"
     ]
    },
    {
     "name": "stderr",
     "output_type": "stream",
     "text": [
      "/home/jakob/anaconda3/envs/JohannaProbiert/lib/python3.7/site-packages/ipykernel_launcher.py:13: UserWarning: /home/jakob/Johanna/Masterarbeit/corpus/Jugend/Jahrgang 2/bin/227.png is a boolean image: setting True to 255 and False to 0. To silence this warning, please convert the image using img_as_ubyte.\n",
      "  del sys.path[0]\n",
      "Lossy conversion from float64 to uint8. Range [0, 1]. Convert image to uint8 prior to saving to suppress this warning.\n"
     ]
    },
    {
     "name": "stdout",
     "output_type": "stream",
     "text": [
      "/home/jakob/Johanna/Masterarbeit/corpus/Jugend/Jahrgang 2/all/39.jpg\n"
     ]
    },
    {
     "name": "stderr",
     "output_type": "stream",
     "text": [
      "/home/jakob/anaconda3/envs/JohannaProbiert/lib/python3.7/site-packages/ipykernel_launcher.py:13: UserWarning: /home/jakob/Johanna/Masterarbeit/corpus/Jugend/Jahrgang 2/bin/39.png is a boolean image: setting True to 255 and False to 0. To silence this warning, please convert the image using img_as_ubyte.\n",
      "  del sys.path[0]\n",
      "Lossy conversion from float64 to uint8. Range [0, 1]. Convert image to uint8 prior to saving to suppress this warning.\n"
     ]
    },
    {
     "name": "stdout",
     "output_type": "stream",
     "text": [
      "/home/jakob/Johanna/Masterarbeit/corpus/Jugend/Jahrgang 2/all/142.jpg\n"
     ]
    },
    {
     "name": "stderr",
     "output_type": "stream",
     "text": [
      "/home/jakob/anaconda3/envs/JohannaProbiert/lib/python3.7/site-packages/ipykernel_launcher.py:13: UserWarning: /home/jakob/Johanna/Masterarbeit/corpus/Jugend/Jahrgang 2/bin/142.png is a boolean image: setting True to 255 and False to 0. To silence this warning, please convert the image using img_as_ubyte.\n",
      "  del sys.path[0]\n",
      "Lossy conversion from float64 to uint8. Range [0, 1]. Convert image to uint8 prior to saving to suppress this warning.\n"
     ]
    },
    {
     "name": "stdout",
     "output_type": "stream",
     "text": [
      "/home/jakob/Johanna/Masterarbeit/corpus/Jugend/Jahrgang 2/all/87.jpg\n"
     ]
    },
    {
     "name": "stderr",
     "output_type": "stream",
     "text": [
      "/home/jakob/anaconda3/envs/JohannaProbiert/lib/python3.7/site-packages/ipykernel_launcher.py:13: UserWarning: /home/jakob/Johanna/Masterarbeit/corpus/Jugend/Jahrgang 2/bin/87.png is a boolean image: setting True to 255 and False to 0. To silence this warning, please convert the image using img_as_ubyte.\n",
      "  del sys.path[0]\n",
      "Lossy conversion from float64 to uint8. Range [0, 1]. Convert image to uint8 prior to saving to suppress this warning.\n"
     ]
    },
    {
     "name": "stdout",
     "output_type": "stream",
     "text": [
      "/home/jakob/Johanna/Masterarbeit/corpus/Jugend/Jahrgang 2/all/186.jpg\n"
     ]
    },
    {
     "name": "stderr",
     "output_type": "stream",
     "text": [
      "/home/jakob/anaconda3/envs/JohannaProbiert/lib/python3.7/site-packages/ipykernel_launcher.py:13: UserWarning: /home/jakob/Johanna/Masterarbeit/corpus/Jugend/Jahrgang 2/bin/186.png is a boolean image: setting True to 255 and False to 0. To silence this warning, please convert the image using img_as_ubyte.\n",
      "  del sys.path[0]\n",
      "Lossy conversion from float64 to uint8. Range [0, 1]. Convert image to uint8 prior to saving to suppress this warning.\n"
     ]
    },
    {
     "name": "stdout",
     "output_type": "stream",
     "text": [
      "/home/jakob/Johanna/Masterarbeit/corpus/Jugend/Jahrgang 2/all/253.jpg\n"
     ]
    },
    {
     "name": "stderr",
     "output_type": "stream",
     "text": [
      "/home/jakob/anaconda3/envs/JohannaProbiert/lib/python3.7/site-packages/ipykernel_launcher.py:13: UserWarning: /home/jakob/Johanna/Masterarbeit/corpus/Jugend/Jahrgang 2/bin/253.png is a boolean image: setting True to 255 and False to 0. To silence this warning, please convert the image using img_as_ubyte.\n",
      "  del sys.path[0]\n",
      "Lossy conversion from float64 to uint8. Range [0, 1]. Convert image to uint8 prior to saving to suppress this warning.\n"
     ]
    },
    {
     "name": "stdout",
     "output_type": "stream",
     "text": [
      "/home/jakob/Johanna/Masterarbeit/corpus/Jugend/Jahrgang 2/all/12.jpg\n"
     ]
    },
    {
     "name": "stderr",
     "output_type": "stream",
     "text": [
      "/home/jakob/anaconda3/envs/JohannaProbiert/lib/python3.7/site-packages/ipykernel_launcher.py:13: UserWarning: /home/jakob/Johanna/Masterarbeit/corpus/Jugend/Jahrgang 2/bin/12.png is a boolean image: setting True to 255 and False to 0. To silence this warning, please convert the image using img_as_ubyte.\n",
      "  del sys.path[0]\n",
      "Lossy conversion from float64 to uint8. Range [0, 1]. Convert image to uint8 prior to saving to suppress this warning.\n"
     ]
    },
    {
     "name": "stdout",
     "output_type": "stream",
     "text": [
      "/home/jakob/Johanna/Masterarbeit/corpus/Jugend/Jahrgang 2/all/40.jpg\n"
     ]
    },
    {
     "name": "stderr",
     "output_type": "stream",
     "text": [
      "/home/jakob/anaconda3/envs/JohannaProbiert/lib/python3.7/site-packages/ipykernel_launcher.py:13: UserWarning: /home/jakob/Johanna/Masterarbeit/corpus/Jugend/Jahrgang 2/bin/40.png is a boolean image: setting True to 255 and False to 0. To silence this warning, please convert the image using img_as_ubyte.\n",
      "  del sys.path[0]\n",
      "Lossy conversion from float64 to uint8. Range [0, 1]. Convert image to uint8 prior to saving to suppress this warning.\n"
     ]
    },
    {
     "name": "stdout",
     "output_type": "stream",
     "text": [
      "/home/jakob/Johanna/Masterarbeit/corpus/Jugend/Jahrgang 2/all/70.jpg\n"
     ]
    },
    {
     "name": "stderr",
     "output_type": "stream",
     "text": [
      "/home/jakob/anaconda3/envs/JohannaProbiert/lib/python3.7/site-packages/ipykernel_launcher.py:13: UserWarning: /home/jakob/Johanna/Masterarbeit/corpus/Jugend/Jahrgang 2/bin/70.png is a boolean image: setting True to 255 and False to 0. To silence this warning, please convert the image using img_as_ubyte.\n",
      "  del sys.path[0]\n",
      "Lossy conversion from float64 to uint8. Range [0, 1]. Convert image to uint8 prior to saving to suppress this warning.\n"
     ]
    },
    {
     "name": "stdout",
     "output_type": "stream",
     "text": [
      "/home/jakob/Johanna/Masterarbeit/corpus/Jugend/Jahrgang 2/all/238.jpg\n"
     ]
    },
    {
     "name": "stderr",
     "output_type": "stream",
     "text": [
      "/home/jakob/anaconda3/envs/JohannaProbiert/lib/python3.7/site-packages/ipykernel_launcher.py:13: UserWarning: /home/jakob/Johanna/Masterarbeit/corpus/Jugend/Jahrgang 2/bin/238.png is a boolean image: setting True to 255 and False to 0. To silence this warning, please convert the image using img_as_ubyte.\n",
      "  del sys.path[0]\n",
      "Lossy conversion from float64 to uint8. Range [0, 1]. Convert image to uint8 prior to saving to suppress this warning.\n"
     ]
    },
    {
     "name": "stdout",
     "output_type": "stream",
     "text": [
      "/home/jakob/Johanna/Masterarbeit/corpus/Jugend/Jahrgang 2/all/53.jpg\n"
     ]
    },
    {
     "name": "stderr",
     "output_type": "stream",
     "text": [
      "/home/jakob/anaconda3/envs/JohannaProbiert/lib/python3.7/site-packages/ipykernel_launcher.py:13: UserWarning: /home/jakob/Johanna/Masterarbeit/corpus/Jugend/Jahrgang 2/bin/53.png is a boolean image: setting True to 255 and False to 0. To silence this warning, please convert the image using img_as_ubyte.\n",
      "  del sys.path[0]\n",
      "Lossy conversion from float64 to uint8. Range [0, 1]. Convert image to uint8 prior to saving to suppress this warning.\n"
     ]
    },
    {
     "name": "stdout",
     "output_type": "stream",
     "text": [
      "/home/jakob/Johanna/Masterarbeit/corpus/Jugend/Jahrgang 2/all/36.jpg\n"
     ]
    },
    {
     "name": "stderr",
     "output_type": "stream",
     "text": [
      "/home/jakob/anaconda3/envs/JohannaProbiert/lib/python3.7/site-packages/ipykernel_launcher.py:13: UserWarning: /home/jakob/Johanna/Masterarbeit/corpus/Jugend/Jahrgang 2/bin/36.png is a boolean image: setting True to 255 and False to 0. To silence this warning, please convert the image using img_as_ubyte.\n",
      "  del sys.path[0]\n",
      "Lossy conversion from float64 to uint8. Range [0, 1]. Convert image to uint8 prior to saving to suppress this warning.\n"
     ]
    },
    {
     "name": "stdout",
     "output_type": "stream",
     "text": [
      "/home/jakob/Johanna/Masterarbeit/corpus/Jugend/Jahrgang 2/all/50.jpg\n"
     ]
    },
    {
     "name": "stderr",
     "output_type": "stream",
     "text": [
      "/home/jakob/anaconda3/envs/JohannaProbiert/lib/python3.7/site-packages/ipykernel_launcher.py:13: UserWarning: /home/jakob/Johanna/Masterarbeit/corpus/Jugend/Jahrgang 2/bin/50.png is a boolean image: setting True to 255 and False to 0. To silence this warning, please convert the image using img_as_ubyte.\n",
      "  del sys.path[0]\n",
      "Lossy conversion from float64 to uint8. Range [0, 1]. Convert image to uint8 prior to saving to suppress this warning.\n"
     ]
    },
    {
     "name": "stdout",
     "output_type": "stream",
     "text": [
      "/home/jakob/Johanna/Masterarbeit/corpus/Jugend/Jahrgang 2/all/228.jpg\n"
     ]
    },
    {
     "name": "stderr",
     "output_type": "stream",
     "text": [
      "/home/jakob/anaconda3/envs/JohannaProbiert/lib/python3.7/site-packages/ipykernel_launcher.py:13: UserWarning: /home/jakob/Johanna/Masterarbeit/corpus/Jugend/Jahrgang 2/bin/228.png is a boolean image: setting True to 255 and False to 0. To silence this warning, please convert the image using img_as_ubyte.\n",
      "  del sys.path[0]\n",
      "Lossy conversion from float64 to uint8. Range [0, 1]. Convert image to uint8 prior to saving to suppress this warning.\n"
     ]
    },
    {
     "name": "stdout",
     "output_type": "stream",
     "text": [
      "/home/jakob/Johanna/Masterarbeit/corpus/Jugend/Jahrgang 2/all/214.jpg\n"
     ]
    },
    {
     "name": "stderr",
     "output_type": "stream",
     "text": [
      "/home/jakob/anaconda3/envs/JohannaProbiert/lib/python3.7/site-packages/ipykernel_launcher.py:13: UserWarning: /home/jakob/Johanna/Masterarbeit/corpus/Jugend/Jahrgang 2/bin/214.png is a boolean image: setting True to 255 and False to 0. To silence this warning, please convert the image using img_as_ubyte.\n",
      "  del sys.path[0]\n",
      "Lossy conversion from float64 to uint8. Range [0, 1]. Convert image to uint8 prior to saving to suppress this warning.\n"
     ]
    },
    {
     "name": "stdout",
     "output_type": "stream",
     "text": [
      "/home/jakob/Johanna/Masterarbeit/corpus/Jugend/Jahrgang 2/all/261.jpg\n"
     ]
    },
    {
     "name": "stderr",
     "output_type": "stream",
     "text": [
      "/home/jakob/anaconda3/envs/JohannaProbiert/lib/python3.7/site-packages/ipykernel_launcher.py:13: UserWarning: /home/jakob/Johanna/Masterarbeit/corpus/Jugend/Jahrgang 2/bin/261.png is a boolean image: setting True to 255 and False to 0. To silence this warning, please convert the image using img_as_ubyte.\n",
      "  del sys.path[0]\n",
      "Lossy conversion from float64 to uint8. Range [0, 1]. Convert image to uint8 prior to saving to suppress this warning.\n"
     ]
    },
    {
     "name": "stdout",
     "output_type": "stream",
     "text": [
      "/home/jakob/Johanna/Masterarbeit/corpus/Jugend/Jahrgang 2/all/211.jpg\n"
     ]
    },
    {
     "name": "stderr",
     "output_type": "stream",
     "text": [
      "/home/jakob/anaconda3/envs/JohannaProbiert/lib/python3.7/site-packages/ipykernel_launcher.py:13: UserWarning: /home/jakob/Johanna/Masterarbeit/corpus/Jugend/Jahrgang 2/bin/211.png is a boolean image: setting True to 255 and False to 0. To silence this warning, please convert the image using img_as_ubyte.\n",
      "  del sys.path[0]\n",
      "Lossy conversion from float64 to uint8. Range [0, 1]. Convert image to uint8 prior to saving to suppress this warning.\n"
     ]
    },
    {
     "name": "stdout",
     "output_type": "stream",
     "text": [
      "/home/jakob/Johanna/Masterarbeit/corpus/Jugend/Jahrgang 2/all/191.jpg\n"
     ]
    },
    {
     "name": "stderr",
     "output_type": "stream",
     "text": [
      "/home/jakob/anaconda3/envs/JohannaProbiert/lib/python3.7/site-packages/ipykernel_launcher.py:13: UserWarning: /home/jakob/Johanna/Masterarbeit/corpus/Jugend/Jahrgang 2/bin/191.png is a boolean image: setting True to 255 and False to 0. To silence this warning, please convert the image using img_as_ubyte.\n",
      "  del sys.path[0]\n",
      "Lossy conversion from float64 to uint8. Range [0, 1]. Convert image to uint8 prior to saving to suppress this warning.\n"
     ]
    },
    {
     "name": "stdout",
     "output_type": "stream",
     "text": [
      "/home/jakob/Johanna/Masterarbeit/corpus/Jugend/Jahrgang 2/all/78.jpg\n"
     ]
    },
    {
     "name": "stderr",
     "output_type": "stream",
     "text": [
      "/home/jakob/anaconda3/envs/JohannaProbiert/lib/python3.7/site-packages/ipykernel_launcher.py:13: UserWarning: /home/jakob/Johanna/Masterarbeit/corpus/Jugend/Jahrgang 2/bin/78.png is a boolean image: setting True to 255 and False to 0. To silence this warning, please convert the image using img_as_ubyte.\n",
      "  del sys.path[0]\n",
      "Lossy conversion from float64 to uint8. Range [0, 1]. Convert image to uint8 prior to saving to suppress this warning.\n"
     ]
    },
    {
     "name": "stdout",
     "output_type": "stream",
     "text": [
      "/home/jakob/Johanna/Masterarbeit/corpus/Jugend/Jahrgang 2/all/13.jpg\n"
     ]
    },
    {
     "name": "stderr",
     "output_type": "stream",
     "text": [
      "/home/jakob/anaconda3/envs/JohannaProbiert/lib/python3.7/site-packages/ipykernel_launcher.py:13: UserWarning: /home/jakob/Johanna/Masterarbeit/corpus/Jugend/Jahrgang 2/bin/13.png is a boolean image: setting True to 255 and False to 0. To silence this warning, please convert the image using img_as_ubyte.\n",
      "  del sys.path[0]\n",
      "Lossy conversion from float64 to uint8. Range [0, 1]. Convert image to uint8 prior to saving to suppress this warning.\n"
     ]
    },
    {
     "name": "stdout",
     "output_type": "stream",
     "text": [
      "/home/jakob/Johanna/Masterarbeit/corpus/Jugend/Jahrgang 2/all/61.jpg\n"
     ]
    },
    {
     "name": "stderr",
     "output_type": "stream",
     "text": [
      "/home/jakob/anaconda3/envs/JohannaProbiert/lib/python3.7/site-packages/ipykernel_launcher.py:13: UserWarning: /home/jakob/Johanna/Masterarbeit/corpus/Jugend/Jahrgang 2/bin/61.png is a boolean image: setting True to 255 and False to 0. To silence this warning, please convert the image using img_as_ubyte.\n",
      "  del sys.path[0]\n",
      "Lossy conversion from float64 to uint8. Range [0, 1]. Convert image to uint8 prior to saving to suppress this warning.\n"
     ]
    },
    {
     "name": "stdout",
     "output_type": "stream",
     "text": [
      "/home/jakob/Johanna/Masterarbeit/corpus/Jugend/Jahrgang 2/all/2.jpg\n"
     ]
    },
    {
     "name": "stderr",
     "output_type": "stream",
     "text": [
      "/home/jakob/anaconda3/envs/JohannaProbiert/lib/python3.7/site-packages/ipykernel_launcher.py:13: UserWarning: /home/jakob/Johanna/Masterarbeit/corpus/Jugend/Jahrgang 2/bin/2.png is a boolean image: setting True to 255 and False to 0. To silence this warning, please convert the image using img_as_ubyte.\n",
      "  del sys.path[0]\n",
      "Lossy conversion from float64 to uint8. Range [0, 1]. Convert image to uint8 prior to saving to suppress this warning.\n"
     ]
    },
    {
     "name": "stdout",
     "output_type": "stream",
     "text": [
      "/home/jakob/Johanna/Masterarbeit/corpus/Jugend/Jahrgang 2/all/43.jpg\n"
     ]
    },
    {
     "name": "stderr",
     "output_type": "stream",
     "text": [
      "/home/jakob/anaconda3/envs/JohannaProbiert/lib/python3.7/site-packages/ipykernel_launcher.py:13: UserWarning: /home/jakob/Johanna/Masterarbeit/corpus/Jugend/Jahrgang 2/bin/43.png is a boolean image: setting True to 255 and False to 0. To silence this warning, please convert the image using img_as_ubyte.\n",
      "  del sys.path[0]\n",
      "Lossy conversion from float64 to uint8. Range [0, 1]. Convert image to uint8 prior to saving to suppress this warning.\n"
     ]
    },
    {
     "name": "stdout",
     "output_type": "stream",
     "text": [
      "/home/jakob/Johanna/Masterarbeit/corpus/Jugend/Jahrgang 2/all/237.jpg\n"
     ]
    },
    {
     "name": "stderr",
     "output_type": "stream",
     "text": [
      "/home/jakob/anaconda3/envs/JohannaProbiert/lib/python3.7/site-packages/ipykernel_launcher.py:13: UserWarning: /home/jakob/Johanna/Masterarbeit/corpus/Jugend/Jahrgang 2/bin/237.png is a boolean image: setting True to 255 and False to 0. To silence this warning, please convert the image using img_as_ubyte.\n",
      "  del sys.path[0]\n",
      "Lossy conversion from float64 to uint8. Range [0, 1]. Convert image to uint8 prior to saving to suppress this warning.\n"
     ]
    },
    {
     "name": "stdout",
     "output_type": "stream",
     "text": [
      "/home/jakob/Johanna/Masterarbeit/corpus/Jugend/Jahrgang 2/all/65.jpg\n"
     ]
    },
    {
     "name": "stderr",
     "output_type": "stream",
     "text": [
      "/home/jakob/anaconda3/envs/JohannaProbiert/lib/python3.7/site-packages/ipykernel_launcher.py:13: UserWarning: /home/jakob/Johanna/Masterarbeit/corpus/Jugend/Jahrgang 2/bin/65.png is a boolean image: setting True to 255 and False to 0. To silence this warning, please convert the image using img_as_ubyte.\n",
      "  del sys.path[0]\n",
      "Lossy conversion from float64 to uint8. Range [0, 1]. Convert image to uint8 prior to saving to suppress this warning.\n"
     ]
    },
    {
     "name": "stdout",
     "output_type": "stream",
     "text": [
      "/home/jakob/Johanna/Masterarbeit/corpus/Jugend/Jahrgang 2/all/210.jpg\n"
     ]
    },
    {
     "name": "stderr",
     "output_type": "stream",
     "text": [
      "/home/jakob/anaconda3/envs/JohannaProbiert/lib/python3.7/site-packages/ipykernel_launcher.py:13: UserWarning: /home/jakob/Johanna/Masterarbeit/corpus/Jugend/Jahrgang 2/bin/210.png is a boolean image: setting True to 255 and False to 0. To silence this warning, please convert the image using img_as_ubyte.\n",
      "  del sys.path[0]\n",
      "Lossy conversion from float64 to uint8. Range [0, 1]. Convert image to uint8 prior to saving to suppress this warning.\n"
     ]
    },
    {
     "name": "stdout",
     "output_type": "stream",
     "text": [
      "/home/jakob/Johanna/Masterarbeit/corpus/Jugend/Jahrgang 2/all/88.jpg\n"
     ]
    },
    {
     "name": "stderr",
     "output_type": "stream",
     "text": [
      "/home/jakob/anaconda3/envs/JohannaProbiert/lib/python3.7/site-packages/ipykernel_launcher.py:13: UserWarning: /home/jakob/Johanna/Masterarbeit/corpus/Jugend/Jahrgang 2/bin/88.png is a boolean image: setting True to 255 and False to 0. To silence this warning, please convert the image using img_as_ubyte.\n",
      "  del sys.path[0]\n",
      "Lossy conversion from float64 to uint8. Range [0, 1]. Convert image to uint8 prior to saving to suppress this warning.\n"
     ]
    },
    {
     "name": "stdout",
     "output_type": "stream",
     "text": [
      "/home/jakob/Johanna/Masterarbeit/corpus/Jugend/Jahrgang 2/all/24.jpg\n"
     ]
    },
    {
     "name": "stderr",
     "output_type": "stream",
     "text": [
      "/home/jakob/anaconda3/envs/JohannaProbiert/lib/python3.7/site-packages/ipykernel_launcher.py:13: UserWarning: /home/jakob/Johanna/Masterarbeit/corpus/Jugend/Jahrgang 2/bin/24.png is a boolean image: setting True to 255 and False to 0. To silence this warning, please convert the image using img_as_ubyte.\n",
      "  del sys.path[0]\n",
      "Lossy conversion from float64 to uint8. Range [0, 1]. Convert image to uint8 prior to saving to suppress this warning.\n"
     ]
    },
    {
     "name": "stdout",
     "output_type": "stream",
     "text": [
      "/home/jakob/Johanna/Masterarbeit/corpus/Jugend/Jahrgang 2/all/38.jpg\n"
     ]
    },
    {
     "name": "stderr",
     "output_type": "stream",
     "text": [
      "/home/jakob/anaconda3/envs/JohannaProbiert/lib/python3.7/site-packages/ipykernel_launcher.py:13: UserWarning: /home/jakob/Johanna/Masterarbeit/corpus/Jugend/Jahrgang 2/bin/38.png is a boolean image: setting True to 255 and False to 0. To silence this warning, please convert the image using img_as_ubyte.\n",
      "  del sys.path[0]\n",
      "Lossy conversion from float64 to uint8. Range [0, 1]. Convert image to uint8 prior to saving to suppress this warning.\n"
     ]
    },
    {
     "name": "stdout",
     "output_type": "stream",
     "text": [
      "/home/jakob/Johanna/Masterarbeit/corpus/Jugend/Jahrgang 2/all/240.jpg\n"
     ]
    },
    {
     "name": "stderr",
     "output_type": "stream",
     "text": [
      "/home/jakob/anaconda3/envs/JohannaProbiert/lib/python3.7/site-packages/ipykernel_launcher.py:13: UserWarning: /home/jakob/Johanna/Masterarbeit/corpus/Jugend/Jahrgang 2/bin/240.png is a boolean image: setting True to 255 and False to 0. To silence this warning, please convert the image using img_as_ubyte.\n",
      "  del sys.path[0]\n",
      "Lossy conversion from float64 to uint8. Range [0, 1]. Convert image to uint8 prior to saving to suppress this warning.\n"
     ]
    },
    {
     "name": "stdout",
     "output_type": "stream",
     "text": [
      "/home/jakob/Johanna/Masterarbeit/corpus/Jugend/Jahrgang 2/all/69.jpg\n"
     ]
    },
    {
     "name": "stderr",
     "output_type": "stream",
     "text": [
      "/home/jakob/anaconda3/envs/JohannaProbiert/lib/python3.7/site-packages/ipykernel_launcher.py:13: UserWarning: /home/jakob/Johanna/Masterarbeit/corpus/Jugend/Jahrgang 2/bin/69.png is a boolean image: setting True to 255 and False to 0. To silence this warning, please convert the image using img_as_ubyte.\n",
      "  del sys.path[0]\n",
      "Lossy conversion from float64 to uint8. Range [0, 1]. Convert image to uint8 prior to saving to suppress this warning.\n"
     ]
    },
    {
     "name": "stdout",
     "output_type": "stream",
     "text": [
      "/home/jakob/Johanna/Masterarbeit/corpus/Jugend/Jahrgang 2/all/89.jpg\n"
     ]
    },
    {
     "name": "stderr",
     "output_type": "stream",
     "text": [
      "/home/jakob/anaconda3/envs/JohannaProbiert/lib/python3.7/site-packages/ipykernel_launcher.py:13: UserWarning: /home/jakob/Johanna/Masterarbeit/corpus/Jugend/Jahrgang 2/bin/89.png is a boolean image: setting True to 255 and False to 0. To silence this warning, please convert the image using img_as_ubyte.\n",
      "  del sys.path[0]\n",
      "Lossy conversion from float64 to uint8. Range [0, 1]. Convert image to uint8 prior to saving to suppress this warning.\n"
     ]
    },
    {
     "name": "stdout",
     "output_type": "stream",
     "text": [
      "/home/jakob/Johanna/Masterarbeit/corpus/Jugend/Jahrgang 2/all/55.jpg\n"
     ]
    },
    {
     "name": "stderr",
     "output_type": "stream",
     "text": [
      "/home/jakob/anaconda3/envs/JohannaProbiert/lib/python3.7/site-packages/ipykernel_launcher.py:13: UserWarning: /home/jakob/Johanna/Masterarbeit/corpus/Jugend/Jahrgang 2/bin/55.png is a boolean image: setting True to 255 and False to 0. To silence this warning, please convert the image using img_as_ubyte.\n",
      "  del sys.path[0]\n",
      "Lossy conversion from float64 to uint8. Range [0, 1]. Convert image to uint8 prior to saving to suppress this warning.\n"
     ]
    },
    {
     "name": "stdout",
     "output_type": "stream",
     "text": [
      "/home/jakob/Johanna/Masterarbeit/corpus/Jugend/Jahrgang 2/all/96.jpg\n"
     ]
    },
    {
     "name": "stderr",
     "output_type": "stream",
     "text": [
      "/home/jakob/anaconda3/envs/JohannaProbiert/lib/python3.7/site-packages/ipykernel_launcher.py:13: UserWarning: /home/jakob/Johanna/Masterarbeit/corpus/Jugend/Jahrgang 2/bin/96.png is a boolean image: setting True to 255 and False to 0. To silence this warning, please convert the image using img_as_ubyte.\n",
      "  del sys.path[0]\n",
      "Lossy conversion from float64 to uint8. Range [0, 1]. Convert image to uint8 prior to saving to suppress this warning.\n"
     ]
    },
    {
     "name": "stdout",
     "output_type": "stream",
     "text": [
      "/home/jakob/Johanna/Masterarbeit/corpus/Jugend/Jahrgang 2/all/74.jpg\n"
     ]
    },
    {
     "name": "stderr",
     "output_type": "stream",
     "text": [
      "/home/jakob/anaconda3/envs/JohannaProbiert/lib/python3.7/site-packages/ipykernel_launcher.py:13: UserWarning: /home/jakob/Johanna/Masterarbeit/corpus/Jugend/Jahrgang 2/bin/74.png is a boolean image: setting True to 255 and False to 0. To silence this warning, please convert the image using img_as_ubyte.\n",
      "  del sys.path[0]\n"
     ]
    },
    {
     "name": "stdout",
     "output_type": "stream",
     "text": [
      "Preprocessed 264 pictures\n"
     ]
    }
   ],
   "source": [
    "count = 0\n",
    "for filename in os.listdir(input_path):\n",
    "    print(input_path+filename)\n",
    "    #if filename != \"sturm1910_1911_0099.jpg\":\n",
    "     #  continue\n",
    "    # Open Image\n",
    "    image = imread(input_path+filename)\n",
    "    # Create grayscale image and save\n",
    "    grayscale = rgb2gray(image)\n",
    "    imsave(gray_path+filename, grayscale)\n",
    "    # Create binary image and save\n",
    "    binary = make_binary(grayscale)\n",
    "    imsave(bin_path+filename[:-4]+\".png\", binary)\n",
    "    count += 1\n",
    "\n",
    "print(\"Preprocessed \" + str(count) + \" pictures\")"
   ]
  },
  {
   "cell_type": "code",
   "execution_count": null,
   "metadata": {},
   "outputs": [],
   "source": []
  }
 ],
 "metadata": {
  "interpreter": {
   "hash": "ac59ebe37160ed0dfa835113d9b8498d9f09ceb179beaac4002f036b9467c963"
  },
  "kernelspec": {
   "display_name": "Python 3.9.6 64-bit",
   "name": "python3"
  },
  "language_info": {
   "codemirror_mode": {
    "name": "ipython",
    "version": 3
   },
   "file_extension": ".py",
   "mimetype": "text/x-python",
   "name": "python",
   "nbconvert_exporter": "python",
   "pygments_lexer": "ipython3",
   "version": "3.7.11"
  },
  "orig_nbformat": 4
 },
 "nbformat": 4,
 "nbformat_minor": 2
}
